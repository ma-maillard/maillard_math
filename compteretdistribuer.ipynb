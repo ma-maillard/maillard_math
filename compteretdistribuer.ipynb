{
 "cells": [
  {
   "cell_type": "code",
   "execution_count": 1,
   "id": "c745ea93-1208-4e87-a516-8399943fd07b",
   "metadata": {
    "tags": []
   },
   "outputs": [],
   "source": [
    "import sqlite3 as sql\n",
    "import altair as alt\n",
    "import json\n",
    "import plotly.express as px\n",
    "from collections import Counter\n",
    "from IPython.display import SVG"
   ]
  },
  {
   "cell_type": "code",
   "execution_count": 2,
   "id": "8624e706-8256-4a82-9b0a-abd01211fe84",
   "metadata": {
    "tags": []
   },
   "outputs": [],
   "source": [
    "db_file = '/Users/maxime/Documents/dossier_python/generic_database.sqlite'"
   ]
  },
  {
   "cell_type": "code",
   "execution_count": 3,
   "id": "3e08d0af-e119-4a83-a23a-4bd3cbedb343",
   "metadata": {
    "tags": []
   },
   "outputs": [
    {
     "data": {
      "text/plain": [
       "<sqlite3.Connection at 0x12fe8a640>"
      ]
     },
     "execution_count": 3,
     "metadata": {},
     "output_type": "execute_result"
    }
   ],
   "source": [
    "cn = sql.connect(db_file)\n",
    "# Le contenu de la variable: connexion\n",
    "cn"
   ]
  },
  {
   "cell_type": "code",
   "execution_count": 4,
   "id": "c6a30ac4-d6ff-4c67-ae83-9c18ec3c6563",
   "metadata": {
    "tags": []
   },
   "outputs": [],
   "source": [
    "q2 = \"\"\"\n",
    "SELECT text_value  AS annee, COUNT(*) AS effectif, \n",
    "GROUP_CONCAT(SUBSTRING(subject_uri, LENGTH('http://dbpedia.org/resource/') + 1, LENGTH(subject_uri)), ', ')\n",
    "FROM \"statement\" s \n",
    "WHERE subject_uri LIKE '%dbpe%'\n",
    "GROUP BY text_value ;\n",
    "\"\"\""
   ]
  },
  {
   "cell_type": "code",
   "execution_count": 5,
   "id": "e4451c8b-674f-4ec1-aa11-893cda94b11d",
   "metadata": {
    "tags": []
   },
   "outputs": [
    {
     "data": {
      "text/plain": [
       "<sqlite3.Cursor at 0x12ffe6ac0>"
      ]
     },
     "execution_count": 5,
     "metadata": {},
     "output_type": "execute_result"
    }
   ],
   "source": [
    "cur = cn.cursor()\n",
    "cur"
   ]
  },
  {
   "cell_type": "code",
   "execution_count": 6,
   "id": "ff900485-96e3-4fe0-823b-ea69d0fd7745",
   "metadata": {
    "tags": []
   },
   "outputs": [],
   "source": [
    "cur.execute(q2)\n",
    "\n",
    "r = cur.fetchall()"
   ]
  },
  {
   "cell_type": "code",
   "execution_count": 7,
   "id": "e53e12a1-4495-4f33-84cb-b83b68acd06d",
   "metadata": {
    "tags": []
   },
   "outputs": [
    {
     "name": "stdout",
     "output_type": "stream",
     "text": [
      "Effectif: 3188, type de valeur: <class 'list'>\n"
     ]
    },
    {
     "data": {
      "text/plain": [
       "[('0940-06-10', 1, \"Abu_al-Wafa'_Buzjani\"),\n",
       " ('1048-05-18', 1, 'Omar_Khayyam'),\n",
       " ('1256-12-30', 1, \"Ibn_al-Banna'_al-Marrakushi\")]"
      ]
     },
     "execution_count": 7,
     "metadata": {},
     "output_type": "execute_result"
    }
   ],
   "source": [
    "print(f'Effectif: {len(r)}, type de valeur: {type(r)}')\n",
    "r[:3]"
   ]
  },
  {
   "cell_type": "code",
   "execution_count": 8,
   "id": "97ade139-c7c5-46c7-96f2-38b80796f943",
   "metadata": {
    "tags": []
   },
   "outputs": [
    {
     "data": {
      "text/plain": [
       "[940, 1048, 1256]"
      ]
     },
     "execution_count": 8,
     "metadata": {},
     "output_type": "execute_result"
    }
   ],
   "source": [
    "la = []\n",
    "for e in r:\n",
    "    la.append(int(e[0][:4]))\n",
    "la[:3]"
   ]
  },
  {
   "cell_type": "code",
   "execution_count": 9,
   "id": "d5502302-35b6-4067-aa5c-6897d2de8a8b",
   "metadata": {
    "tags": []
   },
   "outputs": [
    {
     "data": {
      "text/plain": [
       "[940, 1048, 1256]"
      ]
     },
     "execution_count": 9,
     "metadata": {},
     "output_type": "execute_result"
    }
   ],
   "source": [
    "la = []\n",
    "for e in r:\n",
    "    la.append(int(e[0][:4]))\n",
    "la[:3]"
   ]
  },
  {
   "cell_type": "code",
   "execution_count": 10,
   "id": "4dcbec3e-e496-429f-89e3-cf276f60915f",
   "metadata": {
    "tags": []
   },
   "outputs": [
    {
     "name": "stdout",
     "output_type": "stream",
     "text": [
      "['0940-06-10', '1048-05-18', '1256-12-30'] ['1991-02-14', '1993-03-22', '1993-07-10']\n"
     ]
    },
    {
     "data": {
      "text/plain": [
       "('0940-06-10', '1993-07-10')"
      ]
     },
     "execution_count": 10,
     "metadata": {},
     "output_type": "execute_result"
    }
   ],
   "source": [
    "ys = [y[0] for y in r]; print (ys[:3], ys[-3:])\n",
    "min(ys), max(ys)"
   ]
  },
  {
   "cell_type": "code",
   "execution_count": 11,
   "id": "560cf79d-3068-4345-920c-332118f2d7d0",
   "metadata": {},
   "outputs": [
    {
     "data": {
      "text/plain": [
       "[940, 1048, 1256]"
      ]
     },
     "execution_count": 11,
     "metadata": {},
     "output_type": "execute_result"
    }
   ],
   "source": [
    "la = []\n",
    "for e in r:\n",
    "    la.append(int(e[0][:4]))\n",
    "la[:3]"
   ]
  },
  {
   "cell_type": "code",
   "execution_count": 12,
   "id": "681474af-82d6-4331-9c30-c16a961251cf",
   "metadata": {
    "tags": []
   },
   "outputs": [
    {
     "data": {
      "text/plain": [
       "[(940, 1), (1048, 1), (1256, 1), (1271, 1), (1332, 1), (1423, 2), (1436, 1)]"
      ]
     },
     "execution_count": 12,
     "metadata": {},
     "output_type": "execute_result"
    }
   ],
   "source": [
    "ctr = Counter(la)\n",
    "list(ctr.items())[:7]"
   ]
  },
  {
   "cell_type": "code",
   "execution_count": 13,
   "id": "3723da21-6c37-409d-90bb-b289c4da1da1",
   "metadata": {
    "tags": []
   },
   "outputs": [
    {
     "name": "stdout",
     "output_type": "stream",
     "text": [
      "Effectif: 3188, type de valeur: <class 'list'>\n"
     ]
    },
    {
     "data": {
      "text/plain": [
       "[('0940-06-10', 1, \"Abu_al-Wafa'_Buzjani\"),\n",
       " ('1048-05-18', 1, 'Omar_Khayyam'),\n",
       " ('1256-12-30', 1, \"Ibn_al-Banna'_al-Marrakushi\")]"
      ]
     },
     "execution_count": 13,
     "metadata": {},
     "output_type": "execute_result"
    }
   ],
   "source": [
    "### Longueur, type du résultat et premières lignes du résultat\n",
    "print(f'Effectif: {len(r)}, type de valeur: {type(r)}')\n",
    "r[:3]"
   ]
  },
  {
   "cell_type": "code",
   "execution_count": 14,
   "id": "86489901-fc14-4266-aefe-8a76d05ade96",
   "metadata": {
    "tags": []
   },
   "outputs": [
    {
     "name": "stdout",
     "output_type": "stream",
     "text": [
      "Effectif: 3188, type de valeur: <class 'list'>\n"
     ]
    },
    {
     "data": {
      "text/plain": [
       "[940, 1048, 1256]"
      ]
     },
     "execution_count": 14,
     "metadata": {},
     "output_type": "execute_result"
    }
   ],
   "source": [
    "### Longueur, type du résultat et premières lignes du résultat\n",
    "print(f'Effectif: {len(r)}, type de valeur: {type(r)}')\n",
    "la[:3]"
   ]
  },
  {
   "cell_type": "code",
   "execution_count": 15,
   "id": "5216e499-1de6-45b1-836c-1fcec5167d1b",
   "metadata": {
    "tags": []
   },
   "outputs": [
    {
     "data": {
      "text/plain": [
       "[('0940-06-10', 1, \"Abu_al-Wafa'_Buzjani\"),\n",
       " ('1048-05-18', 1, 'Omar_Khayyam'),\n",
       " ('1256-12-30', 1, \"Ibn_al-Banna'_al-Marrakushi\")]"
      ]
     },
     "execution_count": 15,
     "metadata": {},
     "output_type": "execute_result"
    }
   ],
   "source": [
    "r[:3]"
   ]
  },
  {
   "cell_type": "code",
   "execution_count": null,
   "id": "91e739d3-663d-4b2d-99ba-58880deddbae",
   "metadata": {
    "tags": []
   },
   "outputs": [],
   "source": []
  },
  {
   "cell_type": "code",
   "execution_count": 16,
   "id": "d7ada7a3-410e-4218-a03c-603de6111bea",
   "metadata": {
    "tags": []
   },
   "outputs": [
    {
     "data": {
      "text/plain": [
       "[(940, ('0940-06-10', 1, \"Abu_al-Wafa'_Buzjani\")),\n",
       " (1048, ('1048-05-18', 1, 'Omar_Khayyam')),\n",
       " (1256, ('1256-12-30', 1, \"Ibn_al-Banna'_al-Marrakushi\"))]"
      ]
     },
     "execution_count": 16,
     "metadata": {},
     "output_type": "execute_result"
    }
   ],
   "source": [
    "merged_list = [(la[i], r[i]) for i in range(0, len(r))]\n",
    "merged_list[:3]"
   ]
  },
  {
   "cell_type": "code",
   "execution_count": 17,
   "id": "5ecd4424-9b10-4381-bc2d-30f9098d8932",
   "metadata": {
    "tags": []
   },
   "outputs": [
    {
     "data": {
      "text/plain": [
       "(940, 1993)"
      ]
     },
     "execution_count": 17,
     "metadata": {},
     "output_type": "execute_result"
    }
   ],
   "source": [
    "min(la), max(la)"
   ]
  },
  {
   "cell_type": "code",
   "execution_count": 18,
   "id": "6159ee7a-b5f2-405e-81a0-dc207d72a72f",
   "metadata": {
    "tags": []
   },
   "outputs": [
    {
     "data": {
      "text/plain": [
       "(1053, [940, 941, 942, 943], [1989, 1990, 1991, 1992])"
      ]
     },
     "execution_count": 18,
     "metadata": {},
     "output_type": "execute_result"
    }
   ],
   "source": [
    "y_l = list(range(min(la), max(la), 1)); len(y_l),y_l[:4],y_l[-4:]"
   ]
  },
  {
   "cell_type": "code",
   "execution_count": 19,
   "id": "87ab3ef3-9355-46a4-9020-00c6735979b7",
   "metadata": {
    "tags": []
   },
   "outputs": [
    {
     "data": {
      "text/plain": [
       "[[940, 0, ''],\n",
       " [941, 0, ''],\n",
       " [942, 0, ''],\n",
       " [943, 0, ''],\n",
       " [944, 0, ''],\n",
       " [945, 0, ''],\n",
       " [946, 0, ''],\n",
       " [947, 0, ''],\n",
       " [948, 0, ''],\n",
       " [949, 0, '']]"
      ]
     },
     "execution_count": 19,
     "metadata": {},
     "output_type": "execute_result"
    }
   ],
   "source": [
    "y_r  = []\n",
    "for a in y_l:\n",
    "    l = []\n",
    "\n",
    "    for v in la:\n",
    "        if a == la[v]:\n",
    "            l = [a] + list([i[1:3] for i in r])\n",
    "            pass\n",
    "    \n",
    "    if len(l) > 2:\n",
    "        y_r.append(l)\n",
    "    else:\n",
    "        y_r.append([a,0,''])\n",
    "y_r[:10]        "
   ]
  },
  {
   "cell_type": "code",
   "execution_count": 20,
   "id": "b618fc90-8985-44c2-9ba7-b72e85830c36",
   "metadata": {
    "tags": []
   },
   "outputs": [
    {
     "data": {
      "text/plain": [
       "[1048, 1256]"
      ]
     },
     "execution_count": 20,
     "metadata": {},
     "output_type": "execute_result"
    }
   ],
   "source": [
    "for i in r:\n",
    "    merg_liste = la + list(r[1:3])\n",
    "merg_liste[1:3]"
   ]
  },
  {
   "cell_type": "code",
   "execution_count": 21,
   "id": "5c32c777-9b94-417f-a4cf-7decbb17eb20",
   "metadata": {
    "tags": []
   },
   "outputs": [
    {
     "data": {
      "text/plain": [
       "[('a', 'one'), ('b', 'two'), ('c', 'three')]"
      ]
     },
     "execution_count": 21,
     "metadata": {},
     "output_type": "execute_result"
    }
   ],
   "source": [
    "my_list = [('a', 'one'), ('b', 'two'), ('c', 'three')]\n",
    "[i[0:2] for i in my_list]"
   ]
  },
  {
   "cell_type": "code",
   "execution_count": 22,
   "id": "e64d3d75-ebde-4b11-a5fd-4db6bc45fba3",
   "metadata": {
    "tags": []
   },
   "outputs": [
    {
     "ename": "TypeError",
     "evalue": "unsupported operand type(s) for +: 'int' and 'list'",
     "output_type": "error",
     "traceback": [
      "\u001b[0;31m---------------------------------------------------------------------------\u001b[0m",
      "\u001b[0;31mTypeError\u001b[0m                                 Traceback (most recent call last)",
      "Cell \u001b[0;32mIn[22], line 3\u001b[0m\n\u001b[1;32m      1\u001b[0m sdf \u001b[38;5;241m=\u001b[39m []\n\u001b[1;32m      2\u001b[0m \u001b[38;5;28;01mfor\u001b[39;00m n \u001b[38;5;129;01min\u001b[39;00m la:\n\u001b[0;32m----> 3\u001b[0m     sdf \u001b[38;5;241m=\u001b[39m \u001b[43mla\u001b[49m\u001b[43m[\u001b[49m\u001b[43mn\u001b[49m\u001b[43m]\u001b[49m\u001b[43m \u001b[49m\u001b[38;5;241;43m+\u001b[39;49m\u001b[43m \u001b[49m\u001b[43m(\u001b[49m\u001b[43m[\u001b[49m\u001b[43mi\u001b[49m\u001b[43m[\u001b[49m\u001b[38;5;241;43m1\u001b[39;49m\u001b[43m:\u001b[49m\u001b[38;5;241;43m3\u001b[39;49m\u001b[43m]\u001b[49m\u001b[43m \u001b[49m\u001b[38;5;28;43;01mfor\u001b[39;49;00m\u001b[43m \u001b[49m\u001b[43mi\u001b[49m\u001b[43m \u001b[49m\u001b[38;5;129;43;01min\u001b[39;49;00m\u001b[43m \u001b[49m\u001b[43mr\u001b[49m\u001b[43m]\u001b[49m\u001b[43m)\u001b[49m\n\u001b[1;32m      4\u001b[0m sdf[:\u001b[38;5;241m3\u001b[39m]\n",
      "\u001b[0;31mTypeError\u001b[0m: unsupported operand type(s) for +: 'int' and 'list'"
     ]
    }
   ],
   "source": [
    "sdf = []\n",
    "for n in la:\n",
    "    sdf = la[n] + ([i[1:3] for i in r])\n",
    "sdf[:3]"
   ]
  },
  {
   "cell_type": "code",
   "execution_count": null,
   "id": "2de71ecc-f734-4ff9-a1e5-27aa34468e9d",
   "metadata": {},
   "outputs": [],
   "source": []
  }
 ],
 "metadata": {
  "kernelspec": {
   "display_name": "py310_data_analysis",
   "language": "python",
   "name": "py310_data_analysis"
  },
  "language_info": {
   "codemirror_mode": {
    "name": "ipython",
    "version": 3
   },
   "file_extension": ".py",
   "mimetype": "text/x-python",
   "name": "python",
   "nbconvert_exporter": "python",
   "pygments_lexer": "ipython3",
   "version": "3.10.9"
  }
 },
 "nbformat": 4,
 "nbformat_minor": 5
}
