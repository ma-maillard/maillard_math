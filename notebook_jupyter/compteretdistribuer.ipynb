{
 "cells": [
  {
   "cell_type": "code",
   "execution_count": 1,
   "id": "c745ea93-1208-4e87-a516-8399943fd07b",
   "metadata": {
    "tags": []
   },
   "outputs": [],
   "source": [
    "import sqlite3 as sql\n",
    "import altair as alt\n",
    "import json\n",
    "import plotly.express as px\n",
    "from collections import Counter\n",
    "from IPython.display import SVG"
   ]
  },
  {
   "cell_type": "code",
   "execution_count": 2,
   "id": "8624e706-8256-4a82-9b0a-abd01211fe84",
   "metadata": {
    "tags": []
   },
   "outputs": [],
   "source": [
    "db_file = '/Users/maxime/Documents/dossier_python/generic_database.sqlite'"
   ]
  },
  {
   "cell_type": "code",
   "execution_count": 3,
   "id": "3e08d0af-e119-4a83-a23a-4bd3cbedb343",
   "metadata": {
    "tags": []
   },
   "outputs": [
    {
     "data": {
      "text/plain": [
       "<sqlite3.Connection at 0x10f98a640>"
      ]
     },
     "execution_count": 3,
     "metadata": {},
     "output_type": "execute_result"
    }
   ],
   "source": [
    "cn = sql.connect(db_file)\n",
    "# Le contenu de la variable: connexion\n",
    "cn"
   ]
  },
  {
   "cell_type": "code",
   "execution_count": 4,
   "id": "c6a30ac4-d6ff-4c67-ae83-9c18ec3c6563",
   "metadata": {
    "tags": []
   },
   "outputs": [],
   "source": [
    "q2 = \"\"\"\n",
    "SELECT SUBSTR(text_value, 1,4)  AS annee, COUNT(*) AS effectif, \n",
    "GROUP_CONCAT(SUBSTRING(subject_uri, LENGTH('http://dbpedia.org/resource/') + 1, LENGTH(subject_uri)), ', ')\n",
    "FROM \"statement\" s \n",
    "WHERE subject_uri LIKE '%dbpe%'\n",
    "GROUP BY SUBSTR(text_value, 1,4) ;\n",
    "\"\"\""
   ]
  },
  {
   "cell_type": "code",
   "execution_count": 5,
   "id": "e4451c8b-674f-4ec1-aa11-893cda94b11d",
   "metadata": {
    "tags": []
   },
   "outputs": [
    {
     "data": {
      "text/plain": [
       "<sqlite3.Cursor at 0x10fae6bc0>"
      ]
     },
     "execution_count": 5,
     "metadata": {},
     "output_type": "execute_result"
    }
   ],
   "source": [
    "cur = cn.cursor()\n",
    "cur"
   ]
  },
  {
   "cell_type": "code",
   "execution_count": 6,
   "id": "ff900485-96e3-4fe0-823b-ea69d0fd7745",
   "metadata": {
    "tags": []
   },
   "outputs": [],
   "source": [
    "cur.execute(q2)\n",
    "\n",
    "r = cur.fetchall()"
   ]
  },
  {
   "cell_type": "code",
   "execution_count": 7,
   "id": "e53e12a1-4495-4f33-84cb-b83b68acd06d",
   "metadata": {
    "tags": []
   },
   "outputs": [
    {
     "name": "stdout",
     "output_type": "stream",
     "text": [
      "Effectif: 351, type de valeur: <class 'list'>\n"
     ]
    },
    {
     "data": {
      "text/plain": [
       "[('0940', 1, \"Abu_al-Wafa'_Buzjani\"),\n",
       " ('1048', 1, 'Omar_Khayyam'),\n",
       " ('1256', 1, \"Ibn_al-Banna'_al-Marrakushi\")]"
      ]
     },
     "execution_count": 7,
     "metadata": {},
     "output_type": "execute_result"
    }
   ],
   "source": [
    "print(f'Effectif: {len(r)}, type de valeur: {type(r)}')\n",
    "r[:3]"
   ]
  },
  {
   "cell_type": "code",
   "execution_count": 8,
   "id": "97ade139-c7c5-46c7-96f2-38b80796f943",
   "metadata": {
    "tags": []
   },
   "outputs": [
    {
     "data": {
      "text/plain": [
       "[1048, 1256, 1271]"
      ]
     },
     "execution_count": 8,
     "metadata": {},
     "output_type": "execute_result"
    }
   ],
   "source": [
    "la = []\n",
    "for e in r[1:]:\n",
    "    la.append(int(e[0][:4]))\n",
    "la[:3]"
   ]
  },
  {
   "cell_type": "code",
   "execution_count": 9,
   "id": "d5502302-35b6-4067-aa5c-6897d2de8a8b",
   "metadata": {
    "tags": []
   },
   "outputs": [
    {
     "data": {
      "text/plain": [
       "[940, 1048, 1256]"
      ]
     },
     "execution_count": 9,
     "metadata": {},
     "output_type": "execute_result"
    }
   ],
   "source": [
    "la = []\n",
    "for e in r:\n",
    "    la.append(int(e[0][:4]))\n",
    "la[:3]"
   ]
  },
  {
   "cell_type": "code",
   "execution_count": 10,
   "id": "4dcbec3e-e496-429f-89e3-cf276f60915f",
   "metadata": {
    "tags": []
   },
   "outputs": [
    {
     "name": "stdout",
     "output_type": "stream",
     "text": [
      "['0940', '1048', '1256'] ['1989', '1991', '1993']\n"
     ]
    },
    {
     "data": {
      "text/plain": [
       "('0940', '1993')"
      ]
     },
     "execution_count": 10,
     "metadata": {},
     "output_type": "execute_result"
    }
   ],
   "source": [
    "ys = [y[0] for y in r]; print (ys[:3], ys[-3:])\n",
    "min(ys), max(ys)"
   ]
  },
  {
   "cell_type": "code",
   "execution_count": 11,
   "id": "560cf79d-3068-4345-920c-332118f2d7d0",
   "metadata": {},
   "outputs": [
    {
     "data": {
      "text/plain": [
       "[940, 1048, 1256]"
      ]
     },
     "execution_count": 11,
     "metadata": {},
     "output_type": "execute_result"
    }
   ],
   "source": [
    "la = []\n",
    "for e in r:\n",
    "    la.append(int(e[0][:4]))\n",
    "la[:3]"
   ]
  },
  {
   "cell_type": "code",
   "execution_count": 12,
   "id": "681474af-82d6-4331-9c30-c16a961251cf",
   "metadata": {
    "tags": []
   },
   "outputs": [
    {
     "data": {
      "text/plain": [
       "[(940, 1), (1048, 1), (1256, 1), (1271, 1), (1332, 1), (1423, 1), (1436, 1)]"
      ]
     },
     "execution_count": 12,
     "metadata": {},
     "output_type": "execute_result"
    }
   ],
   "source": [
    "ctr = Counter(la)\n",
    "list(ctr.items())[:7]"
   ]
  },
  {
   "cell_type": "code",
   "execution_count": 13,
   "id": "3723da21-6c37-409d-90bb-b289c4da1da1",
   "metadata": {
    "tags": []
   },
   "outputs": [
    {
     "name": "stdout",
     "output_type": "stream",
     "text": [
      "Effectif: 351, type de valeur: <class 'list'>\n"
     ]
    },
    {
     "data": {
      "text/plain": [
       "[('0940', 1, \"Abu_al-Wafa'_Buzjani\"),\n",
       " ('1048', 1, 'Omar_Khayyam'),\n",
       " ('1256', 1, \"Ibn_al-Banna'_al-Marrakushi\")]"
      ]
     },
     "execution_count": 13,
     "metadata": {},
     "output_type": "execute_result"
    }
   ],
   "source": [
    "### Longueur, type du résultat et premières lignes du résultat\n",
    "print(f'Effectif: {len(r)}, type de valeur: {type(r)}')\n",
    "r[:3]"
   ]
  },
  {
   "cell_type": "code",
   "execution_count": 14,
   "id": "86489901-fc14-4266-aefe-8a76d05ade96",
   "metadata": {
    "tags": []
   },
   "outputs": [
    {
     "name": "stdout",
     "output_type": "stream",
     "text": [
      "Effectif: 351, type de valeur: <class 'list'>\n"
     ]
    },
    {
     "data": {
      "text/plain": [
       "[940, 1048, 1256]"
      ]
     },
     "execution_count": 14,
     "metadata": {},
     "output_type": "execute_result"
    }
   ],
   "source": [
    "### Longueur, type du résultat et premières lignes du résultat\n",
    "print(f'Effectif: {len(r)}, type de valeur: {type(r)}')\n",
    "la[:3]"
   ]
  },
  {
   "cell_type": "code",
   "execution_count": 15,
   "id": "5216e499-1de6-45b1-836c-1fcec5167d1b",
   "metadata": {
    "tags": []
   },
   "outputs": [
    {
     "data": {
      "text/plain": [
       "[('0940', 1, \"Abu_al-Wafa'_Buzjani\"),\n",
       " ('1048', 1, 'Omar_Khayyam'),\n",
       " ('1256', 1, \"Ibn_al-Banna'_al-Marrakushi\")]"
      ]
     },
     "execution_count": 15,
     "metadata": {},
     "output_type": "execute_result"
    }
   ],
   "source": [
    "r[:3]"
   ]
  },
  {
   "cell_type": "code",
   "execution_count": 16,
   "id": "d7ada7a3-410e-4218-a03c-603de6111bea",
   "metadata": {
    "tags": []
   },
   "outputs": [
    {
     "data": {
      "text/plain": [
       "[(940, ('0940', 1, \"Abu_al-Wafa'_Buzjani\")),\n",
       " (1048, ('1048', 1, 'Omar_Khayyam')),\n",
       " (1256, ('1256', 1, \"Ibn_al-Banna'_al-Marrakushi\"))]"
      ]
     },
     "execution_count": 16,
     "metadata": {},
     "output_type": "execute_result"
    }
   ],
   "source": [
    "merged_list = [(la[i], r[i]) for i in range(0, len(r))]\n",
    "merged_list[:3]"
   ]
  },
  {
   "cell_type": "code",
   "execution_count": 17,
   "id": "5ecd4424-9b10-4381-bc2d-30f9098d8932",
   "metadata": {
    "tags": []
   },
   "outputs": [
    {
     "data": {
      "text/plain": [
       "(940, 1993)"
      ]
     },
     "execution_count": 17,
     "metadata": {},
     "output_type": "execute_result"
    }
   ],
   "source": [
    "min(la), max(la)"
   ]
  },
  {
   "cell_type": "code",
   "execution_count": 18,
   "id": "6159ee7a-b5f2-405e-81a0-dc207d72a72f",
   "metadata": {
    "tags": []
   },
   "outputs": [
    {
     "data": {
      "text/plain": [
       "(1053, [940, 941, 942, 943], [1989, 1990, 1991, 1992])"
      ]
     },
     "execution_count": 18,
     "metadata": {},
     "output_type": "execute_result"
    }
   ],
   "source": [
    "y_l = list(range(min(la), max(la), 1)); len(y_l),y_l[:4],y_l[-4:]"
   ]
  },
  {
   "cell_type": "code",
   "execution_count": 19,
   "id": "87ab3ef3-9355-46a4-9020-00c6735979b7",
   "metadata": {
    "tags": []
   },
   "outputs": [
    {
     "data": {
      "text/plain": [
       "[[940, 1, \"Abu_al-Wafa'_Buzjani\"],\n",
       " [941, 0, ''],\n",
       " [942, 0, ''],\n",
       " [943, 0, ''],\n",
       " [944, 0, ''],\n",
       " [945, 0, ''],\n",
       " [946, 0, ''],\n",
       " [947, 0, ''],\n",
       " [948, 0, ''],\n",
       " [949, 0, '']]"
      ]
     },
     "execution_count": 19,
     "metadata": {},
     "output_type": "execute_result"
    }
   ],
   "source": [
    "i=0\n",
    "y_r  = []\n",
    "for a in y_l:\n",
    "    l = []\n",
    "\n",
    "    for v in la:\n",
    "        if a == v:\n",
    "            l = [a] + list(r[i][1:3])\n",
    "            i=i+1\n",
    "            pass\n",
    "\n",
    "    if len(l) > 2:\n",
    "        y_r.append(l)\n",
    "    else:\n",
    "        y_r.append([a,0,''])\n",
    "y_r[:10]"
   ]
  },
  {
   "cell_type": "code",
   "execution_count": 43,
   "id": "6d454727-ee37-4a96-9589-21fb04c8203a",
   "metadata": {
    "tags": []
   },
   "outputs": [
    {
     "data": {
      "text/plain": [
       "[[940, 1, \"Abu_al-Wafa'_Buzjani\"],\n",
       " [1048, 1, 'Omar_Khayyam'],\n",
       " [1256, 1, \"Ibn_al-Banna'_al-Marrakushi\"],\n",
       " [1271, 1, 'Zhao_Youqin'],\n",
       " [1332, 1, 'Ibn_Khaldun'],\n",
       " [1423, 2, 'Georg_von_Peuerbach, Antonio_Manetti'],\n",
       " [1436, 1, 'Regiomontanus'],\n",
       " [1444, 1, 'Nilakantha_Somayaji'],\n",
       " [1452, 1, 'Abraham_Zacuto'],\n",
       " [1465, 1, 'Scipione_del_Ferro']]"
      ]
     },
     "execution_count": 43,
     "metadata": {},
     "output_type": "execute_result"
    }
   ],
   "source": [
    "i=0\n",
    "r_int  = []\n",
    "for b in y_l:\n",
    "    l = []\n",
    "\n",
    "    for v in la:\n",
    "        if b == v:\n",
    "            l = [b] + list(r[i][1:3])\n",
    "            i=i+1\n",
    "            \n",
    "            r_int.append(l)\n",
    "    \n",
    "r_int[:10]"
   ]
  },
  {
   "cell_type": "code",
   "execution_count": 20,
   "id": "2de71ecc-f734-4ff9-a1e5-27aa34468e9d",
   "metadata": {},
   "outputs": [],
   "source": [
    "data = [{'year': e[0], 'eff': e[1], 'names': e[2]} for e in y_r]"
   ]
  },
  {
   "cell_type": "code",
   "execution_count": 22,
   "id": "2e5cfffe-de84-410d-9833-8bd135c21fb4",
   "metadata": {
    "tags": []
   },
   "outputs": [
    {
     "data": {
      "text/html": [
       "\n",
       "<div id=\"altair-viz-b0048c59ac6d44f2b94d9dee3014a1fb\"></div>\n",
       "<script type=\"text/javascript\">\n",
       "  var VEGA_DEBUG = (typeof VEGA_DEBUG == \"undefined\") ? {} : VEGA_DEBUG;\n",
       "  (function(spec, embedOpt){\n",
       "    let outputDiv = document.currentScript.previousElementSibling;\n",
       "    if (outputDiv.id !== \"altair-viz-b0048c59ac6d44f2b94d9dee3014a1fb\") {\n",
       "      outputDiv = document.getElementById(\"altair-viz-b0048c59ac6d44f2b94d9dee3014a1fb\");\n",
       "    }\n",
       "    const paths = {\n",
       "      \"vega\": \"https://cdn.jsdelivr.net/npm//vega@5?noext\",\n",
       "      \"vega-lib\": \"https://cdn.jsdelivr.net/npm//vega-lib?noext\",\n",
       "      \"vega-lite\": \"https://cdn.jsdelivr.net/npm//vega-lite@4.17.0?noext\",\n",
       "      \"vega-embed\": \"https://cdn.jsdelivr.net/npm//vega-embed@6?noext\",\n",
       "    };\n",
       "\n",
       "    function maybeLoadScript(lib, version) {\n",
       "      var key = `${lib.replace(\"-\", \"\")}_version`;\n",
       "      return (VEGA_DEBUG[key] == version) ?\n",
       "        Promise.resolve(paths[lib]) :\n",
       "        new Promise(function(resolve, reject) {\n",
       "          var s = document.createElement('script');\n",
       "          document.getElementsByTagName(\"head\")[0].appendChild(s);\n",
       "          s.async = true;\n",
       "          s.onload = () => {\n",
       "            VEGA_DEBUG[key] = version;\n",
       "            return resolve(paths[lib]);\n",
       "          };\n",
       "          s.onerror = () => reject(`Error loading script: ${paths[lib]}`);\n",
       "          s.src = paths[lib];\n",
       "        });\n",
       "    }\n",
       "\n",
       "    function showError(err) {\n",
       "      outputDiv.innerHTML = `<div class=\"error\" style=\"color:red;\">${err}</div>`;\n",
       "      throw err;\n",
       "    }\n",
       "\n",
       "    function displayChart(vegaEmbed) {\n",
       "      vegaEmbed(outputDiv, spec, embedOpt)\n",
       "        .catch(err => showError(`Javascript Error: ${err.message}<br>This usually means there's a typo in your chart specification. See the javascript console for the full traceback.`));\n",
       "    }\n",
       "\n",
       "    if(typeof define === \"function\" && define.amd) {\n",
       "      requirejs.config({paths});\n",
       "      require([\"vega-embed\"], displayChart, err => showError(`Error loading script: ${err.message}`));\n",
       "    } else {\n",
       "      maybeLoadScript(\"vega\", \"5\")\n",
       "        .then(() => maybeLoadScript(\"vega-lite\", \"4.17.0\"))\n",
       "        .then(() => maybeLoadScript(\"vega-embed\", \"6\"))\n",
       "        .catch(showError)\n",
       "        .then(() => displayChart(vegaEmbed));\n",
       "    }\n",
       "  })({\"config\": {\"view\": {\"continuousWidth\": 400, \"continuousHeight\": 300}}, \"data\": {\"name\": \"data-c7cf0419e29ca781314bdc1a236a8457\"}, \"mark\": \"bar\", \"encoding\": {\"tooltip\": [{\"field\": \"year\", \"title\": \"Year\", \"type\": \"quantitative\"}, {\"field\": \"names\", \"title\": \"Names\", \"type\": \"nominal\"}], \"x\": {\"axis\": {\"values\": [1450, 1500, 1550, 1600, 1650, 1700, 1750, 1800]}, \"field\": \"year\", \"type\": \"ordinal\"}, \"y\": {\"field\": \"eff\", \"type\": \"quantitative\"}}, \"height\": 300, \"width\": 1000, \"$schema\": \"https://vega.github.io/schema/vega-lite/v4.17.0.json\", \"datasets\": {\"data-c7cf0419e29ca781314bdc1a236a8457\": [{\"year\": 940, \"eff\": 1, \"names\": \"Abu_al-Wafa'_Buzjani\"}, {\"year\": 941, \"eff\": 0, \"names\": \"\"}, {\"year\": 942, \"eff\": 0, \"names\": \"\"}, {\"year\": 943, \"eff\": 0, \"names\": \"\"}, {\"year\": 944, \"eff\": 0, \"names\": \"\"}, {\"year\": 945, \"eff\": 0, \"names\": \"\"}, {\"year\": 946, \"eff\": 0, \"names\": \"\"}, {\"year\": 947, \"eff\": 0, \"names\": \"\"}, {\"year\": 948, \"eff\": 0, \"names\": \"\"}, {\"year\": 949, \"eff\": 0, \"names\": \"\"}, {\"year\": 950, \"eff\": 0, \"names\": \"\"}, {\"year\": 951, \"eff\": 0, \"names\": \"\"}, {\"year\": 952, \"eff\": 0, \"names\": \"\"}, {\"year\": 953, \"eff\": 0, \"names\": \"\"}, {\"year\": 954, \"eff\": 0, \"names\": \"\"}, {\"year\": 955, \"eff\": 0, \"names\": \"\"}, {\"year\": 956, \"eff\": 0, \"names\": \"\"}, {\"year\": 957, \"eff\": 0, \"names\": \"\"}, {\"year\": 958, \"eff\": 0, \"names\": \"\"}, {\"year\": 959, \"eff\": 0, \"names\": \"\"}, {\"year\": 960, \"eff\": 0, \"names\": \"\"}, {\"year\": 961, \"eff\": 0, \"names\": \"\"}, {\"year\": 962, \"eff\": 0, \"names\": \"\"}, {\"year\": 963, \"eff\": 0, \"names\": \"\"}, {\"year\": 964, \"eff\": 0, \"names\": \"\"}, {\"year\": 965, \"eff\": 0, \"names\": \"\"}, {\"year\": 966, \"eff\": 0, \"names\": \"\"}, {\"year\": 967, \"eff\": 0, \"names\": \"\"}, {\"year\": 968, \"eff\": 0, \"names\": \"\"}, {\"year\": 969, \"eff\": 0, \"names\": \"\"}, {\"year\": 970, \"eff\": 0, \"names\": \"\"}, {\"year\": 971, \"eff\": 0, \"names\": \"\"}, {\"year\": 972, \"eff\": 0, \"names\": \"\"}, {\"year\": 973, \"eff\": 0, \"names\": \"\"}, {\"year\": 974, \"eff\": 0, \"names\": \"\"}, {\"year\": 975, \"eff\": 0, \"names\": \"\"}, {\"year\": 976, \"eff\": 0, \"names\": \"\"}, {\"year\": 977, \"eff\": 0, \"names\": \"\"}, {\"year\": 978, \"eff\": 0, \"names\": \"\"}, {\"year\": 979, \"eff\": 0, \"names\": \"\"}, {\"year\": 980, \"eff\": 0, \"names\": \"\"}, {\"year\": 981, \"eff\": 0, \"names\": \"\"}, {\"year\": 982, \"eff\": 0, \"names\": \"\"}, {\"year\": 983, \"eff\": 0, \"names\": \"\"}, {\"year\": 984, \"eff\": 0, \"names\": \"\"}, {\"year\": 985, \"eff\": 0, \"names\": \"\"}, {\"year\": 986, \"eff\": 0, \"names\": \"\"}, {\"year\": 987, \"eff\": 0, \"names\": \"\"}, {\"year\": 988, \"eff\": 0, \"names\": \"\"}, {\"year\": 989, \"eff\": 0, \"names\": \"\"}, {\"year\": 990, \"eff\": 0, \"names\": \"\"}, {\"year\": 991, \"eff\": 0, \"names\": \"\"}, {\"year\": 992, \"eff\": 0, \"names\": \"\"}, {\"year\": 993, \"eff\": 0, \"names\": \"\"}, {\"year\": 994, \"eff\": 0, \"names\": \"\"}, {\"year\": 995, \"eff\": 0, \"names\": \"\"}, {\"year\": 996, \"eff\": 0, \"names\": \"\"}, {\"year\": 997, \"eff\": 0, \"names\": \"\"}, {\"year\": 998, \"eff\": 0, \"names\": \"\"}, {\"year\": 999, \"eff\": 0, \"names\": \"\"}, {\"year\": 1000, \"eff\": 0, \"names\": \"\"}, {\"year\": 1001, \"eff\": 0, \"names\": \"\"}, {\"year\": 1002, \"eff\": 0, \"names\": \"\"}, {\"year\": 1003, \"eff\": 0, \"names\": \"\"}, {\"year\": 1004, \"eff\": 0, \"names\": \"\"}, {\"year\": 1005, \"eff\": 0, \"names\": \"\"}, {\"year\": 1006, \"eff\": 0, \"names\": \"\"}, {\"year\": 1007, \"eff\": 0, \"names\": \"\"}, {\"year\": 1008, \"eff\": 0, \"names\": \"\"}, {\"year\": 1009, \"eff\": 0, \"names\": \"\"}, {\"year\": 1010, \"eff\": 0, \"names\": \"\"}, {\"year\": 1011, \"eff\": 0, \"names\": \"\"}, {\"year\": 1012, \"eff\": 0, \"names\": \"\"}, {\"year\": 1013, \"eff\": 0, \"names\": \"\"}, {\"year\": 1014, \"eff\": 0, \"names\": \"\"}, {\"year\": 1015, \"eff\": 0, \"names\": \"\"}, {\"year\": 1016, \"eff\": 0, \"names\": \"\"}, {\"year\": 1017, \"eff\": 0, \"names\": \"\"}, {\"year\": 1018, \"eff\": 0, \"names\": \"\"}, {\"year\": 1019, \"eff\": 0, \"names\": \"\"}, {\"year\": 1020, \"eff\": 0, \"names\": \"\"}, {\"year\": 1021, \"eff\": 0, \"names\": \"\"}, {\"year\": 1022, \"eff\": 0, \"names\": \"\"}, {\"year\": 1023, \"eff\": 0, \"names\": \"\"}, {\"year\": 1024, \"eff\": 0, \"names\": \"\"}, {\"year\": 1025, \"eff\": 0, \"names\": \"\"}, {\"year\": 1026, \"eff\": 0, \"names\": \"\"}, {\"year\": 1027, \"eff\": 0, \"names\": \"\"}, {\"year\": 1028, \"eff\": 0, \"names\": \"\"}, {\"year\": 1029, \"eff\": 0, \"names\": \"\"}, {\"year\": 1030, \"eff\": 0, \"names\": \"\"}, {\"year\": 1031, \"eff\": 0, \"names\": \"\"}, {\"year\": 1032, \"eff\": 0, \"names\": \"\"}, {\"year\": 1033, \"eff\": 0, \"names\": \"\"}, {\"year\": 1034, \"eff\": 0, \"names\": \"\"}, {\"year\": 1035, \"eff\": 0, \"names\": \"\"}, {\"year\": 1036, \"eff\": 0, \"names\": \"\"}, {\"year\": 1037, \"eff\": 0, \"names\": \"\"}, {\"year\": 1038, \"eff\": 0, \"names\": \"\"}, {\"year\": 1039, \"eff\": 0, \"names\": \"\"}, {\"year\": 1040, \"eff\": 0, \"names\": \"\"}, {\"year\": 1041, \"eff\": 0, \"names\": \"\"}, {\"year\": 1042, \"eff\": 0, \"names\": \"\"}, {\"year\": 1043, \"eff\": 0, \"names\": \"\"}, {\"year\": 1044, \"eff\": 0, \"names\": \"\"}, {\"year\": 1045, \"eff\": 0, \"names\": \"\"}, {\"year\": 1046, \"eff\": 0, \"names\": \"\"}, {\"year\": 1047, \"eff\": 0, \"names\": \"\"}, {\"year\": 1048, \"eff\": 1, \"names\": \"Omar_Khayyam\"}, {\"year\": 1049, \"eff\": 0, \"names\": \"\"}, {\"year\": 1050, \"eff\": 0, \"names\": \"\"}, {\"year\": 1051, \"eff\": 0, \"names\": \"\"}, {\"year\": 1052, \"eff\": 0, \"names\": \"\"}, {\"year\": 1053, \"eff\": 0, \"names\": \"\"}, {\"year\": 1054, \"eff\": 0, \"names\": \"\"}, {\"year\": 1055, \"eff\": 0, \"names\": \"\"}, {\"year\": 1056, \"eff\": 0, \"names\": \"\"}, {\"year\": 1057, \"eff\": 0, \"names\": \"\"}, {\"year\": 1058, \"eff\": 0, \"names\": \"\"}, {\"year\": 1059, \"eff\": 0, \"names\": \"\"}, {\"year\": 1060, \"eff\": 0, \"names\": \"\"}, {\"year\": 1061, \"eff\": 0, \"names\": \"\"}, {\"year\": 1062, \"eff\": 0, \"names\": \"\"}, {\"year\": 1063, \"eff\": 0, \"names\": \"\"}, {\"year\": 1064, \"eff\": 0, \"names\": \"\"}, {\"year\": 1065, \"eff\": 0, \"names\": \"\"}, {\"year\": 1066, \"eff\": 0, \"names\": \"\"}, {\"year\": 1067, \"eff\": 0, \"names\": \"\"}, {\"year\": 1068, \"eff\": 0, \"names\": \"\"}, {\"year\": 1069, \"eff\": 0, \"names\": \"\"}, {\"year\": 1070, \"eff\": 0, \"names\": \"\"}, {\"year\": 1071, \"eff\": 0, \"names\": \"\"}, {\"year\": 1072, \"eff\": 0, \"names\": \"\"}, {\"year\": 1073, \"eff\": 0, \"names\": \"\"}, {\"year\": 1074, \"eff\": 0, \"names\": \"\"}, {\"year\": 1075, \"eff\": 0, \"names\": \"\"}, {\"year\": 1076, \"eff\": 0, \"names\": \"\"}, {\"year\": 1077, \"eff\": 0, \"names\": \"\"}, {\"year\": 1078, \"eff\": 0, \"names\": \"\"}, {\"year\": 1079, \"eff\": 0, \"names\": \"\"}, {\"year\": 1080, \"eff\": 0, \"names\": \"\"}, {\"year\": 1081, \"eff\": 0, \"names\": \"\"}, {\"year\": 1082, \"eff\": 0, \"names\": \"\"}, {\"year\": 1083, \"eff\": 0, \"names\": \"\"}, {\"year\": 1084, \"eff\": 0, \"names\": \"\"}, {\"year\": 1085, \"eff\": 0, \"names\": \"\"}, {\"year\": 1086, \"eff\": 0, \"names\": \"\"}, {\"year\": 1087, \"eff\": 0, \"names\": \"\"}, {\"year\": 1088, \"eff\": 0, \"names\": \"\"}, {\"year\": 1089, \"eff\": 0, \"names\": \"\"}, {\"year\": 1090, \"eff\": 0, \"names\": \"\"}, {\"year\": 1091, \"eff\": 0, \"names\": \"\"}, {\"year\": 1092, \"eff\": 0, \"names\": \"\"}, {\"year\": 1093, \"eff\": 0, \"names\": \"\"}, {\"year\": 1094, \"eff\": 0, \"names\": \"\"}, {\"year\": 1095, \"eff\": 0, \"names\": \"\"}, {\"year\": 1096, \"eff\": 0, \"names\": \"\"}, {\"year\": 1097, \"eff\": 0, \"names\": \"\"}, {\"year\": 1098, \"eff\": 0, \"names\": \"\"}, {\"year\": 1099, \"eff\": 0, \"names\": \"\"}, {\"year\": 1100, \"eff\": 0, \"names\": \"\"}, {\"year\": 1101, \"eff\": 0, \"names\": \"\"}, {\"year\": 1102, \"eff\": 0, \"names\": \"\"}, {\"year\": 1103, \"eff\": 0, \"names\": \"\"}, {\"year\": 1104, \"eff\": 0, \"names\": \"\"}, {\"year\": 1105, \"eff\": 0, \"names\": \"\"}, {\"year\": 1106, \"eff\": 0, \"names\": \"\"}, {\"year\": 1107, \"eff\": 0, \"names\": \"\"}, {\"year\": 1108, \"eff\": 0, \"names\": \"\"}, {\"year\": 1109, \"eff\": 0, \"names\": \"\"}, {\"year\": 1110, \"eff\": 0, \"names\": \"\"}, {\"year\": 1111, \"eff\": 0, \"names\": \"\"}, {\"year\": 1112, \"eff\": 0, \"names\": \"\"}, {\"year\": 1113, \"eff\": 0, \"names\": \"\"}, {\"year\": 1114, \"eff\": 0, \"names\": \"\"}, {\"year\": 1115, \"eff\": 0, \"names\": \"\"}, {\"year\": 1116, \"eff\": 0, \"names\": \"\"}, {\"year\": 1117, \"eff\": 0, \"names\": \"\"}, {\"year\": 1118, \"eff\": 0, \"names\": \"\"}, {\"year\": 1119, \"eff\": 0, \"names\": \"\"}, {\"year\": 1120, \"eff\": 0, \"names\": \"\"}, {\"year\": 1121, \"eff\": 0, \"names\": \"\"}, {\"year\": 1122, \"eff\": 0, \"names\": \"\"}, {\"year\": 1123, \"eff\": 0, \"names\": \"\"}, {\"year\": 1124, \"eff\": 0, \"names\": \"\"}, {\"year\": 1125, \"eff\": 0, \"names\": \"\"}, {\"year\": 1126, \"eff\": 0, \"names\": \"\"}, {\"year\": 1127, \"eff\": 0, \"names\": \"\"}, {\"year\": 1128, \"eff\": 0, \"names\": \"\"}, {\"year\": 1129, \"eff\": 0, \"names\": \"\"}, {\"year\": 1130, \"eff\": 0, \"names\": \"\"}, {\"year\": 1131, \"eff\": 0, \"names\": \"\"}, {\"year\": 1132, \"eff\": 0, \"names\": \"\"}, {\"year\": 1133, \"eff\": 0, \"names\": \"\"}, {\"year\": 1134, \"eff\": 0, \"names\": \"\"}, {\"year\": 1135, \"eff\": 0, \"names\": \"\"}, {\"year\": 1136, \"eff\": 0, \"names\": \"\"}, {\"year\": 1137, \"eff\": 0, \"names\": \"\"}, {\"year\": 1138, \"eff\": 0, \"names\": \"\"}, {\"year\": 1139, \"eff\": 0, \"names\": \"\"}, {\"year\": 1140, \"eff\": 0, \"names\": \"\"}, {\"year\": 1141, \"eff\": 0, \"names\": \"\"}, {\"year\": 1142, \"eff\": 0, \"names\": \"\"}, {\"year\": 1143, \"eff\": 0, \"names\": \"\"}, {\"year\": 1144, \"eff\": 0, \"names\": \"\"}, {\"year\": 1145, \"eff\": 0, \"names\": \"\"}, {\"year\": 1146, \"eff\": 0, \"names\": \"\"}, {\"year\": 1147, \"eff\": 0, \"names\": \"\"}, {\"year\": 1148, \"eff\": 0, \"names\": \"\"}, {\"year\": 1149, \"eff\": 0, \"names\": \"\"}, {\"year\": 1150, \"eff\": 0, \"names\": \"\"}, {\"year\": 1151, \"eff\": 0, \"names\": \"\"}, {\"year\": 1152, \"eff\": 0, \"names\": \"\"}, {\"year\": 1153, \"eff\": 0, \"names\": \"\"}, {\"year\": 1154, \"eff\": 0, \"names\": \"\"}, {\"year\": 1155, \"eff\": 0, \"names\": \"\"}, {\"year\": 1156, \"eff\": 0, \"names\": \"\"}, {\"year\": 1157, \"eff\": 0, \"names\": \"\"}, {\"year\": 1158, \"eff\": 0, \"names\": \"\"}, {\"year\": 1159, \"eff\": 0, \"names\": \"\"}, {\"year\": 1160, \"eff\": 0, \"names\": \"\"}, {\"year\": 1161, \"eff\": 0, \"names\": \"\"}, {\"year\": 1162, \"eff\": 0, \"names\": \"\"}, {\"year\": 1163, \"eff\": 0, \"names\": \"\"}, {\"year\": 1164, \"eff\": 0, \"names\": \"\"}, {\"year\": 1165, \"eff\": 0, \"names\": \"\"}, {\"year\": 1166, \"eff\": 0, \"names\": \"\"}, {\"year\": 1167, \"eff\": 0, \"names\": \"\"}, {\"year\": 1168, \"eff\": 0, \"names\": \"\"}, {\"year\": 1169, \"eff\": 0, \"names\": \"\"}, {\"year\": 1170, \"eff\": 0, \"names\": \"\"}, {\"year\": 1171, \"eff\": 0, \"names\": \"\"}, {\"year\": 1172, \"eff\": 0, \"names\": \"\"}, {\"year\": 1173, \"eff\": 0, \"names\": \"\"}, {\"year\": 1174, \"eff\": 0, \"names\": \"\"}, {\"year\": 1175, \"eff\": 0, \"names\": \"\"}, {\"year\": 1176, \"eff\": 0, \"names\": \"\"}, {\"year\": 1177, \"eff\": 0, \"names\": \"\"}, {\"year\": 1178, \"eff\": 0, \"names\": \"\"}, {\"year\": 1179, \"eff\": 0, \"names\": \"\"}, {\"year\": 1180, \"eff\": 0, \"names\": \"\"}, {\"year\": 1181, \"eff\": 0, \"names\": \"\"}, {\"year\": 1182, \"eff\": 0, \"names\": \"\"}, {\"year\": 1183, \"eff\": 0, \"names\": \"\"}, {\"year\": 1184, \"eff\": 0, \"names\": \"\"}, {\"year\": 1185, \"eff\": 0, \"names\": \"\"}, {\"year\": 1186, \"eff\": 0, \"names\": \"\"}, {\"year\": 1187, \"eff\": 0, \"names\": \"\"}, {\"year\": 1188, \"eff\": 0, \"names\": \"\"}, {\"year\": 1189, \"eff\": 0, \"names\": \"\"}, {\"year\": 1190, \"eff\": 0, \"names\": \"\"}, {\"year\": 1191, \"eff\": 0, \"names\": \"\"}, {\"year\": 1192, \"eff\": 0, \"names\": \"\"}, {\"year\": 1193, \"eff\": 0, \"names\": \"\"}, {\"year\": 1194, \"eff\": 0, \"names\": \"\"}, {\"year\": 1195, \"eff\": 0, \"names\": \"\"}, {\"year\": 1196, \"eff\": 0, \"names\": \"\"}, {\"year\": 1197, \"eff\": 0, \"names\": \"\"}, {\"year\": 1198, \"eff\": 0, \"names\": \"\"}, {\"year\": 1199, \"eff\": 0, \"names\": \"\"}, {\"year\": 1200, \"eff\": 0, \"names\": \"\"}, {\"year\": 1201, \"eff\": 0, \"names\": \"\"}, {\"year\": 1202, \"eff\": 0, \"names\": \"\"}, {\"year\": 1203, \"eff\": 0, \"names\": \"\"}, {\"year\": 1204, \"eff\": 0, \"names\": \"\"}, {\"year\": 1205, \"eff\": 0, \"names\": \"\"}, {\"year\": 1206, \"eff\": 0, \"names\": \"\"}, {\"year\": 1207, \"eff\": 0, \"names\": \"\"}, {\"year\": 1208, \"eff\": 0, \"names\": \"\"}, {\"year\": 1209, \"eff\": 0, \"names\": \"\"}, {\"year\": 1210, \"eff\": 0, \"names\": \"\"}, {\"year\": 1211, \"eff\": 0, \"names\": \"\"}, {\"year\": 1212, \"eff\": 0, \"names\": \"\"}, {\"year\": 1213, \"eff\": 0, \"names\": \"\"}, {\"year\": 1214, \"eff\": 0, \"names\": \"\"}, {\"year\": 1215, \"eff\": 0, \"names\": \"\"}, {\"year\": 1216, \"eff\": 0, \"names\": \"\"}, {\"year\": 1217, \"eff\": 0, \"names\": \"\"}, {\"year\": 1218, \"eff\": 0, \"names\": \"\"}, {\"year\": 1219, \"eff\": 0, \"names\": \"\"}, {\"year\": 1220, \"eff\": 0, \"names\": \"\"}, {\"year\": 1221, \"eff\": 0, \"names\": \"\"}, {\"year\": 1222, \"eff\": 0, \"names\": \"\"}, {\"year\": 1223, \"eff\": 0, \"names\": \"\"}, {\"year\": 1224, \"eff\": 0, \"names\": \"\"}, {\"year\": 1225, \"eff\": 0, \"names\": \"\"}, {\"year\": 1226, \"eff\": 0, \"names\": \"\"}, {\"year\": 1227, \"eff\": 0, \"names\": \"\"}, {\"year\": 1228, \"eff\": 0, \"names\": \"\"}, {\"year\": 1229, \"eff\": 0, \"names\": \"\"}, {\"year\": 1230, \"eff\": 0, \"names\": \"\"}, {\"year\": 1231, \"eff\": 0, \"names\": \"\"}, {\"year\": 1232, \"eff\": 0, \"names\": \"\"}, {\"year\": 1233, \"eff\": 0, \"names\": \"\"}, {\"year\": 1234, \"eff\": 0, \"names\": \"\"}, {\"year\": 1235, \"eff\": 0, \"names\": \"\"}, {\"year\": 1236, \"eff\": 0, \"names\": \"\"}, {\"year\": 1237, \"eff\": 0, \"names\": \"\"}, {\"year\": 1238, \"eff\": 0, \"names\": \"\"}, {\"year\": 1239, \"eff\": 0, \"names\": \"\"}, {\"year\": 1240, \"eff\": 0, \"names\": \"\"}, {\"year\": 1241, \"eff\": 0, \"names\": \"\"}, {\"year\": 1242, \"eff\": 0, \"names\": \"\"}, {\"year\": 1243, \"eff\": 0, \"names\": \"\"}, {\"year\": 1244, \"eff\": 0, \"names\": \"\"}, {\"year\": 1245, \"eff\": 0, \"names\": \"\"}, {\"year\": 1246, \"eff\": 0, \"names\": \"\"}, {\"year\": 1247, \"eff\": 0, \"names\": \"\"}, {\"year\": 1248, \"eff\": 0, \"names\": \"\"}, {\"year\": 1249, \"eff\": 0, \"names\": \"\"}, {\"year\": 1250, \"eff\": 0, \"names\": \"\"}, {\"year\": 1251, \"eff\": 0, \"names\": \"\"}, {\"year\": 1252, \"eff\": 0, \"names\": \"\"}, {\"year\": 1253, \"eff\": 0, \"names\": \"\"}, {\"year\": 1254, \"eff\": 0, \"names\": \"\"}, {\"year\": 1255, \"eff\": 0, \"names\": \"\"}, {\"year\": 1256, \"eff\": 1, \"names\": \"Ibn_al-Banna'_al-Marrakushi\"}, {\"year\": 1257, \"eff\": 0, \"names\": \"\"}, {\"year\": 1258, \"eff\": 0, \"names\": \"\"}, {\"year\": 1259, \"eff\": 0, \"names\": \"\"}, {\"year\": 1260, \"eff\": 0, \"names\": \"\"}, {\"year\": 1261, \"eff\": 0, \"names\": \"\"}, {\"year\": 1262, \"eff\": 0, \"names\": \"\"}, {\"year\": 1263, \"eff\": 0, \"names\": \"\"}, {\"year\": 1264, \"eff\": 0, \"names\": \"\"}, {\"year\": 1265, \"eff\": 0, \"names\": \"\"}, {\"year\": 1266, \"eff\": 0, \"names\": \"\"}, {\"year\": 1267, \"eff\": 0, \"names\": \"\"}, {\"year\": 1268, \"eff\": 0, \"names\": \"\"}, {\"year\": 1269, \"eff\": 0, \"names\": \"\"}, {\"year\": 1270, \"eff\": 0, \"names\": \"\"}, {\"year\": 1271, \"eff\": 1, \"names\": \"Zhao_Youqin\"}, {\"year\": 1272, \"eff\": 0, \"names\": \"\"}, {\"year\": 1273, \"eff\": 0, \"names\": \"\"}, {\"year\": 1274, \"eff\": 0, \"names\": \"\"}, {\"year\": 1275, \"eff\": 0, \"names\": \"\"}, {\"year\": 1276, \"eff\": 0, \"names\": \"\"}, {\"year\": 1277, \"eff\": 0, \"names\": \"\"}, {\"year\": 1278, \"eff\": 0, \"names\": \"\"}, {\"year\": 1279, \"eff\": 0, \"names\": \"\"}, {\"year\": 1280, \"eff\": 0, \"names\": \"\"}, {\"year\": 1281, \"eff\": 0, \"names\": \"\"}, {\"year\": 1282, \"eff\": 0, \"names\": \"\"}, {\"year\": 1283, \"eff\": 0, \"names\": \"\"}, {\"year\": 1284, \"eff\": 0, \"names\": \"\"}, {\"year\": 1285, \"eff\": 0, \"names\": \"\"}, {\"year\": 1286, \"eff\": 0, \"names\": \"\"}, {\"year\": 1287, \"eff\": 0, \"names\": \"\"}, {\"year\": 1288, \"eff\": 0, \"names\": \"\"}, {\"year\": 1289, \"eff\": 0, \"names\": \"\"}, {\"year\": 1290, \"eff\": 0, \"names\": \"\"}, {\"year\": 1291, \"eff\": 0, \"names\": \"\"}, {\"year\": 1292, \"eff\": 0, \"names\": \"\"}, {\"year\": 1293, \"eff\": 0, \"names\": \"\"}, {\"year\": 1294, \"eff\": 0, \"names\": \"\"}, {\"year\": 1295, \"eff\": 0, \"names\": \"\"}, {\"year\": 1296, \"eff\": 0, \"names\": \"\"}, {\"year\": 1297, \"eff\": 0, \"names\": \"\"}, {\"year\": 1298, \"eff\": 0, \"names\": \"\"}, {\"year\": 1299, \"eff\": 0, \"names\": \"\"}, {\"year\": 1300, \"eff\": 0, \"names\": \"\"}, {\"year\": 1301, \"eff\": 0, \"names\": \"\"}, {\"year\": 1302, \"eff\": 0, \"names\": \"\"}, {\"year\": 1303, \"eff\": 0, \"names\": \"\"}, {\"year\": 1304, \"eff\": 0, \"names\": \"\"}, {\"year\": 1305, \"eff\": 0, \"names\": \"\"}, {\"year\": 1306, \"eff\": 0, \"names\": \"\"}, {\"year\": 1307, \"eff\": 0, \"names\": \"\"}, {\"year\": 1308, \"eff\": 0, \"names\": \"\"}, {\"year\": 1309, \"eff\": 0, \"names\": \"\"}, {\"year\": 1310, \"eff\": 0, \"names\": \"\"}, {\"year\": 1311, \"eff\": 0, \"names\": \"\"}, {\"year\": 1312, \"eff\": 0, \"names\": \"\"}, {\"year\": 1313, \"eff\": 0, \"names\": \"\"}, {\"year\": 1314, \"eff\": 0, \"names\": \"\"}, {\"year\": 1315, \"eff\": 0, \"names\": \"\"}, {\"year\": 1316, \"eff\": 0, \"names\": \"\"}, {\"year\": 1317, \"eff\": 0, \"names\": \"\"}, {\"year\": 1318, \"eff\": 0, \"names\": \"\"}, {\"year\": 1319, \"eff\": 0, \"names\": \"\"}, {\"year\": 1320, \"eff\": 0, \"names\": \"\"}, {\"year\": 1321, \"eff\": 0, \"names\": \"\"}, {\"year\": 1322, \"eff\": 0, \"names\": \"\"}, {\"year\": 1323, \"eff\": 0, \"names\": \"\"}, {\"year\": 1324, \"eff\": 0, \"names\": \"\"}, {\"year\": 1325, \"eff\": 0, \"names\": \"\"}, {\"year\": 1326, \"eff\": 0, \"names\": \"\"}, {\"year\": 1327, \"eff\": 0, \"names\": \"\"}, {\"year\": 1328, \"eff\": 0, \"names\": \"\"}, {\"year\": 1329, \"eff\": 0, \"names\": \"\"}, {\"year\": 1330, \"eff\": 0, \"names\": \"\"}, {\"year\": 1331, \"eff\": 0, \"names\": \"\"}, {\"year\": 1332, \"eff\": 1, \"names\": \"Ibn_Khaldun\"}, {\"year\": 1333, \"eff\": 0, \"names\": \"\"}, {\"year\": 1334, \"eff\": 0, \"names\": \"\"}, {\"year\": 1335, \"eff\": 0, \"names\": \"\"}, {\"year\": 1336, \"eff\": 0, \"names\": \"\"}, {\"year\": 1337, \"eff\": 0, \"names\": \"\"}, {\"year\": 1338, \"eff\": 0, \"names\": \"\"}, {\"year\": 1339, \"eff\": 0, \"names\": \"\"}, {\"year\": 1340, \"eff\": 0, \"names\": \"\"}, {\"year\": 1341, \"eff\": 0, \"names\": \"\"}, {\"year\": 1342, \"eff\": 0, \"names\": \"\"}, {\"year\": 1343, \"eff\": 0, \"names\": \"\"}, {\"year\": 1344, \"eff\": 0, \"names\": \"\"}, {\"year\": 1345, \"eff\": 0, \"names\": \"\"}, {\"year\": 1346, \"eff\": 0, \"names\": \"\"}, {\"year\": 1347, \"eff\": 0, \"names\": \"\"}, {\"year\": 1348, \"eff\": 0, \"names\": \"\"}, {\"year\": 1349, \"eff\": 0, \"names\": \"\"}, {\"year\": 1350, \"eff\": 0, \"names\": \"\"}, {\"year\": 1351, \"eff\": 0, \"names\": \"\"}, {\"year\": 1352, \"eff\": 0, \"names\": \"\"}, {\"year\": 1353, \"eff\": 0, \"names\": \"\"}, {\"year\": 1354, \"eff\": 0, \"names\": \"\"}, {\"year\": 1355, \"eff\": 0, \"names\": \"\"}, {\"year\": 1356, \"eff\": 0, \"names\": \"\"}, {\"year\": 1357, \"eff\": 0, \"names\": \"\"}, {\"year\": 1358, \"eff\": 0, \"names\": \"\"}, {\"year\": 1359, \"eff\": 0, \"names\": \"\"}, {\"year\": 1360, \"eff\": 0, \"names\": \"\"}, {\"year\": 1361, \"eff\": 0, \"names\": \"\"}, {\"year\": 1362, \"eff\": 0, \"names\": \"\"}, {\"year\": 1363, \"eff\": 0, \"names\": \"\"}, {\"year\": 1364, \"eff\": 0, \"names\": \"\"}, {\"year\": 1365, \"eff\": 0, \"names\": \"\"}, {\"year\": 1366, \"eff\": 0, \"names\": \"\"}, {\"year\": 1367, \"eff\": 0, \"names\": \"\"}, {\"year\": 1368, \"eff\": 0, \"names\": \"\"}, {\"year\": 1369, \"eff\": 0, \"names\": \"\"}, {\"year\": 1370, \"eff\": 0, \"names\": \"\"}, {\"year\": 1371, \"eff\": 0, \"names\": \"\"}, {\"year\": 1372, \"eff\": 0, \"names\": \"\"}, {\"year\": 1373, \"eff\": 0, \"names\": \"\"}, {\"year\": 1374, \"eff\": 0, \"names\": \"\"}, {\"year\": 1375, \"eff\": 0, \"names\": \"\"}, {\"year\": 1376, \"eff\": 0, \"names\": \"\"}, {\"year\": 1377, \"eff\": 0, \"names\": \"\"}, {\"year\": 1378, \"eff\": 0, \"names\": \"\"}, {\"year\": 1379, \"eff\": 0, \"names\": \"\"}, {\"year\": 1380, \"eff\": 0, \"names\": \"\"}, {\"year\": 1381, \"eff\": 0, \"names\": \"\"}, {\"year\": 1382, \"eff\": 0, \"names\": \"\"}, {\"year\": 1383, \"eff\": 0, \"names\": \"\"}, {\"year\": 1384, \"eff\": 0, \"names\": \"\"}, {\"year\": 1385, \"eff\": 0, \"names\": \"\"}, {\"year\": 1386, \"eff\": 0, \"names\": \"\"}, {\"year\": 1387, \"eff\": 0, \"names\": \"\"}, {\"year\": 1388, \"eff\": 0, \"names\": \"\"}, {\"year\": 1389, \"eff\": 0, \"names\": \"\"}, {\"year\": 1390, \"eff\": 0, \"names\": \"\"}, {\"year\": 1391, \"eff\": 0, \"names\": \"\"}, {\"year\": 1392, \"eff\": 0, \"names\": \"\"}, {\"year\": 1393, \"eff\": 0, \"names\": \"\"}, {\"year\": 1394, \"eff\": 0, \"names\": \"\"}, {\"year\": 1395, \"eff\": 0, \"names\": \"\"}, {\"year\": 1396, \"eff\": 0, \"names\": \"\"}, {\"year\": 1397, \"eff\": 0, \"names\": \"\"}, {\"year\": 1398, \"eff\": 0, \"names\": \"\"}, {\"year\": 1399, \"eff\": 0, \"names\": \"\"}, {\"year\": 1400, \"eff\": 0, \"names\": \"\"}, {\"year\": 1401, \"eff\": 0, \"names\": \"\"}, {\"year\": 1402, \"eff\": 0, \"names\": \"\"}, {\"year\": 1403, \"eff\": 0, \"names\": \"\"}, {\"year\": 1404, \"eff\": 0, \"names\": \"\"}, {\"year\": 1405, \"eff\": 0, \"names\": \"\"}, {\"year\": 1406, \"eff\": 0, \"names\": \"\"}, {\"year\": 1407, \"eff\": 0, \"names\": \"\"}, {\"year\": 1408, \"eff\": 0, \"names\": \"\"}, {\"year\": 1409, \"eff\": 0, \"names\": \"\"}, {\"year\": 1410, \"eff\": 0, \"names\": \"\"}, {\"year\": 1411, \"eff\": 0, \"names\": \"\"}, {\"year\": 1412, \"eff\": 0, \"names\": \"\"}, {\"year\": 1413, \"eff\": 0, \"names\": \"\"}, {\"year\": 1414, \"eff\": 0, \"names\": \"\"}, {\"year\": 1415, \"eff\": 0, \"names\": \"\"}, {\"year\": 1416, \"eff\": 0, \"names\": \"\"}, {\"year\": 1417, \"eff\": 0, \"names\": \"\"}, {\"year\": 1418, \"eff\": 0, \"names\": \"\"}, {\"year\": 1419, \"eff\": 0, \"names\": \"\"}, {\"year\": 1420, \"eff\": 0, \"names\": \"\"}, {\"year\": 1421, \"eff\": 0, \"names\": \"\"}, {\"year\": 1422, \"eff\": 0, \"names\": \"\"}, {\"year\": 1423, \"eff\": 2, \"names\": \"Georg_von_Peuerbach, Antonio_Manetti\"}, {\"year\": 1424, \"eff\": 0, \"names\": \"\"}, {\"year\": 1425, \"eff\": 0, \"names\": \"\"}, {\"year\": 1426, \"eff\": 0, \"names\": \"\"}, {\"year\": 1427, \"eff\": 0, \"names\": \"\"}, {\"year\": 1428, \"eff\": 0, \"names\": \"\"}, {\"year\": 1429, \"eff\": 0, \"names\": \"\"}, {\"year\": 1430, \"eff\": 0, \"names\": \"\"}, {\"year\": 1431, \"eff\": 0, \"names\": \"\"}, {\"year\": 1432, \"eff\": 0, \"names\": \"\"}, {\"year\": 1433, \"eff\": 0, \"names\": \"\"}, {\"year\": 1434, \"eff\": 0, \"names\": \"\"}, {\"year\": 1435, \"eff\": 0, \"names\": \"\"}, {\"year\": 1436, \"eff\": 1, \"names\": \"Regiomontanus\"}, {\"year\": 1437, \"eff\": 0, \"names\": \"\"}, {\"year\": 1438, \"eff\": 0, \"names\": \"\"}, {\"year\": 1439, \"eff\": 0, \"names\": \"\"}, {\"year\": 1440, \"eff\": 0, \"names\": \"\"}, {\"year\": 1441, \"eff\": 0, \"names\": \"\"}, {\"year\": 1442, \"eff\": 0, \"names\": \"\"}, {\"year\": 1443, \"eff\": 0, \"names\": \"\"}, {\"year\": 1444, \"eff\": 1, \"names\": \"Nilakantha_Somayaji\"}, {\"year\": 1445, \"eff\": 0, \"names\": \"\"}, {\"year\": 1446, \"eff\": 0, \"names\": \"\"}, {\"year\": 1447, \"eff\": 0, \"names\": \"\"}, {\"year\": 1448, \"eff\": 0, \"names\": \"\"}, {\"year\": 1449, \"eff\": 0, \"names\": \"\"}, {\"year\": 1450, \"eff\": 0, \"names\": \"\"}, {\"year\": 1451, \"eff\": 0, \"names\": \"\"}, {\"year\": 1452, \"eff\": 1, \"names\": \"Abraham_Zacuto\"}, {\"year\": 1453, \"eff\": 0, \"names\": \"\"}, {\"year\": 1454, \"eff\": 0, \"names\": \"\"}, {\"year\": 1455, \"eff\": 0, \"names\": \"\"}, {\"year\": 1456, \"eff\": 0, \"names\": \"\"}, {\"year\": 1457, \"eff\": 0, \"names\": \"\"}, {\"year\": 1458, \"eff\": 0, \"names\": \"\"}, {\"year\": 1459, \"eff\": 0, \"names\": \"\"}, {\"year\": 1460, \"eff\": 0, \"names\": \"\"}, {\"year\": 1461, \"eff\": 0, \"names\": \"\"}, {\"year\": 1462, \"eff\": 0, \"names\": \"\"}, {\"year\": 1463, \"eff\": 0, \"names\": \"\"}, {\"year\": 1464, \"eff\": 0, \"names\": \"\"}, {\"year\": 1465, \"eff\": 1, \"names\": \"Scipione_del_Ferro\"}, {\"year\": 1466, \"eff\": 0, \"names\": \"\"}, {\"year\": 1467, \"eff\": 0, \"names\": \"\"}, {\"year\": 1468, \"eff\": 0, \"names\": \"\"}, {\"year\": 1469, \"eff\": 0, \"names\": \"\"}, {\"year\": 1470, \"eff\": 0, \"names\": \"\"}, {\"year\": 1471, \"eff\": 0, \"names\": \"\"}, {\"year\": 1472, \"eff\": 0, \"names\": \"\"}, {\"year\": 1473, \"eff\": 1, \"names\": \"Nicolaus_Copernicus\"}, {\"year\": 1474, \"eff\": 0, \"names\": \"\"}, {\"year\": 1475, \"eff\": 0, \"names\": \"\"}, {\"year\": 1476, \"eff\": 0, \"names\": \"\"}, {\"year\": 1477, \"eff\": 0, \"names\": \"\"}, {\"year\": 1478, \"eff\": 0, \"names\": \"\"}, {\"year\": 1479, \"eff\": 0, \"names\": \"\"}, {\"year\": 1480, \"eff\": 0, \"names\": \"\"}, {\"year\": 1481, \"eff\": 0, \"names\": \"\"}, {\"year\": 1482, \"eff\": 0, \"names\": \"\"}, {\"year\": 1483, \"eff\": 0, \"names\": \"\"}, {\"year\": 1484, \"eff\": 0, \"names\": \"\"}, {\"year\": 1485, \"eff\": 0, \"names\": \"\"}, {\"year\": 1486, \"eff\": 0, \"names\": \"\"}, {\"year\": 1487, \"eff\": 0, \"names\": \"\"}, {\"year\": 1488, \"eff\": 0, \"names\": \"\"}, {\"year\": 1489, \"eff\": 0, \"names\": \"\"}, {\"year\": 1490, \"eff\": 0, \"names\": \"\"}, {\"year\": 1491, \"eff\": 0, \"names\": \"\"}, {\"year\": 1492, \"eff\": 1, \"names\": \"Adam_Ries\"}, {\"year\": 1493, \"eff\": 0, \"names\": \"\"}, {\"year\": 1494, \"eff\": 1, \"names\": \"Oronce_Fin\\u00e9\"}, {\"year\": 1495, \"eff\": 0, \"names\": \"\"}, {\"year\": 1496, \"eff\": 0, \"names\": \"\"}, {\"year\": 1497, \"eff\": 0, \"names\": \"\"}, {\"year\": 1498, \"eff\": 0, \"names\": \"\"}, {\"year\": 1499, \"eff\": 0, \"names\": \"\"}, {\"year\": 1500, \"eff\": 0, \"names\": \"\"}, {\"year\": 1501, \"eff\": 0, \"names\": \"\"}, {\"year\": 1502, \"eff\": 0, \"names\": \"\"}, {\"year\": 1503, \"eff\": 0, \"names\": \"\"}, {\"year\": 1504, \"eff\": 0, \"names\": \"\"}, {\"year\": 1505, \"eff\": 0, \"names\": \"\"}, {\"year\": 1506, \"eff\": 0, \"names\": \"\"}, {\"year\": 1507, \"eff\": 0, \"names\": \"\"}, {\"year\": 1508, \"eff\": 0, \"names\": \"\"}, {\"year\": 1509, \"eff\": 0, \"names\": \"\"}, {\"year\": 1510, \"eff\": 0, \"names\": \"\"}, {\"year\": 1511, \"eff\": 1, \"names\": \"Erasmus_Reinhold\"}, {\"year\": 1512, \"eff\": 0, \"names\": \"\"}, {\"year\": 1513, \"eff\": 0, \"names\": \"\"}, {\"year\": 1514, \"eff\": 1, \"names\": \"Georg_Joachim_Rheticus\"}, {\"year\": 1515, \"eff\": 0, \"names\": \"\"}, {\"year\": 1516, \"eff\": 0, \"names\": \"\"}, {\"year\": 1517, \"eff\": 1, \"names\": \"Jacques_Pelletier_du_Mans\"}, {\"year\": 1518, \"eff\": 0, \"names\": \"\"}, {\"year\": 1519, \"eff\": 0, \"names\": \"\"}, {\"year\": 1520, \"eff\": 0, \"names\": \"\"}, {\"year\": 1521, \"eff\": 0, \"names\": \"\"}, {\"year\": 1522, \"eff\": 1, \"names\": \"Lodovico_Ferrari\"}, {\"year\": 1523, \"eff\": 0, \"names\": \"\"}, {\"year\": 1524, \"eff\": 0, \"names\": \"\"}, {\"year\": 1525, \"eff\": 1, \"names\": \"Peter_Agricola\"}, {\"year\": 1526, \"eff\": 0, \"names\": \"\"}, {\"year\": 1527, \"eff\": 1, \"names\": \"John_Dee\"}, {\"year\": 1528, \"eff\": 0, \"names\": \"\"}, {\"year\": 1529, \"eff\": 0, \"names\": \"\"}, {\"year\": 1530, \"eff\": 1, \"names\": \"Giambattista_Benedetti\"}, {\"year\": 1531, \"eff\": 0, \"names\": \"\"}, {\"year\": 1532, \"eff\": 0, \"names\": \"\"}, {\"year\": 1533, \"eff\": 0, \"names\": \"\"}, {\"year\": 1534, \"eff\": 0, \"names\": \"\"}, {\"year\": 1535, \"eff\": 0, \"names\": \"\"}, {\"year\": 1536, \"eff\": 0, \"names\": \"\"}, {\"year\": 1537, \"eff\": 0, \"names\": \"\"}, {\"year\": 1538, \"eff\": 1, \"names\": \"Christopher_Clavius\"}, {\"year\": 1539, \"eff\": 0, \"names\": \"\"}, {\"year\": 1540, \"eff\": 2, \"names\": \"Ludolph_van_Ceulen, Ostilio_Ricci\"}, {\"year\": 1541, \"eff\": 0, \"names\": \"\"}, {\"year\": 1542, \"eff\": 0, \"names\": \"\"}, {\"year\": 1543, \"eff\": 0, \"names\": \"\"}, {\"year\": 1544, \"eff\": 0, \"names\": \"\"}, {\"year\": 1545, \"eff\": 0, \"names\": \"\"}, {\"year\": 1546, \"eff\": 1, \"names\": \"Rudolph_Snellius\"}, {\"year\": 1547, \"eff\": 1, \"names\": \"Baha'_al-din_al-'Amili\"}, {\"year\": 1548, \"eff\": 0, \"names\": \"\"}, {\"year\": 1549, \"eff\": 0, \"names\": \"\"}, {\"year\": 1550, \"eff\": 1, \"names\": \"John_Napier\"}, {\"year\": 1551, \"eff\": 0, \"names\": \"\"}, {\"year\": 1552, \"eff\": 2, \"names\": \"Jost_B\\u00fcrgi, Petrus_Ryff\"}, {\"year\": 1553, \"eff\": 0, \"names\": \"\"}, {\"year\": 1554, \"eff\": 0, \"names\": \"\"}, {\"year\": 1555, \"eff\": 0, \"names\": \"\"}, {\"year\": 1556, \"eff\": 0, \"names\": \"\"}, {\"year\": 1557, \"eff\": 0, \"names\": \"\"}, {\"year\": 1558, \"eff\": 0, \"names\": \"\"}, {\"year\": 1559, \"eff\": 0, \"names\": \"\"}, {\"year\": 1560, \"eff\": 0, \"names\": \"\"}, {\"year\": 1561, \"eff\": 1, \"names\": \"Henry_Briggs_(mathematician)\"}, {\"year\": 1562, \"eff\": 0, \"names\": \"\"}, {\"year\": 1563, \"eff\": 0, \"names\": \"\"}, {\"year\": 1564, \"eff\": 0, \"names\": \"\"}, {\"year\": 1565, \"eff\": 0, \"names\": \"\"}, {\"year\": 1566, \"eff\": 0, \"names\": \"\"}, {\"year\": 1567, \"eff\": 0, \"names\": \"\"}, {\"year\": 1568, \"eff\": 1, \"names\": \"Marino_Ghetaldi\"}, {\"year\": 1569, \"eff\": 0, \"names\": \"\"}, {\"year\": 1570, \"eff\": 0, \"names\": \"\"}, {\"year\": 1571, \"eff\": 2, \"names\": \"Adriaan_Metius, Johannes_Kepler\"}, {\"year\": 1572, \"eff\": 0, \"names\": \"\"}, {\"year\": 1573, \"eff\": 0, \"names\": \"\"}, {\"year\": 1574, \"eff\": 2, \"names\": \"Robert_Fludd, William_Oughtred\"}, {\"year\": 1575, \"eff\": 0, \"names\": \"\"}, {\"year\": 1576, \"eff\": 0, \"names\": \"\"}, {\"year\": 1577, \"eff\": 1, \"names\": \"Paul_Guldin\"}, {\"year\": 1578, \"eff\": 0, \"names\": \"\"}, {\"year\": 1579, \"eff\": 0, \"names\": \"\"}, {\"year\": 1580, \"eff\": 1, \"names\": \"Willebrord_Snellius\"}, {\"year\": 1581, \"eff\": 1, \"names\": \"Claude_Gaspar_Bachet_de_M\\u00e9ziriac\"}, {\"year\": 1582, \"eff\": 1, \"names\": \"Mario_Bettinus\"}, {\"year\": 1583, \"eff\": 0, \"names\": \"\"}, {\"year\": 1584, \"eff\": 0, \"names\": \"\"}, {\"year\": 1585, \"eff\": 0, \"names\": \"\"}, {\"year\": 1586, \"eff\": 0, \"names\": \"\"}, {\"year\": 1587, \"eff\": 0, \"names\": \"\"}, {\"year\": 1588, \"eff\": 2, \"names\": \"Benjamin_Bramer, Ole_Worm\"}, {\"year\": 1589, \"eff\": 0, \"names\": \"\"}, {\"year\": 1590, \"eff\": 0, \"names\": \"\"}, {\"year\": 1591, \"eff\": 0, \"names\": \"\"}, {\"year\": 1592, \"eff\": 1, \"names\": \"Pierre_Gassendi\"}, {\"year\": 1593, \"eff\": 0, \"names\": \"\"}, {\"year\": 1594, \"eff\": 0, \"names\": \"\"}, {\"year\": 1595, \"eff\": 0, \"names\": \"\"}, {\"year\": 1596, \"eff\": 1, \"names\": \"Ren\\u00e9_Descartes\"}, {\"year\": 1597, \"eff\": 0, \"names\": \"\"}, {\"year\": 1598, \"eff\": 0, \"names\": \"\"}, {\"year\": 1599, \"eff\": 0, \"names\": \"\"}, {\"year\": 1600, \"eff\": 0, \"names\": \"\"}, {\"year\": 1601, \"eff\": 2, \"names\": \"Florimond_de_Beaune, Ovidio_Montalbani\"}, {\"year\": 1602, \"eff\": 1, \"names\": \"Gilles_de_Roberval\"}, {\"year\": 1603, \"eff\": 1, \"names\": \"Placidus_de_Titis\"}, {\"year\": 1604, \"eff\": 0, \"names\": \"\"}, {\"year\": 1605, \"eff\": 1, \"names\": \"Isma\\u00ebl_Bullialdus\"}, {\"year\": 1606, \"eff\": 2, \"names\": \"Vincentio_Reinieri, Juan_Caramuel_y_Lobkowitz\"}, {\"year\": 1607, \"eff\": 1, \"names\": \"Pierre_de_Fermat\"}, {\"year\": 1608, \"eff\": 2, \"names\": \"Giovanni_Alfonso_Borelli, Honor\\u00e9_Fabri\"}, {\"year\": 1609, \"eff\": 0, \"names\": \"\"}, {\"year\": 1610, \"eff\": 0, \"names\": \"\"}, {\"year\": 1611, \"eff\": 1, \"names\": \"John_Pell_(mathematician)\"}, {\"year\": 1612, \"eff\": 0, \"names\": \"\"}, {\"year\": 1613, \"eff\": 0, \"names\": \"\"}, {\"year\": 1614, \"eff\": 0, \"names\": \"\"}, {\"year\": 1615, \"eff\": 0, \"names\": \"\"}, {\"year\": 1616, \"eff\": 1, \"names\": \"Thomas_Bartholin\"}, {\"year\": 1617, \"eff\": 0, \"names\": \"\"}, {\"year\": 1618, \"eff\": 1, \"names\": \"Francesco_Maria_Grimaldi\"}, {\"year\": 1619, \"eff\": 1, \"names\": \"Michelangelo_Ricci\"}, {\"year\": 1620, \"eff\": 0, \"names\": \"\"}, {\"year\": 1621, \"eff\": 1, \"names\": \"Magnus_Celsius\"}, {\"year\": 1622, \"eff\": 2, \"names\": \"Vincenzo_Viviani, Ren\\u00e9-Fran\\u00e7ois_de_Sluse\"}, {\"year\": 1623, \"eff\": 2, \"names\": \"Blaise_Pascal, Ferdinand_Verbiest\"}, {\"year\": 1624, \"eff\": 0, \"names\": \"\"}, {\"year\": 1625, \"eff\": 2, \"names\": \"Giovanni_Domenico_Cassini, Erhard_Weigel\"}, {\"year\": 1626, \"eff\": 0, \"names\": \"\"}, {\"year\": 1627, \"eff\": 0, \"names\": \"\"}, {\"year\": 1628, \"eff\": 1, \"names\": \"Johannes_Hudde\"}, {\"year\": 1629, \"eff\": 2, \"names\": \"Christiaan_Huygens, Richard_Towneley\"}, {\"year\": 1630, \"eff\": 0, \"names\": \"\"}, {\"year\": 1631, \"eff\": 0, \"names\": \"\"}, {\"year\": 1632, \"eff\": 1, \"names\": \"Samuel_von_Pufendorf\"}, {\"year\": 1633, \"eff\": 1, \"names\": \"Alessandro_Marchetti_(mathematician)\"}, {\"year\": 1634, \"eff\": 0, \"names\": \"\"}, {\"year\": 1635, \"eff\": 1, \"names\": \"Francis_Willughby\"}, {\"year\": 1636, \"eff\": 0, \"names\": \"\"}, {\"year\": 1637, \"eff\": 0, \"names\": \"\"}, {\"year\": 1638, \"eff\": 0, \"names\": \"\"}, {\"year\": 1639, \"eff\": 0, \"names\": \"\"}, {\"year\": 1640, \"eff\": 3, \"names\": \"Philippe_de_La_Hire, Bernard_Lamy, Jacques_Ozanam\"}, {\"year\": 1641, \"eff\": 0, \"names\": \"\"}, {\"year\": 1642, \"eff\": 0, \"names\": \"\"}, {\"year\": 1643, \"eff\": 0, \"names\": \"\"}, {\"year\": 1644, \"eff\": 1, \"names\": \"Otto_Mencke\"}, {\"year\": 1645, \"eff\": 2, \"names\": \"Eusebio_Kino, Thomas_Pereira\"}, {\"year\": 1646, \"eff\": 1, \"names\": \"Gottfried_Wilhelm_Leibniz\"}, {\"year\": 1647, \"eff\": 1, \"names\": \"Giovanni_Ceva\"}, {\"year\": 1648, \"eff\": 1, \"names\": \"Tommaso_Ceva\"}, {\"year\": 1649, \"eff\": 0, \"names\": \"\"}, {\"year\": 1650, \"eff\": 0, \"names\": \"\"}, {\"year\": 1651, \"eff\": 1, \"names\": \"Ehrenfried_Walther_von_Tschirnhaus\"}, {\"year\": 1652, \"eff\": 1, \"names\": \"Michel_Rolle\"}, {\"year\": 1653, \"eff\": 0, \"names\": \"\"}, {\"year\": 1654, \"eff\": 0, \"names\": \"\"}, {\"year\": 1655, \"eff\": 0, \"names\": \"\"}, {\"year\": 1656, \"eff\": 1, \"names\": \"Nicolaas_Hartsoeker\"}, {\"year\": 1657, \"eff\": 0, \"names\": \"\"}, {\"year\": 1658, \"eff\": 0, \"names\": \"\"}, {\"year\": 1659, \"eff\": 2, \"names\": \"Jacob_Roggeveen, David_Gregory_(mathematician)\"}, {\"year\": 1660, \"eff\": 1, \"names\": \"Thomas_Fantet_de_Lagny\"}, {\"year\": 1661, \"eff\": 0, \"names\": \"\"}, {\"year\": 1662, \"eff\": 0, \"names\": \"\"}, {\"year\": 1663, \"eff\": 0, \"names\": \"\"}, {\"year\": 1664, \"eff\": 1, \"names\": \"Nicolas_Fatio_de_Duillier\"}, {\"year\": 1665, \"eff\": 0, \"names\": \"\"}, {\"year\": 1666, \"eff\": 0, \"names\": \"\"}, {\"year\": 1667, \"eff\": 3, \"names\": \"Abraham_de_Moivre, Johann_Bernoulli, William_Whiston\"}, {\"year\": 1668, \"eff\": 0, \"names\": \"\"}, {\"year\": 1669, \"eff\": 0, \"names\": \"\"}, {\"year\": 1670, \"eff\": 1, \"names\": \"Maria_Margaretha_Kirch\"}, {\"year\": 1671, \"eff\": 0, \"names\": \"\"}, {\"year\": 1672, \"eff\": 0, \"names\": \"\"}, {\"year\": 1673, \"eff\": 0, \"names\": \"\"}, {\"year\": 1674, \"eff\": 1, \"names\": \"Eustachio_Manfredi\"}, {\"year\": 1675, \"eff\": 1, \"names\": \"Yves_Marie_Andr\\u00e9\"}, {\"year\": 1676, \"eff\": 1, \"names\": \"Jacopo_Riccati\"}, {\"year\": 1677, \"eff\": 0, \"names\": \"\"}, {\"year\": 1678, \"eff\": 1, \"names\": \"Pierre_Remond_de_Montmort\"}, {\"year\": 1679, \"eff\": 0, \"names\": \"\"}, {\"year\": 1680, \"eff\": 0, \"names\": \"\"}, {\"year\": 1681, \"eff\": 1, \"names\": \"Gabriele_Manfredi\"}, {\"year\": 1682, \"eff\": 2, \"names\": \"John_Hadley, Roger_Cotes\"}, {\"year\": 1683, \"eff\": 0, \"names\": \"\"}, {\"year\": 1684, \"eff\": 0, \"names\": \"\"}, {\"year\": 1685, \"eff\": 1, \"names\": \"Brook_Taylor\"}, {\"year\": 1686, \"eff\": 0, \"names\": \"\"}, {\"year\": 1687, \"eff\": 1, \"names\": \"Robert_Simson\"}, {\"year\": 1688, \"eff\": 0, \"names\": \"\"}, {\"year\": 1689, \"eff\": 1, \"names\": \"Robert_Smith_(mathematician)\"}, {\"year\": 1690, \"eff\": 1, \"names\": \"Christian_Goldbach\"}, {\"year\": 1691, \"eff\": 1, \"names\": \"Alessandro_Galilei\"}, {\"year\": 1692, \"eff\": 0, \"names\": \"\"}, {\"year\": 1693, \"eff\": 1, \"names\": \"Christian_August_Hausen\"}, {\"year\": 1694, \"eff\": 0, \"names\": \"\"}, {\"year\": 1695, \"eff\": 0, \"names\": \"\"}, {\"year\": 1696, \"eff\": 0, \"names\": \"\"}, {\"year\": 1697, \"eff\": 0, \"names\": \"\"}, {\"year\": 1698, \"eff\": 0, \"names\": \"\"}, {\"year\": 1699, \"eff\": 0, \"names\": \"\"}, {\"year\": 1700, \"eff\": 1, \"names\": \"Daniel_Bernoulli\"}, {\"year\": 1701, \"eff\": 2, \"names\": \"Charles_Marie_de_La_Condamine, William_Emerson_(mathematician)\"}, {\"year\": 1702, \"eff\": 0, \"names\": \"\"}, {\"year\": 1703, \"eff\": 0, \"names\": \"\"}, {\"year\": 1704, \"eff\": 2, \"names\": \"Gabriel_Cramer, Pedro_Vicente_Maldonado\"}, {\"year\": 1705, \"eff\": 0, \"names\": \"\"}, {\"year\": 1706, \"eff\": 1, \"names\": \"\\u00c9milie_du_Ch\\u00e2telet\"}, {\"year\": 1707, \"eff\": 4, \"names\": \"Vincenzo_Riccati, Leonhard_Euler, Pietro_De_Martino, Georges-Louis_Leclerc,_Comte_de_Buffon\"}, {\"year\": 1708, \"eff\": 0, \"names\": \"\"}, {\"year\": 1709, \"eff\": 0, \"names\": \"\"}, {\"year\": 1710, \"eff\": 2, \"names\": \"James_Short_(mathematician), Thomas_Simpson\"}, {\"year\": 1711, \"eff\": 0, \"names\": \"\"}, {\"year\": 1712, \"eff\": 1, \"names\": \"Johann_Samuel_K\\u00f6nig\"}, {\"year\": 1713, \"eff\": 2, \"names\": \"Jorge_Juan_y_Santacilia, Alexis_Clairaut\"}, {\"year\": 1714, \"eff\": 1, \"names\": \"John_Winthrop_(educator)\"}, {\"year\": 1715, \"eff\": 1, \"names\": \"Claude_Adrien_Helv\\u00e9tius\"}, {\"year\": 1716, \"eff\": 1, \"names\": \"Leonardo_Ximenes\"}, {\"year\": 1717, \"eff\": 0, \"names\": \"\"}, {\"year\": 1718, \"eff\": 1, \"names\": \"Maria_Gaetana_Agnesi\"}, {\"year\": 1719, \"eff\": 1, \"names\": \"Abraham_Gotthelf_K\\u00e4stner\"}, {\"year\": 1720, \"eff\": 1, \"names\": \"Mar\\u00eda_Andrea_Casamayor\"}, {\"year\": 1721, \"eff\": 0, \"names\": \"\"}, {\"year\": 1722, \"eff\": 0, \"names\": \"\"}, {\"year\": 1723, \"eff\": 1, \"names\": \"Tobias_Mayer\"}, {\"year\": 1724, \"eff\": 1, \"names\": \"Franz_Aepinus\"}, {\"year\": 1725, \"eff\": 1, \"names\": \"Jean-\\u00c9tienne_Montucla\"}, {\"year\": 1726, \"eff\": 1, \"names\": \"August_Nathanael_Grischow\"}, {\"year\": 1727, \"eff\": 0, \"names\": \"\"}, {\"year\": 1728, \"eff\": 2, \"names\": \"Paolo_Frisi, Johann_Heinrich_Lambert\"}, {\"year\": 1729, \"eff\": 0, \"names\": \"\"}, {\"year\": 1730, \"eff\": 2, \"names\": \"\\u00c9tienne_B\\u00e9zout, Charles_Bossut\"}, {\"year\": 1731, \"eff\": 1, \"names\": \"Benjamin_Banneker\"}, {\"year\": 1732, \"eff\": 3, \"names\": \"Jos\\u00e9_Celestino_Mutis, \\u00c9miland_Gauthey, Wenceslaus_Johann_Gustav_Karsten\"}, {\"year\": 1733, \"eff\": 2, \"names\": \"Carsten_Niebuhr, Jean-Charles_de_Borda\"}, {\"year\": 1734, \"eff\": 1, \"names\": \"Johann_Euler\"}, {\"year\": 1735, \"eff\": 3, \"names\": \"Jesse_Ramsden, Antonio_Maria_Lorgna, Gregorio_Fontana\"}, {\"year\": 1736, \"eff\": 2, \"names\": \"Joseph-Louis_Lagrange, Jean_Sylvain_Bailly\"}, {\"year\": 1737, \"eff\": 2, \"names\": \"Nicolas_Vilant, Charles_Hutton\"}, {\"year\": 1738, \"eff\": 0, \"names\": \"\"}, {\"year\": 1739, \"eff\": 0, \"names\": \"\"}, {\"year\": 1740, \"eff\": 4, \"names\": \"Jacques-Andr\\u00e9_Mallet, Thomas_Knowlton, Antonio_Lude\\u00f1a, Anders_Johan_Lexell\"}, {\"year\": 1741, \"eff\": 0, \"names\": \"\"}, {\"year\": 1742, \"eff\": 0, \"names\": \"\"}, {\"year\": 1743, \"eff\": 2, \"names\": \"Robert_Hamilton_(economist), Marquis_de_Condorcet\"}, {\"year\": 1744, \"eff\": 0, \"names\": \"\"}, {\"year\": 1745, \"eff\": 1, \"names\": \"Caspar_Wessel\"}, {\"year\": 1746, \"eff\": 3, \"names\": \"Gaspard_Monge, William_Trail, Jacques_Charles\"}, {\"year\": 1747, \"eff\": 1, \"names\": \"Aida_Yasuaki\"}, {\"year\": 1748, \"eff\": 2, \"names\": \"Charles_de_Tinseau_d'Amondans, Pietro_Cossali\"}, {\"year\": 1749, \"eff\": 0, \"names\": \"\"}, {\"year\": 1750, \"eff\": 2, \"names\": \"Isaac_Milner, Gilbert_Romme\"}, {\"year\": 1751, \"eff\": 1, \"names\": \"Abraham_Robertson\"}, {\"year\": 1752, \"eff\": 1, \"names\": \"Adrien-Marie_Legendre\"}, {\"year\": 1753, \"eff\": 2, \"names\": \"Lazare_Carnot, Nicola_Fergola\"}, {\"year\": 1754, \"eff\": 1, \"names\": \"Jurij_Vega\"}, {\"year\": 1755, \"eff\": 4, \"names\": \"Nicolas_Fuss, Marc-Antoine_Parseval, Gaspard_de_Prony, Eusebio_Valli\"}, {\"year\": 1756, \"eff\": 3, \"names\": \"John_West_(mathematician), Thomas_Jones_(mathematician), Jan_\\u015aniadecki\"}, {\"year\": 1757, \"eff\": 0, \"names\": \"\"}, {\"year\": 1758, \"eff\": 0, \"names\": \"\"}, {\"year\": 1759, \"eff\": 4, \"names\": \"Pietro_Paoli, Jared_Mansfield, Francisco_de_Borja_Gar\\u00e7\\u00e3o_Stockler, Louis_Fran\\u00e7ois_Antoine_Arbogast\"}, {\"year\": 1760, \"eff\": 2, \"names\": \"Christian_Kramp, Auguste-Savinien_Leblond\"}, {\"year\": 1761, \"eff\": 2, \"names\": \"Josef_de_Mendoza_y_R\\u00edos, Blasius_Merrem\"}, {\"year\": 1762, \"eff\": 0, \"names\": \"\"}, {\"year\": 1763, \"eff\": 0, \"names\": \"\"}, {\"year\": 1764, \"eff\": 1, \"names\": \"Luca_de_Samuele_Cagnazzi\"}, {\"year\": 1765, \"eff\": 6, \"names\": \"James_Ivory_(mathematician), Sylvestre_Fran\\u00e7ois_Lacroix, Peter_Nicholson_(architect), Paolo_Ruffini, Pierre-Simon_Girard, Johann_Friedrich_Pfaff\"}, {\"year\": 1766, \"eff\": 1, \"names\": \"John_Leslie_(physicist)\"}, {\"year\": 1767, \"eff\": 1, \"names\": \"Fran\\u00e7ois-Joseph_Servois\"}, {\"year\": 1768, \"eff\": 6, \"names\": \"Vincenzo_Brunacci, Joseph_Fourier, Fran\\u00e7ois_Fran\\u00e7ais, Jean-Robert_Argand, Francisco_Jos\\u00e9_de_Caldas, Li_Rui_(mathematician)\"}, {\"year\": 1769, \"eff\": 2, \"names\": \"Jean_Nicolas_Pierre_Hachette, Johann_Christian_Martin_Bartels\"}, {\"year\": 1770, \"eff\": 0, \"names\": \"\"}, {\"year\": 1771, \"eff\": 1, \"names\": \"Joseph_Diez_Gergonne\"}, {\"year\": 1772, \"eff\": 2, \"names\": \"Archibald_Alexander, John_William_Norie\"}, {\"year\": 1773, \"eff\": 7, \"names\": \"Nathaniel_Bowditch, Joseph_Caldwell, Robert_Woodhouse, Johann_Karl_Burckhardt, Louis-Benjamin_Franc\\u0153ur, Jakob_Friedrich_Fries, George_Cayley\"}, {\"year\": 1774, \"eff\": 3, \"names\": \"Olinthus_Gregory, Karl_Mollweide, Jean-Baptiste_Biot\"}, {\"year\": 1775, \"eff\": 3, \"names\": \"Andr\\u00e9-Marie_Amp\\u00e8re, Farkas_Bolyai, \\u00c9tienne-Louis_Malus\"}, {\"year\": 1776, \"eff\": 4, \"names\": \"Enoch_Lewis_(mathematician), Sophie_Germain, J\\u00f3zef_Maria_Hoene-Wro\\u0144ski, Peter_Barlow_(mathematician)\"}, {\"year\": 1777, \"eff\": 2, \"names\": \"Carl_Friedrich_Gauss, Daniel_Friedrich_Hecht\"}, {\"year\": 1778, \"eff\": 0, \"names\": \"\"}, {\"year\": 1779, \"eff\": 1, \"names\": \"Benjamin_Gompertz\"}, {\"year\": 1780, \"eff\": 1, \"names\": \"Ferdinand_Karl_Schweikart\"}, {\"year\": 1781, \"eff\": 5, \"names\": \"Joseph_Johann_von_Littrow, Sim\\u00e9on_Denis_Poisson, Bernard_Bolzano, Giovanni_Plana, David_Brewster\"}, {\"year\": 1782, \"eff\": 2, \"names\": \"Vincenzo_Flauti, Olry_Terquem\"}, {\"year\": 1783, \"eff\": 2, \"names\": \"Claude-Louis_Mathieu, Charles_Julien_Brianchon\"}, {\"year\": 1784, \"eff\": 3, \"names\": \"Samuel_Hunter_Christie, Friedrich_Bessel, Charles_Dupin\"}, {\"year\": 1785, \"eff\": 0, \"names\": \"\"}, {\"year\": 1786, \"eff\": 4, \"names\": \"Pierre-Dominique_Bazaine, Jacques_Philippe_Marie_Binet, Fran\\u00e7ois_Arago, James_Thomson_(mathematician)\"}, {\"year\": 1787, \"eff\": 1, \"names\": \"Pierre_Charles_Alexandre_Louis\"}, {\"year\": 1788, \"eff\": 3, \"names\": \"Jean-Victor_Poncelet, Antonio_Maria_Bordoni, Bj\\u00f6rn_Gunnlaugsson\"}, {\"year\": 1789, \"eff\": 3, \"names\": \"Georg_Ohm, Prosper_de_Mestre, Augustin-Louis_Cauchy\"}, {\"year\": 1790, \"eff\": 3, \"names\": \"Theodore_Strong, Charles_Terrot, August_Ferdinand_M\\u00f6bius\"}, {\"year\": 1791, \"eff\": 3, \"names\": \"George_Peacock, Micajah_Burnett, Victor-Am\\u00e9d\\u00e9e_Lebesgue\"}, {\"year\": 1792, \"eff\": 3, \"names\": \"John_Herschel, Gaspard-Gustave_de_Coriolis, Nikolai_Lobachevsky\"}, {\"year\": 1793, \"eff\": 3, \"names\": \"Th\\u00e9odore_Olivier, William_Hopkins, Michel_Chasles\"}, {\"year\": 1794, \"eff\": 1, \"names\": \"Gabrio_Piola\"}, {\"year\": 1795, \"eff\": 5, \"names\": \"Bernt_Michael_Holmboe, Gabriel_Lam\\u00e9, \\u00c9mile_L\\u00e9ger, Olinde_Rodrigues, Just_Mathias_Thiele\"}, {\"year\": 1796, \"eff\": 5, \"names\": \"Adolphe_Quetelet, Jakob_Steiner, Nikolai_Brashman, Baden_Powell_(mathematician), Andreas_von_Ettingshausen\"}, {\"year\": 1797, \"eff\": 3, \"names\": \"Jean-Marie_Duhamel, Georg_Frederik_Ursin, Pierre_Joseph_\\u00c9tienne_Finck\"}, {\"year\": 1798, \"eff\": 7, \"names\": \"Karl_Georg_Christian_von_Staudt, Adolf_Ferdinand_Wenceslaus_Brix, Pierre_Fr\\u00e9d\\u00e9ric_Sarrus, Christoph_Gudermann, \\u00c9tienne_Bobillier, Franz_Ernst_Neumann, Heinrich_Scherk\"}, {\"year\": 1799, \"eff\": 2, \"names\": \"Petrache_Poenaru, Karl_Heinrich_Gr\\u00e4ffe\"}, {\"year\": 1800, \"eff\": 1, \"names\": \"Karl_Wilhelm_Feuerbach\"}, {\"year\": 1801, \"eff\": 5, \"names\": \"Julius_Pl\\u00fccker, George_Biddell_Airy, Antoine_Augustin_Cournot, Mikhail_Ostrogradsky, Mary_Ann_Black\"}, {\"year\": 1802, \"eff\": 4, \"names\": \"Augustus_William_Smith, Niels_Henrik_Abel, Anton_Schr\\u00f6tter_von_Kristelli, J\\u00e1nos_Bolyai\"}, {\"year\": 1803, \"eff\": 6, \"names\": \"Guglielmo_Libri_Carucci_dalla_Sommaja, \\u00c9douard_Biot, John_Hymers, Jacques_Charles_Fran\\u00e7ois_Sturm, Giusto_Bellavitis, Christian_Doppler\"}, {\"year\": 1804, \"eff\": 2, \"names\": \"Elizur_Wright, Carl_Gustav_Jacob_Jacobi\"}, {\"year\": 1805, \"eff\": 2, \"names\": \"Edward_Sang, Peter_Gustav_Lejeune_Dirichlet\"}, {\"year\": 1806, \"eff\": 4, \"names\": \"Ferdinand_Minding, Thomas_Kirkman, Augustus_De_Morgan, James_Henry_Coffin\"}, {\"year\": 1807, \"eff\": 2, \"names\": \"Joseph_Petzval, Moritz_Abraham_Stern\"}, {\"year\": 1808, \"eff\": 3, \"names\": \"Philip_Kelland, Friedrich_Julius_Richelot, Emanuel_Bj\\u00f6rling\"}, {\"year\": 1809, \"eff\": 3, \"names\": \"Joseph_Liouville, Benjamin_Peirce, Hermann_Grassmann\"}, {\"year\": 1810, \"eff\": 2, \"names\": \"Ernst_Kummer, Hayyim_Selig_Slonimski\"}, {\"year\": 1811, \"eff\": 5, \"names\": \"Urbain_Le_Verrier, Andrew_Searle_Hart, Otto_Hesse, Elias_Loomis, \\u00c9variste_Galois\"}, {\"year\": 1812, \"eff\": 2, \"names\": \"Quirico_Filopanti, Adolph_G\\u00f6pel\"}, {\"year\": 1813, \"eff\": 6, \"names\": \"Paolo_Gorini, Robert_Richard_Anstice, Fr\\u00e9d\\u00e9ric_Ozanam, Pierre_Alphonse_Laurent, Radhanath_Sikdar, Samuel_J._Kirkwood\"}, {\"year\": 1814, \"eff\": 9, \"names\": \"Ludwig_Schl\\u00e4fli, John_Colenso, Carl_Johan_Malmsten, Ferdinando_Pio_Rosellini, Daniel_da_Silva_(mathematician), Eug\\u00e8ne_Charles_Catalan, Pierre_Wantzel, Alexander_John_Ellis, James_Joseph_Sylvester\"}, {\"year\": 1815, \"eff\": 2, \"names\": \"Karl_Weierstrass, Ada_Lovelace\"}, {\"year\": 1816, \"eff\": 2, \"names\": \"Jean_Fr\\u00e9d\\u00e9ric_Frenet, Rudolf_Wolf\"}, {\"year\": 1817, \"eff\": 3, \"names\": \"Carl_Wilhelm_Borchardt, Angelo_Genocchi, Charles_Auguste_Briot\"}, {\"year\": 1818, \"eff\": 1, \"names\": \"Charles_L._Reason\"}, {\"year\": 1819, \"eff\": 8, \"names\": \"Francis_Bashforth, Benjamin_Fillon, John_Couch_Adams, Sir_George_Stokes,_1st_Baronet, Joseph_Alfred_Serret, Jean_Claude_Bouquet, George_Salmon, Pierre_Ossian_Bonnet\"}, {\"year\": 1820, \"eff\": 2, \"names\": \"\\u00c9douard_Roche, Isaac_Todhunter\"}, {\"year\": 1821, \"eff\": 3, \"names\": \"Eduard_Heine, Pafnuty_Chebyshev, Arthur_Cayley\"}, {\"year\": 1822, \"eff\": 4, \"names\": \"Rudolf_Clausius, Joseph_Bertrand, John_Daniel_Runkle, Charles_Hermite\"}, {\"year\": 1823, \"eff\": 6, \"names\": \"Jules_Ho\\u00fcel, Oskar_Schl\\u00f6milch, Gotthold_Eisenstein, Enrico_Betti, Leopold_Kronecker, August_Davidov\"}, {\"year\": 1824, \"eff\": 6, \"names\": \"Samuel_F._Phillips, William_Thomson,_1st_Baron_Kelvin, Wawrzyniec_\\u017bmurko, George_Johnston_Allman, Lorenzo_Respighi, Francesco_Brioschi\"}, {\"year\": 1825, \"eff\": 8, \"names\": \"William_Spottiswoode, Karl_Ko\\u0159istka, Francesco_Fa\\u00e0_di_Bruno, Johann_Jakob_Balmer, Thomas_Henry_Huxley, Henry_Wilbraham, John_James_Walker, Carl_Anton_Bjerknes\"}, {\"year\": 1826, \"eff\": 5, \"names\": \"Giuseppe_Battaglini, Joseph_Winlock, Bernhard_Riemann, Henry_John_Stephen_Smith, Christian_Wiener\"}, {\"year\": 1827, \"eff\": 2, \"names\": \"Morris_Birkbeck_Pell, Lajos_Martin\"}, {\"year\": 1828, \"eff\": 3, \"names\": \"Karl_Mikhailovich_Peterson, Giuseppe_Bruno_(mathematician), W._H._Besant\"}, {\"year\": 1829, \"eff\": 6, \"names\": \"Heinrich_Schr\\u00f6ter, Ludvig_Lorenz, Robert_McNair_Ferguson, Norman_Macleod_Ferrers, Joseph_Wolstenholme, Elwin_Bruno_Christoffel\"}, {\"year\": 1830, \"eff\": 4, \"names\": \"Hubert_A._Newton, Alexander_Johnson_(mathematician), Heinrich_Friedrich_Gretschel, Emanuele_Fergola\"}, {\"year\": 1831, \"eff\": 4, \"names\": \"Edward_Routh, James_Clerk_Maxwell, Georg_Joseph_Sidler, Richard_Dedekind\"}, {\"year\": 1832, \"eff\": 7, \"names\": \"Wilhelm_Fiedler, Robert_Tucker_(mathematician), Carl_Neumann, Rudolf_Lipschitz, Eug\\u00e8ne_Rouch\\u00e9, Hermann_Kinkelin, Peter_Ludwig_Mejdell_Sylow\"}, {\"year\": 1833, \"eff\": 2, \"names\": \"Alfred_Clebsch, Lazarus_Fuchs\"}, {\"year\": 1834, \"eff\": 3, \"names\": \"Erastus_L._De_Forest, John_Venn, Isaac_Bradford\"}, {\"year\": 1835, \"eff\": 8, \"names\": \"Antanas_Baranauskas, Edward_Jan_Habich, Simon_Newcomb, \\u00c9mile_L\\u00e9onard_Mathieu, Artemas_Martin, John_Purser_(mathematician), Eugenio_Beltrami, Felice_Casorati_(mathematician)\"}, {\"year\": 1836, \"eff\": 4, \"names\": \"Julius_Weingarten, John_Howard_Van_Amringe, Cato_Maximilian_Guldberg, Dimitrije_Ne\\u0161i\\u0107\"}, {\"year\": 1837, \"eff\": 5, \"names\": \"Aleksandr_Korkin, Paul_Gordan, Paul_Gustav_Heinrich_Bachmann, Nikolai_Bugaev, Leo_K\\u00f6nigsberger\"}, {\"year\": 1838, \"eff\": 4, \"names\": \"Camille_Jordan, George_William_Hill, Jen\\u0151_Hunyady, Thorvald_N._Thiele\"}, {\"year\": 1839, \"eff\": 4, \"names\": \"Hermann_Hankel, Hieronymus_Georg_Zeuthen, Francesco_Siacci, Gustav_Roch\"}, {\"year\": 1840, \"eff\": 6, \"names\": \"Olaus_Henrici, Franz_Mertens, Julia_McNair_Wright, Ioan_Mire_Melik, \\u00c9mile_Lemoine, Carl_Johannes_Thomae\"}, {\"year\": 1841, \"eff\": 6, \"names\": \"Friedrich_Otto_Rudolf_Sturm, Antonio_Fais, William_Woolsey_Johnson, Andrea_Naccari, Paul_Matthieu_Hermann_Laurent, Theodor_von_Oppolzer\"}, {\"year\": 1842, \"eff\": 13, \"names\": \"Wilhelm_Jordan_(geodesist), Joseph_Valentin_Boussinesq, Susan_Jane_Cunningham, William_Davidson_Niven, \\u00c9douard_Lucas, George_Thom, Enrico_D'Ovidio, Jean_Gaston_Darboux, Jakob_Rosanes, Alexander_von_Brill, Giuseppe_Basso, John_William_Strutt,_3rd_Baron_Rayleigh, Sophus_Lie\"}, {\"year\": 1843, \"eff\": 2, \"names\": \"Hermann_Schwarz__Hermann_Schwarz__1, Ernst_Mauritz_Dahlin\"}, {\"year\": 1844, \"eff\": 6, \"names\": \"Paul_Mansion, Ljubomir_Kleri\\u0107, \\u00c1goston_Scholtz, Max_Noether, Georges_Henri_Halphen, Friedrich_Heinrich_Albert_Wangerin\"}, {\"year\": 1845, \"eff\": 12, \"names\": \"Albert_Victor_B\\u00e4cklund, Ernesto_Padova, Georg_Cantor, William_Kingdon_Clifford, Henri_Brocard, George_Minchin, Salomon_Eduard_Gubler, George_Darwin, Charles_Niven, Ulisse_Dini, Aurel_Voss, V\\u00e1clav_Je\\u0159\\u00e1bek\"}, {\"year\": 1846, \"eff\": 7, \"names\": \"Nikolay_Umov, Karol_Olszewski, G\\u00f6sta_Mittag-Leffler, Henry_Heaton, Friedrich_Wilhelm_August_Ludwig_Kiepert, Joaquim_Pimenta_de_Castro, M\\u00f3r_R\\u00e9thy\"}, {\"year\": 1847, \"eff\": 8, \"names\": \"Ormond_Stone, Eduardo_Torroja_Caballe, Cesare_Arzel\\u00e0, Gyula_Farkas_(natural_scientist), Wilhelm_Killing, Marcel_Alexandre_Bertrand, Christine_Ladd-Franklin, Gaston_Floquet\"}, {\"year\": 1848, \"eff\": 7, \"names\": \"Konstantin_Andreev, Jules_Tannery, Diederik_Korteweg, Hermann_Schubert, Emil_Weyr, Heinrich_Bruns, James_Whitbread_Lee_Glaisher\"}, {\"year\": 1849, \"eff\": 9, \"names\": \"Francis_Spring, Nikolay_Yakovlevich_Sonin, Felix_Klein, Gustav_von_Escherich, Charles_Thomas_Whitmell, Elling_Holst, Nicholas_Franklin_Roberts, Ferdinand_Georg_Frobenius, Gyula_K\\u0151nig\"}, {\"year\": 1850, \"eff\": 12, \"names\": \"Hjalmar_August_Schi\\u00f8tz, Sophie_Bryant, Arthur_Matthew_Weld_Downing, William_Edward_Story, Herman_Valentiner, Ludwig_Stickelberger, Oliver_Heaviside, J\\u00f8rgen_Pedersen_Gram, W._W._Rouse_Ball, Alfred_Pringsheim, William_Mitchinson_Hicks, William_Benjamin_Smith\"}, {\"year\": 1851, \"eff\": 7, \"names\": \"Edward_Mann_Langley, Spiru_Haret, George_Chrystal, Mathieu_Weill, Friedrich_Schottky, Ellen_Hayes, Adolf_Weiler\"}, {\"year\": 1852, \"eff\": 12, \"names\": \"Giovanni_Frattini, Clarence_Abiathar_Waldo, Constantin_Le_Paige, Ferdinand_von_Lindemann, William_Burnside, Johann_Heinrich_Graf, Gustaf_Enestr\\u00f6m, Walter_Gr\\u00f6bli, Bruno_Abakanowicz, Albin_Herzog, Fran\\u00e7ois_Cosserat, Andrey_Kiselyov\"}, {\"year\": 1853, \"eff\": 6, \"names\": \"Gregorio_Ricci-Curbastro, Salvatore_Pincherle, Arthur_Moritz_Schoenflies, G._B._Halsted, Temistocle_Calzecchi-Onesti, Evgraf_Fedorov\"}, {\"year\": 1854, \"eff\": 14, \"names\": \"Lip\\u00f3t_Klug, David_Emmanuel_(mathematician), Benjamin_Osgood_Peirce, Henri_Poincar\\u00e9, Giuseppe_Veronese, Hans_Carl_Friedrich_von_Mangoldt, Hjalmar_Mellin, Anders_Lindstedt, Jan_\\u015aleszy\\u0144ski, Alfred_Barnard_Basset, Percy_Alexander_MacMahon, Christian_Beyel, Fredrik_Elfving, Marcel_Brillouin\"}, {\"year\": 1855, \"eff\": 8, \"names\": \"Gyula_V\\u00e1lyi, William_Pitt_Durfee, Kikuchi_Dairoku, Alfredo_Capelli, Paul_\\u00c9mile_Appell, Giovanni_Battista_Guccia, John_Steggall, Adolf_Piltz\"}, {\"year\": 1856, \"eff\": 13, \"names\": \"Luigi_Bianchi, Paul_Dupuy, Arnold_Droz-Farny, Max_Margules, Andrey_Markov, Cargill_Gilston_Knott, Giacinto_Morera, \\u00c9mile_Picard, Carl_Runge, Wilhelm_Franz_Meyer, E._W._Hobson, Walther_von_Dyck, Thomas_Joannes_Stieltjes\"}, {\"year\": 1857, \"eff\": 4, \"names\": \"Karl_Pearson, Alexander_Yule_Fraser, Oskar_Bolza, Aleksandr_Lyapunov\"}, {\"year\": 1858, \"eff\": 6, \"names\": \"Gabriel_Xavier_Paul_Koenigs, \\u00c9douard_Goursat, Charlotte_Scott, Andrew_Forsyth, Giuseppe_Peano, Henry_Burchard_Fine\"}, {\"year\": 1859, \"eff\": 10, \"names\": \"Marie_Georges_Humbert, Ernesto_Ces\\u00e0ro, Samuil_Shatunovsky, Adolf_Hurwitz, Johan_Jensen_(mathematician), Giulio_Vivanti, Ludwig_Scheeffer, Ernst_K\\u00f6tter, Georg_Alexander_Pick, Otto_H\\u00f6lder\"}, {\"year\": 1860, \"eff\": 11, \"names\": \"David_Eugene_Smith, Agnes_Bell_Collier, August_Gutzmer, D'Arcy_Wentworth_Thompson, Vito_Volterra, Daniel_Barringer_(geologist), Alicia_Boole_Stott, Mario_Pieri, Th\\u00e9odore_Reinach, Frank_Morley, Carlo_Somigliana\"}, {\"year\": 1861, \"eff\": 16, \"names\": \"Alfred_North_Whitehead, Louis_George_Carpenter, Herbert_Ellsworth_Slaught, Ernst_Fiedler, Ivar_Otto_Bendixson, Cesare_Burali-Forti, William_John_Greenstreet, Percy_John_Heawood, Frank_Nelson_Cole, Robert_Fricke, Thomas_Heath_(classicist), Heinrich_Burkhardt, Eugen_Jahnke, Alexander_Witting, Friedrich_Engel_(mathematician), Kurt_Hensel\"}, {\"year\": 1862, \"eff\": 11, \"names\": \"David_Hilbert, E._H._Moore, Marius_Lacombe, Silvio_Gesell, Adolf_Kneser, Eduard_Study, Fritz_B\\u00fctzberger, Cassius_Jackson_Keyser, John_Edward_Campbell, Hermann_Brunn, Sebastian_Finsterwalder\"}, {\"year\": 1863, \"eff\": 15, \"names\": \"Axel_Thue, Mellen_Woodman_Haskell, Henrik_Petrini, Augustus_Edward_Hough_Love, Giovanni_Vailati, Luigi_Berzolari, John_Charles_Fields, Herbert_William_Richmond, Kelly_Miller_(scientist), Dmitry_Grave, Stanis\\u0142aw_Zaremba_(mathematician), William_Henry_Young, Paul_Painlev\\u00e9, Henri_Pad\\u00e9, Domenico_Montesano\"}, {\"year\": 1864, \"eff\": 10, \"names\": \"Vladimir_Steklov_(mathematician), William_Fogg_Osgood, J\\u00f3zsef_K\\u00fcrsch\\u00e1k, Alwin_Korselt, Clarence_G._Child, George_W._Myers, Hermann_Minkowski, Ludwig_Schlesinger, Cristoforo_Alasia_de_Quesada, E._W._Middlemast\"}, {\"year\": 1865, \"eff\": 16, \"names\": \"Julio_Garavito_Armero, Ernesto_Pascal, Anders_Wiman, Vladimir_Vari\\u0107ak, Ernest_Vessiot, Charles_Proteus_Steinmetz, John_Alexander_Third, Flora_Philip, Alfred_Cardew_Dixon, Wilhelm_Wirtinger, Guido_Castelnuovo, Willem_Abraham_Wythoff, John_Ethan_Hill, Piers_Bohl, Niels_Nielsen_(mathematician), Jacques_Hadamard\"}, {\"year\": 1866, \"eff\": 12, \"names\": \"Gustav_de_Vries, Eug\\u00e8ne_Cosserat, Ettore_Bortolotti, Erik_Ivar_Fredholm, James_Pierpont_(mathematician), Syamadas_Mukhopadhyaya, H._F._Baker, Arthur_Hirsch, Frances_Hardcastle, Charles_Jean_de_la_Vall\\u00e9e_Poussin, Ernest_William_Brown, Robert_William_Chapman_(engineer)\"}, {\"year\": 1867, \"eff\": 8, \"names\": \"Lawrence_Crawford_(mathematician), Karl_Zsigmondy, Derrick_Norman_Lehmer, Charles_Albert_Noble, Maxime_B\\u00f4cher, Martin_Kutta, Arthur_Lee_Dixon, Kristian_Birkeland\"}, {\"year\": 1868, \"eff\": 12, \"names\": \"Donald_McIntosh_(mathematician), Louis_Couturat, James_Ireland_Craig, Grace_Chisholm_Young, Philippa_Fawcett, Franz_Breisig, Georgy_Voronoy, Mihailo_Petrovi\\u0107_Alas, Alessandro_Padoa, Ant\\u00f3nio_Cabreira, Felix_Hausdorff, Emanuel_Lasker\"}, {\"year\": 1869, \"eff\": 9, \"names\": \"\\u00c9lie_Cartan, Isabel_Maddison, Philipp_Furtw\\u00e4ngler, Georg_Bohlmann, Charles_L._Bouton, Theodor_Vahlen, John_Stone_Stone, Dmitri_Egorov, Emilie_Martin\"}, {\"year\": 1870, \"eff\": 7, \"names\": \"Helge_von_Koch, Louis_Bachelier, Agnes_Sime_Baxter, Raoul_Bricard, Arthur_Korn, Louise_Duffield_Cummings, Virginia_Ragsdale\"}, {\"year\": 1871, \"eff\": 10, \"names\": \"Gino_Fano, Federigo_Enriques, Boris_Galerkin, Jules_Drach, Vladimir_Markov_(mathematician), Ernst_Steinitz, William_Duncan_MacMillan, Ernst_Zermelo, Poul_Heegaard, Nikolai_G\\u00fcnther\"}, {\"year\": 1872, \"eff\": 7, \"names\": \"Carlo_Severini, Willem_de_Sitter, Th\\u00e9ophile_de_Donder, Shirley_Jackson_Case, Giovanni_Vacca_(mathematician), Alexander_G._Burgess, Volodymyr_Levytsky\"}, {\"year\": 1873, \"eff\": 12, \"names\": \"Maria_Bakunin, Ziauddin_Ahmad, Tullio_Levi-Civita, John_Hilton_Grace, Theodor_Haagaas, Constantin_Carath\\u00e9odory, Alfreds_Meders, Julian_Coolidge, Gheorghe_\\u021ai\\u021beica, Dimitrie_Pompeiu, E._T._Whittaker, Josip_Plemelj\"}, {\"year\": 1874, \"eff\": 9, \"names\": \"Ren\\u00e9-Louis_Baire, Leonard_Eugene_Dickson, Ernest_Barnes, Edward_Vermilye_Huntington, Friedrich_Hartogs, Beatrice_Mabel_Cave-Browne-Cave, Peder_Oluf_Pedersen, Gerhard_Hessenberg, Carl_St\\u00f8rmer\"}, {\"year\": 1875, \"eff\": 13, \"names\": \"Thomas_John_I'Anson_Bromwich, Frank_Lauren_Hitchcock, Georges_Hostelet, Ugo_Amaldi_(mathematician), Teiji_Takagi, Beppo_Levi, Henri_Lebesgue, Ernst_Sigismund_Fischer, R._W._H._T._Hudson, Giuseppe_Vitali, Charles_Cobb_(economist), Raymond_Clare_Archibald, Andr\\u00e9-Louis_Cholesky\"}, {\"year\": 1876, \"eff\": 13, \"names\": \"Erhard_Schmidt, Luther_P._Eisenhart, Willem_van_der_Woude, Frances_Cave-Browne-Cave, Gerhard_Kowalewski, Paul_Montel, Gilbert_Ames_Bliss, Filip_Lundberg, Otto_Blumenthal, Samuel_McLaren, Earle_Raymond_Hedrick, Gaetano_Scorza, Ganesh_Prasad\"}, {\"year\": 1877, \"eff\": 9, \"names\": \"G._H._Hardy, Georg_Faber, James_Jeans, Georg_Hamel, Ole_Michael_Ludvigsen_Selberg, Max_Mason, Jaan_Sarv, Tommaso_Boggio, David_Drysdale_(mathematician)\"}, {\"year\": 1878, \"eff\": 19, \"names\": \"Agner_Krarup_Erlang, Samuel_C._Bradford, David_Raymond_Curtiss, Ram\\u00f3n_Mar\\u00eda_Aller_Ulloa, Felix_Bernstein_(mathematician), Pierre_Fatou, P._D._Ouspensky, Edward_Kasner, Marcel_Grossmann, Anna_Cartan, Leon_Lichtenstein, Leopold_L\\u00f6wenheim, Oliver_Dimon_Kellogg, Louis_Charles_Karpinski, W\\u0142adys\\u0142aw_Dziewulski, Oliver_Edmunds_Glenn, Beulah_Russell, Arthur_Byron_Coble, Max_Dehn\"}, {\"year\": 1879, \"eff\": 11, \"names\": \"Guido_Fubini, Robert_Daniel_Carmichael, Ernesto_Laura, Francesco_Severi, Edwin_Bidwell_Wilson, Werner_Boy, Milutin_Milankovi\\u0107, Giovanni_Giambelli, Hans_Hahn_(mathematician), Duncan_Sommerville, Henri_Villat\"}, {\"year\": 1880, \"eff\": 11, \"names\": \"Frigyes_Riesz, Lip\\u00f3t_Fej\\u00e9r, Alfred_J._Lotka, Sergei_Bernstein, Alvar_Palmgren, Oskar_Perron, Oswald_Veblen, Leonard_Bairstow, Rudolf_Fueter, Margarethe_Kahn, Pierre_Boutroux\"}, {\"year\": 1881, \"eff\": 11, \"names\": \"Antoni_\\u0141omnicki, Gustav_Herglotz, L._E._J._Brouwer, Theodore_von_K\\u00e1rm\\u00e1n, Hilda_Phoebe_Hudson, Gyula_P\\u00e1l, Otto_Toeplitz, Archibald_Read_Richardson, Lewis_Fry_Richardson, George_W._Snedecor, John_William_Nicholson\"}, {\"year\": 1882, \"eff\": 16, \"names\": \"Pavel_Florensky, Joseph_Wedderburn, Tadeusz_Banachiewicz, Paul_Koebe, Theodor_Meyer, Kazimierz_Bartel, Wac\\u0142aw_Sierpi\\u0144ski, Emmy_Noether, Andr\\u00e9_Sainte-Lagu\\u00eb, Harry_Bateman, Traian_Lalescu, Kwan-ichi_Terazawa, Konrad_Knopp, Harry_Vandiver, Leo_Perutz, Robert_Lee_Moore\"}, {\"year\": 1883, \"eff\": 14, \"names\": \"Eric_Temple_Bell, Klara_L\\u00f6benstein, J._V._Uspensky, Anna_Johnson_Pell_Wheeler, W\\u0142odzimierz_Sto\\u017cek, Katia_Mann, Klaus_Pringsheim_Sr., Jan_Arnoldus_Schouten, Norman_H._Anning, Ernst_Hellinger, Eugenio_Elia_Levi, Ludwig_Berwald, Aleksandr_Nekrasov, Nikolai_Luzin\"}, {\"year\": 1884, \"eff\": 13, \"names\": \"Arnaud_Denjoy, W\\u0142adys\\u0142aw_\\u015alebodzi\\u0144ski, Philipp_Frank, Arthur_Wieferich, John_Raymond_Wilton, Eduard_Helly, Gaston_Bachelard, Dilly_Knox, D._M._Smith, Solomon_Lefschetz, Georges_Valiron, D\\u00e9nes_K\\u0151nig, Fritz_Noether\"}, {\"year\": 1885, \"eff\": 17, \"names\": \"Karlis_Zalts, Robert_K\\u00f6nig, Leonida_Tonelli, Mauro_Picone, Roland_Weitzenb\\u00f6ck, John_Edensor_Littlewood, Andreas_Speiser, Herbert_Turnbull, Wilhelm_Blaschke, Olga_Tsuberbiller, Nicolas_Minorsky, Niels_Bohr, Alfr\\u00e9d_Haar, Viggo_Brun, Niels_Erik_N\\u00f8rlund, Hermann_Weyl, Theodor_Kaluza\"}, {\"year\": 1886, \"eff\": 14, \"names\": \"Nelli_Neumann, S\\u014dichi_Kakeya, Georges_Painvin, G._N._Watson, Pia_Nalli, Wallie_Abraham_Hurwitz, Stanis\\u0142aw_Le\\u015bniewski, Michael_Fekete, Walter_H._Schottky, J._Malcolm_Bird, Paul_L\\u00e9vy_(mathematician), Gustavo_Colonnetti, Marcel_Riesz, Ludwig_Bieberbach\"}, {\"year\": 1887, \"eff\": 12, \"names\": \"Hugo_Steinhaus, Harald_Bohr, Griffith_C._Evans, Thoralf_Skolem, Vladimir_Smirnov_(mathematician), Otto_M._Nikodym, Simion_Stoilow, Erich_Hecke, Guido_Ascoli, George_P\\u00f3lya, Johann_Radon, Srinivasa_Ramanujan\"}, {\"year\": 1888, \"eff\": 33, \"names\": \"Bhupati_Mohan_Sen, Richard_Courant, Louis_J._Mordell, Sydney_Chapman_(mathematician), Selig_Brodetsky, Robert_Remak_(mathematician), William_Edward_Hodgson_Berwick, Hans_Thirring, Antonio_Signorini_(physicist), Hans-Thilo_Schmidt, Archie_Alexander, Giovanni_Sansone, Iris_Runge, Grigorii_Fichtenholz, Alexander_Friedmann, Georges_Darmois, Richard_V._Southwell, Jacob_Tamarkin, Zygmunt_Janiszewski, Fritz_Carlson, Dunham_Jackson, Theophil_Henry_Hildebrandt, Viktor_Trkal, Julio_Rey_Pastor, Inayatullah_Khan_Mashriqi, James_Waddell_Alexander_II, Stefan_Mazurkiewicz, Moses_Sch\\u00f6nfinkel, William_Lloyd_Garrison_Williams, Ada_Dietz, Paul_Bernays, David_Francis_Barrow, Joseph_Proudman\"}, {\"year\": 1889, \"eff\": 13, \"names\": \"Eric_Harold_Neville, Theodore_William_Chaundy, Claribel_Kendall, Anton_Sushkevich, Ren\\u00e9_Gateaux, Mildred_Sanderson, Amadeo_Bordiga, Georges_Giraud, Stanis\\u0142aw_Ruziewicz, Vyacheslav_Stepanov, Henry_Forder, Izabela_Abramowicz, Attilio_Palatini\"}, {\"year\": 1890, \"eff\": 12, \"names\": \"Raymond_Woodard_Brink, Ronald_Fisher, Boris_Delaunay, Libera_Trevisani_Levi-Civita, Jiang_Lifu, Erich_Kamke, Johannes_van_der_Corput, Euphemia_Haynes, Ruth_Stokes, Georg_Feigl, Eugenio_Giuseppe_Togliatti, Aleksander_Rajchman\"}, {\"year\": 1891, \"eff\": 10, \"names\": \"Lester_S._Hill, Ivan_Privalov, Abraham_Fraenkel, Jen\\u0151_Egerv\\u00e1ry, Harold_Jeffreys, Fredrik_Lange-Nielsen, Leopold_Vietoris, Emil_Julius_Gumbel, Witold_Wilkosz, Rodion_Kuzmin\"}, {\"year\": 1892, \"eff\": 15, \"names\": \"Carlo_Emilio_Bonferroni, Teresa_Cohen, Amedeo_Agostini, Marston_Morse, Stefan_Banach, Hans_Rademacher, Dmitrii_Menshov, Arnold_Walfisz, Hermann_K\\u00fcnneth, Torsten_Carleman, S._R._Ranganathan, Mikhail_Kravchuk, Harold_Thayer_Davis, Viktor_Valentinovich_Novozhilov, Gustav_Doetsch\"}, {\"year\": 1893, \"eff\": 14, \"names\": \"Cornelius_Lanczos, Gaston_Julia, Dorothy_Walcott_Weeks, Bronis\\u0142aw_Knaster, Charles_Loewner, Mikhail_Subbotin, K._C._Nag, Joseph_Ritt, Wilfrid_Norman_Bailey, K._Ananda_Rau, Harald_Cram\\u00e9r, Kurt_Reidemeister, Xiong_Qinglai, Bill_Ferrar\"}, {\"year\": 1894, \"eff\": 24, \"names\": \"Satyendra_Nath_Bose, Vasily_Sergeevich_Nemchinov, William_Arthur_(mathematician), J._Ernest_Wilkins_Sr., Charles_Lambert_Manneback, Debaprasad_Ghosh, Crist\\u00f3bal_de_Losada_y_Puga, Jerzy_Neyman, Nikolai_Chebotaryov, Alfred_Aeppli, Alexandru_Froda, Warren_Weaver, Georges_Lema\\u00eetre, Aleksandr_Khinchin, Werner_Wolfgang_Rogosinski, Dirk_Jan_Struik, Edgar_Krahn, Emma_Vyssotsky, John_Lennard-Jones, Alexander_Lippisch, Heinz_Hopf, Frederick_Brundrett, Norbert_Wiener, Cataldo_Agostinelli\"}, {\"year\": 1895, \"eff\": 12, \"names\": \"G\\u00e1bor_Szeg\\u0151, Wilhelm_S\\u00fcss, Ion_Barbu, Stefan_Kaczmarz, Ole_Peder_Arvesen, Genevi\\u00e8ve_Guitel, Tibor_Rad\\u00f3, Paul_Nemenyi, Joseph_L._Walsh, Rolf_Nevanlinna, Hans_Ferdinand_Mayer, Elbert_Frank_Cox\"}, {\"year\": 1896, \"eff\": 15, \"names\": \"Jyotirmoy_Ghosh, Adrien_Pouliot, Kazimierz_Kuratowski, Nora_Calderwood, Wilhelm_Ackermann, Pavel_Alexandrov, Binyamin_Amir\\u00e0, Wilhelm_Vauck, Ivo_Lah, Tadeusz_Wa\\u017cewski, Enea_Bortolotti, Peng_Pai, Vladimir_Vrani\\u0107, Valery_Glivenko, Carl_Ludwig_Siegel\"}, {\"year\": 1897, \"eff\": 12, \"names\": \"Alexander_Weinstein, Sergei_Alexander_Schelkunoff, Max_Newman, Emil_Leon_Post, Douglas_Hartree, Francesco_Tricomi, John_G._Bennett, Yuri_Kondratyuk, Jesse_Douglas, E._J._G._Pitman, Vojt\\u011bch_Jarn\\u00edk, Stanis\\u0142aw_Saks\"}, {\"year\": 1898, \"eff\": 17, \"names\": \"George_F._C._Griss, Emil_Artin, David_Widder, Clarence_Raymond_Adams, Hellmuth_Kneser, Arend_Heyting, M._C._Escher, Arthur_Herbert_Copeland, Herbert_Marcuse, Helmut_Hasse, Philip_Franklin, Heinrich_Behnke, Marguerite_Lehr, Rapha\\u00ebl_Salem, John_Wishart_(statistician), Vladimir_Fock, Angelina_Cabras\"}, {\"year\": 1899, \"eff\": 14, \"names\": \"Szolem_Mandelbrojt, Wolfgang_Gr\\u00f6bner, John_Hasbrouck_Van_Vleck, Maximilian_Herzberger, Oscar_Zariski, Otakar_Bor\\u016fvka, Pelageya_Polubarinova-Kochina, Marie_Litzinger, Otto_E._Neugebauer, Edward_Charles_Titchmarsh, Ethel_Raybould, Salomon_Bochner, \\u00d8ystein_Ore, Lazar_Lyusternik\"}, {\"year\": 1900, \"eff\": 17, \"names\": \"Edward_Collingwood, Bernard_Koopman, Rosalind_Tanner, Albert_Ingham, Hendrik_Kloosterman, Ida_Rhodes, Wilhelm_Cauer, Gheorghe_Vr\\u0103nceanu, James_Hilton_(novelist), Haskell_Curry, David_van_Dantzig, L\\u00e1szl\\u00f3_R\\u00e9dei, Mikhail_Lavrentyev, Viktor_Vladimirovich_Nemytskii, George_Uhlenbeck, Mary_Cartwright, Antoni_Zygmund\"}, {\"year\": 1901, \"eff\": 23, \"names\": \"Alfred_Tarski, Ivan_Petrovsky, Richard_Brauer__Richard_Brauer__1, Grete_Hermann, Naum_Akhiezer, Th\\u00e9ophile_Lepage, Subbayya_Sivasankaranarayana_Pillai, Bento_de_Jesus_Cara\\u00e7a, Kiyoshi_Oka, Nikolai_Kochin, Max_Euwe, John_Williamson_(mathematician), Raj_Chandra_Bose, Z\\u00e9lie_Lard\\u00e9, Edward_Copson, George_Frederick_James_Temple, Luigi_Fantappi\\u00e8, Georg_Rasch, Friedrich_Karl_Schmidt, Kurt_Otto_Friedrichs, Isador_M._Sheffer, Wolfgang_Cramer, Nina_Bari\"}, {\"year\": 1902, \"eff\": 22, \"names\": \"Karl_Menger, Jovan_Karamata, Kenjiro_Shoda, Marion_Cameron_Gray, Eberhard_Hopf, Boyd_Crumrine_Patterson, Wolfgang_Haack, Kazimierz_Zarankiewicz, Edna_Kramer, Stefan_Cohn-Vossen, Carolyn_Eisele, Alfred_Kneschke, Alexandru_Ghika, Reinhold_Baer, Stanis\\u0142aw_Go\\u0142\\u0105b, Mina_Rees, Yasuo_Akizuki, Dirk_Brouwer, Abraham_Wald, Thomas_Gerald_Room, Hubert_Stanley_Wall, Hans_Schwerdtfeger\"}, {\"year\": 1903, \"eff\": 21, \"names\": \"Howard_P._Robertson, Bartel_Leendert_van_der_Waerden, Alexander_Oppenheim, Frank_Ramsey_(mathematician), Arno_Wolle, Aurel_Wintner, Marshall_Harvey_Stone, John_Riordan_(mathematician), Andrey_Kolmogorov, Maria_Reiche, Alonzo_Church, Dorothy_Brady, W._V._D._Hodge, Irmgard_Fl\\u00fcgge-Lotz, Kurt_Mahler, Miron_Nicolescu, W._Ross_Ashby, Georges_de_Rham, Jean_Delsarte, Sydney_Goldstein, John_von_Neumann\"}, {\"year\": 1904, \"eff\": 26, \"names\": \"Gordon_Thomas_Whyburn, Renato_Caccioppoli, Semyon_Belozyorov, Paul_Dubreil, Lyudmila_Keldysh, Philip_Hall, Stefan_E._Warschawski, Alston_Scott_Householder, Gustav_A._Hedlund, Nikolaus_Hofreiter, Edward_J._McShane, Adolf_Lindenbaum, Witold_Hurewicz, Henri_Cartan, Helmut_Grunsky, Alfred_Foster_(mathematician), Jacob_Levitzki, Ralph_Beebe_Blackman, Evan_Tom_Davies, Sophie_Piccard, Georgi_Bradistilov, Hans_Lewy, Jean_Coulomb, J._H._C._Whitehead, Michael_Ramsey, Moj\\u017cesz_Presburger\"}, {\"year\": 1905, \"eff\": 29, \"names\": \"Stanis\\u0142aw_Mazur, Lev_Schnirelmann, Ruth_Moufang, D._R._Kaprekar, Ernst_Stueckelberg, Arne_Beurling, Ren\\u00e9_de_Possel, William_Richard_Joseph_Cook, Charles_Ehresmann, Sergey_Nikolsky, Werner_Fenchel, Mitio_Nagumo, Winifred_Sargent, Karol_Borsuk, Edward_Linfoot, Marie-Louise_Dubreil-Jacotin, Laurence_Chisholm_Young, Marian_Rejewski, Karl_Schr\\u00f6ter, Alexander_Buchstab, Wolfgang_Franz_(mathematician), Mary_Clem, Abraham_Adrian_Albert, Hiroshi_Okamura, Sigekatu_Kuroda, Albert_W._Tucker, Emanuel_Sperner, K\\u00e4te_Fenchel, Gottfried_K\\u00f6the\"}, {\"year\": 1906, \"eff\": 32, \"names\": \"Grigore_Moisil, Erich_K\\u00e4hler, Nicholas_Georgescu-Roegen, Magnus_Hestenes, Tiberiu_Popoviciu, Henrik_Selberg, Fyodor_Gakhov, Boris_Demidovich, Shokichi_Iyanaga, Richard_Rado, Kurt_G\\u00f6del, Andr\\u00e9_Weil, Gerrit_Bol, R._G._D._Allen, Hermann_Boerner, Gordon_Welchman, Samuel_S._Wilks, Jean_Dieudonn\\u00e9, Gheorghe_Mihoc, William_Feller__William_Feller__1, Edwin_F._Beckenbach, Eugene_Lukacs, Arnold_Ross, Ernst_Peschl, Banesh_Hoffmann, Vera_Faddeeva, Andrey_Nikolayevich_Tikhonov, Emma_Lehmer, Jean_Leray, Georg_Aumann, Samarendra_Nath_Roy, Nelson_Dunford\"}, {\"year\": 1907, \"eff\": 25, \"names\": \"Otto_Frostman, Raymond_Paley, Sidney_Wilcox_McCuskey, Hassler_Whitney, Mark_Krein, Solomon_Kullback, Henry_Scheff\\u00e9, Lars_Ahlfors, Ilia_Vekua, B\\u00f8rge_Jessen, John_R._Womersley, Edgar_Lorch, Charles_B._Morrey_Jr., Nachman_Aronszajn, Irene_Fischer, \\u0110uro_Kurepa, Sarvadaman_Chowla, Harold_Davenport, Hermann_Behrbohm, Georg_N\\u00f6beling, Edward_Marczewski, Lakkoju_Sanjeevaraya_Sharma, Max_Deuring, Wladimir_Seidel, Leonard_Carlitz\"}, {\"year\": 1908, \"eff\": 30, \"names\": \"Mohsen_Hashtroodi, Jacob_Bronowski, David_Dolidze, Ida_Busbridge, Jacques_Herbrand, Felix_Gantmacher, Leon_H._Johnson, Gianfranco_Cimmino, Theodore_Motzkin, Solomon_Mikhlin, George_Grenfell-Baines, Nikolai_Piskunov, Egbert_van_Kampen, Hannes_Alfv\\u00e9n, Chaim_L._Pekeris, Dragoslav_Mitrinovi\\u0107, Gustav_Elfving, Alfred_H._Clifford, Henryk_Zygalski, Beatrice_Aitchison, Mary_Golda_Ross, J._A._Todd, Lev_Pontryagin, Arthur_Erd\\u00e9lyi, Sergei_Sobolev, Hans_Heilbronn, Viktor_Wagner, Herta_Freitag, Tadao_Tannaka, Otfrid_Mittmann\"}, {\"year\": 1909, \"eff\": 22, \"names\": \"Stephen_Cole_Kleene, Giulio_Racah, Claude_Chevalley, Golo_Mann, Stanislaw_Ulam, Eduard_Stiefel, Helmuth_Gericke, Werner_Romberg, Wade_Ellis, Natascha_Artin_Brunswick, William_Penney,_Baron_Penney, Arthur_Geoffrey_Walker, Jerzy_R\\u00f3\\u017cycki, Wolfgang_R._Wasow, Saunders_Mac_Lane, Fabio_Conforto, Nikolay_Bogolyubov, Deane_Montgomery, Kurt_Sch\\u00fctte, Bernhard_Neumann, Gerhard_Gentzen, Mark_Naimark\"}, {\"year\": 1910, \"eff\": 22, \"names\": \"Sumner_Byron_Myers, Esther_Szekeres, Joseph_L._Doob, Charles_Pisot, Norman_Steenrod, Sheila_Scott_Macintyre, Fritz_John, Meier_Eidelheit, Winston_Freer, Sigmund_Selberg, P\\u00e1l_Tur\\u00e1n, Tjalling_Koopmans, Pao-Lu_Hsu, Marshall_Hall_(mathematician), Ledyard_Tucker, Dorothy_Vaughan, Lamberto_Cesari, Nathan_Jacobson, Cahit_Arf, Ernests_Fogels, Hua_Luogeng, Franz_Alt_(mathematician)\"}, {\"year\": 1911, \"eff\": 34, \"names\": \"Israel_Halperin, David_Guest_(communist), Garrett_Birkhoff, Robert_Schatten, Abraham_H._Taub, Francis_Joseph_Murray, Melvin_Dresher, Walter_Ledermann, Carl_B._Allendoerfer, Felix_Behrend, Wolfgang_Hahn, Raymond_Lyttleton, \\u00c9tienne_Halphen, George_Szekeres, W._T._Martin, Ernst_Witt, Richard_Buckingham, Joseph_Gillis, Anthony_Morse, Shizuo_Kakutani, Alexey_Lyapunov__Alexey_Lyapunov__1, Wei-Liang_Chow, Luis_Santal\\u00f3, Angus_Ellis_Taylor, John_Wrench, Mabel_Gweneth_Humphreys, Hans_Robert_M\\u00fcller, Shiing-Shen_Chern, Raphael_M._Robinson, Enzo_Martinelli, Edward_Kofler, Rudolf_Kochend\\u00f6rffer, Qian_Xuesen, Gustave_Mal\\u00e9cot\"}, {\"year\": 1912, \"eff\": 33, \"names\": \"Boris_Vladimirovich_Gnedenko, Cora_Ratto_de_Sadosky__Cora_Ratto_de_Sadosky__1, Leonid_Kantorovich, Nils_Aall_Barricelli, Hans_Hermes, Gy\\u00f6rgy_Haj\\u00f3s, Istv\\u00e1n_Vincze_(mathematician), Andrew_Guinand, Frank_Smithies, Caius_Iacob, Donald_C._Spencer, Naum_Meiman, Jean_Kuntzmann, Bruno_von_Freytag-L\\u00f6ringhoff, Alan_Turing, Tibor_Gallai, Rafael_Artzy, Milton_Friedman, Joel_Lee_Brenner, Aleksandr_Danilovich_Aleksandrov, Prabhu_Lal_Bhatnagar, Norman_Levinson, Carlo_Miranda, Luigi_Amerio, Marga_Klomp\\u00e9, Mikhail_Vaschenko-Zakharchenko, Haim_Hanani, Shu_Shien-Siu, Daniel_Dugu\\u00e9, Kathleen_Ollerenshaw, Henry_Daniels, Emil_Grosswald, Reuben_Goodstein\"}, {\"year\": 1913, \"eff\": 23, \"names\": \"Eric_Reissner, Shaun_Wylie, Takeo_Nakasawa, Ralph_Fox, Paul_Erd\\u0151s, Alexey_Ivakhnenko, Irving_Adler, Genevieve_Grotjan_Feinstein, Rose_Peltesohn, Suzan_Kahramaner, Adriaan_Cornelis_Zaanen, Oswald_Teichm\\u00fcller, Ralph_S._Phillips, J._Carson_Mark, Pavel_Korovkin, \\u00c5ke_Pleijel, Israel_Gelfand__Isra\\u00efl_Moiseevich_Gelfand__1, Herman_Goldstine, Ata_Kand\\u00f3, Eugene_Odum, Samuel_Eilenberg, Andrzej_Mostowski, Alessandro_Faedo\"}, {\"year\": 1914, \"eff\": 24, \"names\": \"Hanna_Neumann, Paco_Lagerstrom, Richard_Leibler, Leonidas_Alaoglu, Dorothy_Lewis_Bernstein, Manuel_Sadosky, Georgii_Polozii, George_Piranian, Johannes_de_Groot, Antonia_Ferr\\u00edn_Moreiras, John_Zaborszky, Lipman_Bers, Federico_Cafiero, Hel_Braun, Boris_Levitan, Mark_Kac, Grace_Bates, Ben_F._Laposky, Ky_Fan, Sze-Tsen_Hu, R._H._Bing, Jacques_Feldbau, Edward_G._Begle, R._H._Bruck\"}, {\"year\": 1915, \"eff\": 31, \"names\": \"Yuri_Linnik, Herbert_Robbins, Ghulam_Ishaq_Khan, Robert_Coveyou, Gustave_Choquet, L\\u00e1szl\\u00f3_Fejes_T\\u00f3th, Kunihiko_Kodaira, Wolfgang_Doeblin, Gerhard_Hochschild, Ronald_Rivlin, Philip_Hartman, Wolfgang_Heinrich_Johannes_Fuchs, Jos\\u00e9_Luis_Massera, Nicholas_Metropolis, John_Tukey, Alice_T._Schafer, Kenneth_O._May, Adolph_Winkler_Goodman, Kiiti_Morita, Robert_Sorgenfrey, Khosro_Roozbeh, Kiyosi_It\\u00f4, Yehoshua_Bar-Hillel, Guy_Hirsch, B\\u00e9la_Krek\\u00f3, Arthur_Burks, Ivan_M._Niven, Robert_Alexander_Rankin, Joyce_Sparer_Adler, Guido_Zappa, Wilfrid_Dixon\"}, {\"year\": 1916, \"eff\": 29, \"names\": \"Peter_Twinn, Vicente_Ferreira_da_Silva, Bert_Broer, John_Corner, George_Mackey, Louis_Guttman, Hans_Samelson, Paul_Halmos, Sheila_May_Edmonds, Max_Wyman, Clive_Selwyn_Davis, Ellis_Kolchin, Hanfried_Lenz, Claude_Shannon, Aryeh_Dvoretzky, Elliott_Waters_Montroll, Leo_Sario, Joseph_P._LaSalle, Abraham_Seidenberg, Peter_Wright_(MI5_officer), John_Currie_Gunn, Richard_K._Guy, Jacques_Deny, Adriaan_van_Wijngaarden, Edmund_Hlawka, Roger_Ap\\u00e9ry, David_Bates_(physicist), I._J._Good, Douglas_Northcott\"}, {\"year\": 1917, \"eff\": 30, \"names\": \"Yurii_Mitropolskiy, Jessie_MacWilliams, Leonard_Gillman, Daniel_Shanks, Georgiy_Shilov, Herbert_A._Hauptman, William_Karush, Istv\\u00e1n_Feny\\u0151, Mary_L._Boas, Irving_Kaplansky, Beno_Eckmann, Winifred_Asprey, Atle_Selberg, Helena_Rasiowa, Dorothy_Maharam, Henry_Jack, P._A._P._Moran, Nikita_Moiseyev, Leonid_Hurwicz, Tosio_Kato, Abraham_Charnes, Kenkichi_Iwasawa, Chung_Kai-lai, Phyllis_Nicolson, Sharadchandra_Shankar_Shrikhande, Derek_Taunt, Ruth_Aaronson_Bari, Leonard_Jimmie_Savage, Nikolay_Korobov, Elizabeth_Scott_(mathematician)\"}, {\"year\": 1918, \"eff\": 25, \"names\": \"Heinz_Rutishauser, Murray_H._Protter, Alfred_Horn, Albin_Gurklis, George_F._Carrier, Prahalad_Chunnilal_Vaidya, Jan_Hemelrijk, Theodore_Wilbur_Anderson, Yudell_Luke, Dorothy_McFadden_Hoover, Nicolaas_Govert_de_Bruijn, Paul_Olum, Katherine_Johnson, Mkhitar_Djrbashian, Irving_Segal, C._S._Venkataraman, Leslie_Fox, Abraham_Robinson, Ratan_Shankar_Mishra, Hendrik_C._van_de_Hulst, Naum_Il'ich_Feldman, Leon_Mirsky, Klaus_Samelson, T._A._Sarasvati_Amma, Carl_A._Wiley\"}, {\"year\": 1919, \"eff\": 27, \"names\": \"Ted_Harris_(mathematician), Anil_Kumar_Gain, Clifford_Truesdell, Harry_Pollard_(mathematician), Aleksei_Pogorelov, Lars_G\\u00e5rding, Larned_B._Asprey, Thomas_Willmore, David_Blackwell, Wu_Wenjun, Georgii_Suvorov, Raymond_Smullyan, Vladimir_Abramovich_Rokhlin, James_Dugundji, Philip_Woodward, Derek_Frank_Lawden, Robin_Gandy, Anton_Kotzig, Hermann_Bondi, Leopold_Schmetterer, Barbara_Canright, Paulette_Libermann, Erling_F\\u00f8lner, Curt_Meyer, Julia_Robinson, Ian_Sneddon, Albert_Crumeyrolle\"}, {\"year\": 1920, \"eff\": 23, \"names\": \"Jen\\u0151_Sz\\u00e9p, William_Boone_(mathematician), Edwin_Hewitt, Bjarni_J\\u00f3nsson, Goro_Azumaya, George_Batchelor, John_Hammersley, Jerzy_\\u0141o\\u015b, Lowell_Schoenfeld, Gene_Grabeel, Iosif_Vorovich, Roman_Sikorski, Anne_Cobbe, William_S._Massey, Sergey_Stechkin, William_B._Bonnor, Satish_Dhawan, Marcel-Paul_Sch\\u00fctzenberger, Claude_Ambrose_Rogers, Georges_Reeb, K._G._Ramanathan, Wolfgang_H\\u00e4ndler, Victor_Zalgaller\"}, {\"year\": 1921, \"eff\": 36, \"names\": \"Jean-Louis_Koszul, Lotfi_A._Zadeh, Yozo_Matsushima, Boris_Trakhtenbrot, Murray_S._Klamkin, Isaak_Yaglom, Frank_Harary, Alfr\\u00e9d_R\\u00e9nyi, Martin_L\\u00f6b, Feza_G\\u00fcrsey, Mary_Jackson_(engineer), Chike_Obi, Martin_Barner, Walter_Rudin, Mathukumalli_V._Subbarao, Olgierd_Zienkiewicz, Hao_Wang_(academic), Nikolai_Nikolaevich_Yanenko, Rodney_Hill, G\\u00e9rard_Debreu, Jonas_Kubilius, Edwin_Spanier, Tom_Kilburn, Donald_Dines_Wall, Shimshon_Amitsur, Luis_Davidson_San_Juan, Pierre_Samuel, Conway_Berners-Lee, Roger_Godement, Mark_Vishik, Alexander_Kronrod, Andrew_M._Gleason, Woody_Bledsoe, Hans_J._Reiter, David_Gale, Edith_Hirsch_Luchins\"}, {\"year\": 1922, \"eff\": 27, \"names\": \"Erwin_Kreyszig, Jan_Kalicki, Shmuel_Agmon, Gaetano_Fichera, Anneli_Cahn_Lax, Ernst_G._Straus, Olga_Ladyzhenskaya, George_Adomian, Guido_Stampacchia, Harold_E._Pierce, Yevgenii_Vasilevich_Zolotov, Jean-Marie_Souriau, Egon_Balas, Istv\\u00e1n_F\\u00e1ry, J._W._S._Cassels, Jane_Cronin_Scanlon, Andrzej_Grzegorczyk, Tudor_Ganea, Arthur_J._Lohwater, Meyer_Jerison, Richard_Lashof, Felix_Arscott, Andr\\u00e9_N\\u00e9ron, Joachim_Lambek, Rimhak_Ree, C\\u00e9cile_DeWitt-Morette, Willem_Drees_Jr.\"}, {\"year\": 1923, \"eff\": 49, \"names\": \"Daniel_Gorenstein, Alexander_Abian, Philip_J._Davis, Vasily_Vladimirov, M._J._Seaton, Jacob_Korevaar, Marjorie_Rice, Phyllis_Fox, Bruno_Augenstein, Shoshana_Netanyahu, Peter_Hilton, Gennadii_Rubinstein, Fritz_Ursell, Roberto_Conti_(mathematician), Cathleen_Synge_Morawetz, Verena_Huber-Dyson, Eugenio_Calabi, Fred_van_der_Blij, Joseph_Arkin, Bernard_Dwork, John_Coleman_Moore, Lloyd_Shapley, Igor_Shafarevich, Aizik_Volpert, David_Slepian, Alexander_Murray_MacBeath, George_Mostow, Thomas_Muirhead_Flett, Zofia_Szmydt, Jean-Jacques_Moreau, Joseph_Keller, William_J._LeVeque, John_Myhill, Hidehiko_Yamabe, Wim_Cohen, Ren\\u00e9_Thom, Peter_Henrici_(mathematician), Raoul_Bott, Aleksei_Fedorovich_Filippov, Harish-Chandra, David_M._Young_Jr., Murray_R._Spiegel, Ralph_Gordon_Stanton, Irving_S._Reed, Shambhu_Dayal_Sinvhal, J._Ernest_Wilkins_Jr., Mikhail_Kadets, Freeman_Dyson, Yvonne_Choquet-Bruhat\"}, {\"year\": 1924, \"eff\": 39, \"names\": \"Linards_Reizi\\u0146\\u0161, James_Lighthill, Wilhelm_Klingenberg, Julius_Richard_B\\u00fcchi, Minoru_Tomita, Giovanni_Battista_Rizza, Irving_Reiner, Steven_Gaal, George_Marsaglia, Mary_Lee_Woods, Aldo_Andreotti, Margaret_K._Butler, Ryszard_Syski, Maxwell_Rosenlicht, W._Wesley_Peterson, Eugene_Dynkin, Alexander_Esenin-Volpin, James_R._Jackson, Jacques_Dixmier, Alan_J._Hoffman, Hans-Egon_Richert, Samuel_Karlin, Mahlon_E._Doyle, Johannes_Kemperman, Mohamed_M._Atalla, D._R._Fulkerson, George_Springer_(mathematician), Timur_Eneev, Pierre_Dolbeault, Albert_Hibbs, David_E._Muller, Louis_Leithold, Lucien_Le_Cam, Katsumi_Nomizu, Sergey_Yablonsky, Mary_Ellen_Rudin, Jerald_Ericksen, J\\u00e1nos_Acz\\u00e9l_(mathematician), Sigeru_Mizohata\"}, {\"year\": 1925, \"eff\": 31, \"names\": \"Walter_Noll, Germund_Dahlquist, Christopher_Zeeman, Louis_Nirenberg, George_G._Hall, Gabriel_Andrew_Dirac, John_Tate_(mathematician), Julian_Cole, Gopinath_Kallianpur, Gordon_Preston, Patrick_Billingsley, R._Duncan_Luce, Olga_Oleinik, Cyrus_Derman, Richard_Kadison, Harold_W._Kuhn, A._O._L._Atkin, Frederick_Gehring, Ernest_Michael, Paul_Malliavin, Harley_Flanders, Victor_Klee, Keith_Stewartson, Martin_David_Kruskal, Renfrey_Potts, Bent_Fuglede, Hanno_Rund, Nathan_Divinsky, Harry_Rauch, Abe_Sklar, Michael_S._Longuet-Higgins\"}, {\"year\": 1926, \"eff\": 38, \"names\": \"David_Spence_(mathematician), Walter_Hayman, Gaisi_Takeuti, T._A._Springer, Masatoshi_G\\u00fcnd\\u00fcz_Ikeda, Sandy_Green_(mathematician), G\\u00fcnter_Asser, Robert_Phelps, Teruhisa_Matsusaka, Miroslav_Fiedler, Vera_Nikolaevna_Maslennikova, Peter_Lax, Tibor_\\u0160al\\u00e1t, Gu_Chaohao, John_G._Kemeny, Claude_Berge, Erna_Schneider_Hoover, Rebeca_Guber, Carl_Adam_Petri, John_Leech_(mathematician), Frank_Spitzer, George_F._D._Duff, Hilary_Putnam, Chandler_Davis, Robert_Joshua_Rubin, Jean-Pierre_Serre, C._Brian_Haselgrove, Michio_Suzuki_(mathematician), Czes\\u0142aw_Ryll-Nardzewski, Stanis\\u0142aw_\\u0141ojasiewicz, James_Eells, James_Serrin, Zdzis\\u0142aw_Pawlak, Wally_Smith_(mathematician), Albert_Nijenhuis, Alex_F._T._W._Rosenberg, Jean-Pierre_Kahane, Edgar_H._Brown\"}, {\"year\": 1927, \"eff\": 37, \"names\": \"Anatoli_Prudnikov, A._Wayne_Wymore, Revaz_Gamkrelidze, Masayoshi_Nagata, John_Selfridge, Jacobus_Verhoeff, Theodorus_Dekker, Kurt_Leichtweiss, Rom_Varshamov, Marcel_Berger, Samuel_P._Huntington, Michel_Kervaire, George_Seligman, Wolfgang_Walter, Serge_Lang, Lida_Barrett, Abdulalim_A._Shabazz, Edward_Fraenkel, Joan_Birman, Murray_Gerstenhaber, Grigory_Barenblatt, Michael_Maschler, Peter_Swinnerton-Dyer, Paul_Garabedian, Daniel_Kan, Ding_Shisun, Marguerite_Frank, Friedrich_Hirzebruch, Mikhail_Postnikov, Alan_Cobham_(mathematician), Yutaka_Taniyama, Albert_Turner_Bharucha-Reid, Robert_G._Bartle, Otto_Leiberich, Ho\\u00e0ng_T\\u1ee5y, Michael_Edward_Ash, Ichir\\u014d_Satake\"}, {\"year\": 1928, \"eff\": 40, \"names\": \"Fuat_Mansurov, George_E._Collins, Martin_Kneser, O._Timothy_O'Meara, Joseph_Kruskal, Heinz_Bauer, Ennio_de_Giorgi, Thomas_E._Kurtz, Seymour_Papert, Jan_Jaworowski, France_Kri\\u017eani\\u010d, Wendell_Fleming, Norman_Routledge, Martin_Davis_(mathematician), Paulo_Ribenboim, Lennart_Carleson, Alexander_Grothendieck, Israel_Nathan_Herstein, Mikio_Sato, Jacques-Louis_Lions, Ioan_James, Bertram_Kostant, Hu_Hesheng, Wolfgang_Haken, J\\u00fcrgen_Moser, Bernard_Malgrange, Louis_Auslander, Errett_Bishop, Marion_Walter, Albrecht_Dold, Christopher_Hooley, Manfredo_do_Carmo, Adriano_Garsia, Hermann_Bottenbruch, Jack_K._Hale, Richard_S._Varga, Donald_B._Gillies, Lee_Albert_Rubel, Solomon_Feferman, Guido_Weiss\"}, {\"year\": 1929, \"eff\": 32, \"names\": \"John_Trevor_Stuart, Andor_Kert\\u00e9sz_(mathematician), Mir_Maswood_Ali, Ilya_Piatetski-Shapiro, Fran\\u00e7ois_Bruhat, Brooke_Benjamin, Emanuel_Parzen, Michael_Atiyah, Erwin_Nievergelt, Andr\\u00e9_Haefliger, Svetozar_Kurepa, G\\u00fcnter_Lumer, Ross_Honsberger, Aviezri_Fraenkel, Alexander_Lavut, Elon_Lages_Lima, Hans-Joachim_Nastold, M\\u00e1rton_Bal\\u00e1zs, Roland_Dobrushin, Patrick_Brendan_Kennedy, Eleanor_Jones, Vera_W._de_Spinadel, Anthony_James_Merrill_Spencer, Andr\\u00e1s_Pr\\u00e9kopa, Newton_da_Costa, Jalal_Allakhverdiyev, Yurii_Reshetnyak, Branko_Gr\\u00fcnbaum, Frank_Terpe, Regina_Tyshkevich, Richard_Arenstorf, Peter_Lancaster\"}, {\"year\": 1930, \"eff\": 38, \"names\": \"Jacob_T._Schwartz, Vyacheslav_Ivanovich_Lebedev, Hans_Grauert, Sergio_Campanato, Wolfgang_Smith, George_Herbert_Weiss, Goro_Shimura, Sigve_Tj\\u00f8tta, Victor_Andreevich_Toponogov, Gijs_van_Aardenne, Carl_S._Herz, Wang_Yuan_(mathematician), Rudolf_E._K\\u00e1lm\\u00e1n, Ashot_Petrosian, Robert_Aumann, Wiktor_Eckhaus, Walter_Lewis_Baily,_Jr., Stephen_Smale, Shreeram_Shankar_Abhyankar, Donald_J._Newman, Jacques_Tits, Anatoliy_Skorokhod, Vera_T._S\\u00f3s, Richard_Montague, Michael_D._Morley, Padam_Chand_Jain, Emilio_Gagliardo, Ian_R._Porteous, Lawrence_Paul_Horwitz, Walter_Feit, Gustave_Solomon, Frank_Adams, Norman_Johnson_(mathematician), Vladimir_Andreyevich_Uspensky, James_H._Bramble, Georges_Matheron, Tomio_Kubota, Shoshana_Kamin\"}, {\"year\": 1931, \"eff\": 33, \"names\": \"V\\u00e1clav_E._Bene\\u0161, Elias_M._Stein, Lars_H\\u00f6rmander, Igor_Kluv\\u00e1nek, St\\u00e5l_Aanderaa, Kathryn_Strutynski, John_Milnor, Leonard_Gross, Bernard_Morin, Philip_Saffman, Surindar_Kumar_Trehan, Heisuke_Hironaka, Felix_Berezin, Dagmar_R._Henney, Stanis\\u0142aw_Knapowski, Czes\\u0142aw_Olech, Herbert_Wilf, Anatoli_Georgievich_Vitushkin, Petru_Soltan, Pyotr_Ufimtsev, Valentina_Borok, Roger_Penrose, Richard_L._Bishop, Stan_Franklin, Michael_O._Rabin, Margaret_Tyzack, Bryan_John_Birch, Peter_Wynn_(mathematician), Jan_Terlouw, Barbara_McMartin, Harry_Kesten, Mark_Mahowald, Basil_Gordon\"}, {\"year\": 1932, \"eff\": 31, \"names\": \"Stanis\\u0142aw_Trybu\\u0142a, Shoshichi_Kobayashi, Dionigi_Galletto, Norman_Shapiro, Tatyana_Velikanova, Blagovest_Sendov, Vivienne_Malone-Mayes, Jean-Paul_Benz\\u00e9cri, C._S._Seshadri, Myhailo_Yadrenko, Denis_Higgs, Solomon_W._Golomb, Daihachiro_Sato, Oleg_Lupanov, M._S._Narasimhan, Pierre_Cartier_(mathematician), Stanis\\u0142aw_\\u015awierczkowski, Huzihiro_Araki, Andrzej_Ehrenfeucht, Nguyen_Dinh_Ngoc, Louis_de_Branges_de_Bourcia, Glen_Bredon, J._H._van_Lint, Mizan_Rahman, Harold_Widom, Hyman_Bass, Kenneth_Appel, John_G._Thompson, Anadi_Sankar_Gupta, Andrew_M._Bruckner, Crispin_Nash-Williams\"}, {\"year\": 1933, \"eff\": 26, \"names\": \"Marvin_Knopp, Donald_Sarason, G\\u00e9rard_Vergnaud, Clifford_Nelson_Fyle, Annie_Easley, Patricia_Hiddleston, Kedar_%22Bud%22_Pyatt, G._S._Maddala, Chen_Jingrun, Richard_Askey, William_Kahan, Rozetta_Zhilina, Morris_Hirsch, Frederick_J._Almgren_Jr., Edward_Brandt_Jr., Stephen_Schanuel, Ciprian_Foias, Pierre_Gabriel, Kanakanahalli_Ramachandra, Albert_A._Mullin, Taylor_Booth_(mathematician), Mary_Deconge, Wolfgang_M._Schmidt, Michel_Balinski, Petr_Mandl, Gerald_L._Alexanderson\"}, {\"year\": 1934, \"eff\": 31, \"names\": \"William_Browder_(mathematician), Tzeni_Karezi, Lionel_March, Yu-Chi_Ho, James_Glimm, Paul_Cohen, Jack_Edmonds, Srinivasacharya_Raghavan, James_Wiegold, Roy_Kerr, Pan_Chengdong, Nikolai_Sergeevich_Bakhvalov, Arto_Salomaa, Louis_Hodes, Josef_Stoer, Michael_Artin, Richard_W._Cottle, Bill_Parry_(mathematician), Donald_Samuel_Ornstein, S.-Y._Kuroda, Lesley_Sibner, Paul-Andr\\u00e9_Meyer, Albert_Shiryaev, Dominique_Foata, Jerzy_Browkin, Albert_Marden, Charles-Michel_Marle, Gilbert_Strang, Magdolna_Zim\\u00e1nyi, Arnold_Sch\\u00f6nhage, Iya_Abubakar\"}, {\"year\": 1935, \"eff\": 30, \"names\": \"Ronald_Brown_(mathematician), Yuri_Zhuravlyov_(mathematician), Ilan_Amit, David_Outcalt, Jean-Louis_Verdier, Marina_von_Neumann_Whitman, Frank_Matthews_Leslie, K._S._S._Nambooripad, David_G._Cantor, Victor_Omololu_Olunloyo, Jens_Erik_Fenstad, Bhama_Srinivasan, A._M._Mathai, Petr_Vop\\u011bnka, Louise_Hay_(mathematician), Charles_Sheffield, Yevgeny_Dyakonov, Francis_Bretherton, Andr\\u00e9e_Ehresmann, John_R._Stallings, Igor_Simonenko, Alexandra_Bellow, Yakov_Sinai, Adrien_Douady, Hillel_Furstenberg, Gloria_Conyers_Hewitt, Ronald_Graham, Jeremy_Stone, Shinzo_Watanabe, Rolando_Chuaqui\"}, {\"year\": 1936, \"eff\": 44, \"names\": \"Amnon_Pazy, Kenneth_A._Ross, Jean_Giraud_(mathematician), Peter_J._Freyd, Mikhail_Zelikin, Ietje_Paalman-de_Miranda, Wolfgang_Rautenberg, Dennis_Barden, Robert_Liptser, Thomas_W._Hungerford, Michel_Andr\\u00e9_(mathematician), Ronald_Jensen, Mehdi_Behzad, Volker_Strassen, Shashikumar_Chitre, John_Mackintosh_Howie, Werner_Hildenbrand, Nina_Baym, Paul_Monsky, Michael_Alexander_(diplomat), Ralph_Abraham_(mathematician), John_E._Osborn_(mathematician), Norair_Arakelian, Stan_Ackermans, Michael_J._D._Powell, Jacqueline_Feldman, Graham_Allan, Gary_Chartrand, Dolores_Richard_Spikes, Robert_Langlands, Joseph_A._Wolf, Joram_Lindenstrauss, Calvin_C._Moore, Algimantas_Adolfas_Jucys, Rohit_Jivanlal_Parikh, Shlomo_Sternberg, Dmitri_Anosov, Andr\\u00e9_Warusfel, Howard_Jerome_Keisler, Veniamin_Myasnikov, Gregory_Eskin, C._T._C._Wall, Bernd_Fischer_(mathematician), Peter_L._Hammer\"}, {\"year\": 1937, \"eff\": 45, \"names\": \"Naum_Z._Shor, Jang_Bahadur_Shukla, Irwin_Kra, Vladimir_Markovich_Entov, James_Ax, David_Hedgley, Warren_Ewens, Anatoly_Karatsuba, William_Lawvere, Yuri_Manin, Michel_Demazure, P\\u00e9ter_Kiss_(mathematician), John_Corcoran_(logician), Roland_Glowinski, Andrzej_Schinzel, Michael_Knowles_(actor), Olga_Bondareva, David_Fowler_(mathematician), Veeravalli_S._Varadarajan, Donald_A._Dawson, David_Mumford, Vladimir_Arnold, John_Rhodes_(mathematician), S._Ramanan, W._R._(Red)_Alford, J\\u00fcrgen_Neukirch, Ernest_Vinberg, Dieter_R\\u00f6dding, Raghavan_Narasimhan, John_Newsome_Crossley, Yuri_Petunin, Sanford_L._Segal, Victor_Borisov, Erling_St\\u00f8rmer, Carl_R._de_Boor, Johannes_Boersma, Maria_Adelaide_Sneider, Vladimir_A._Zorich, Bella_Subbotovskaya, Janusz_Onyszkiewicz, Barry_Mazur, Robert_S._Doran, Marc_Rieffel, John_Horton_Conway, Vladimir_Mazya\"}, {\"year\": 1938, \"eff\": 41, \"names\": \"Anatoly_Samoilenko, Mich\\u00e8le_Raynaud, Donald_Knuth, George_Logemann, Raphael_H\\u00f8egh-Krohn, Michael_Boardman, W._B._R._Lickorish, Isaak_Russman, Michael_Rosen_(mathematician), Alexander_Arhangelskii, Robin_Hartshorne, Sergei_Novikov_(mathematician), Richard_A._Tapia, Rangasami_L._Kashyap, Leonid_Manevitch, Mary_W._Gray, Jim_Simons_(mathematician), Leonid_Plyushch, Guillermo_Owen, Detlef_Gromoll, Joseph_Lipman, Dietrich_Braess, Michel_Raynaud, Ellis_L._Johnson, Michel_Sintzoff, Andreas_Dress, Judith_Q._Longyear, Bernhard_Korte, Max_Karoubi, Neil_Robertson_(mathematician), Vadym_Adamyan, Sally_Shlaer, George_Andrews_(mathematician), Jon_Folkman, Ronald_G._Douglas, Stewart_Brand, Robert_M._Solovay, Frieder_Nake, Lorraine_Foster, Mary_Wheeler, Howell_Peregrine\"}, {\"year\": 1939, \"eff\": 39, \"names\": \"Alan_Wilson_(academic), Sergio_Albeverio, Jaap_Wessels, Beno_Arbel, Chandra_Wickramasinghe, Marcia_P._Sward, Diederich_Hinrichsen, David_W._Henderson, Anzor_Urdia, Donald_Adamson, Viktor_Sadovnichiy, Raymond_McLenaghan, Peter_James_Lorimer, Michel_Deza, Alexey_Stakhov, George_Fix, Brian_Hartley, David_Roselle, Ernie_Tuck, Grigori_Mints, Yves_Meyer, Vladimir_E._Zakharov, Harold_Stark, Cleve_Moler, Alan_Baker_(mathematician), Inder_Bir_Singh_Passi, Vitali_Milman, John_Kingman, William_Fulton_(mathematician), J._Peter_May, Neil_Sloane, Doris_Schattschneider, Yang_Le, Mario_Wschebor, James_E._Humphreys, Numan_Yunusovich_Satimov, Italo_Jose_Dejter, Henri_Hogbe_Nlend, Stephen_Grossberg\"}, {\"year\": 1940, \"eff\": 29, \"names\": \"S._R._Srinivasa_Varadhan, Oscar_Lanford, Wolfgang_Vogel_(mathematician), Abraham_Ziv, Coke_Reed, Jacob_Palis, Bienvenido_Nebres, Rolf_Schneider, Leonard_Mirman, Daniel_W._Stroock, Charles_E._M._Pearce, Yury_Yershov, Robin_Lyth_Hudson, Michael_Spivak, Daniel_Quillen, Dan_Laksov, William_Jaco, Nolan_Wallach, Endre_Szemer\\u00e9di, Elwyn_Berlekamp, Kenneth_Binmore, Liu_Yingming, David_Evans_(mathematician), Eduard_Zehnder, Floris_Takens, Enrico_Bombieri, Michael_G._Crandall, Stanislav_Molchanov, Peter_M._Neumann\"}, {\"year\": 1941, \"eff\": 39, \"names\": \"Lynn_Steen, Khairulla_Murtazin, Andrzej_Trybulec, Lev_M._Bregman, Dennis_Sullivan, Alan_Huckleberry, George_Glauberman, Robert_Fernholz, Stefan_Grigorievich_Samko, James_Stewart_(mathematician), Angela_Steinm\\u00fcller, Boris_Weisfeiler, Yvette_Kosmann-Schwarzbach, Ronald_DeVore, Wilfrid_Hodges, Joseph_Shalika, Carl_Jockusch, Frank_Natterer, Michael_E._McIntyre, Jerome_Goldstein, Richard_Bronson__Richard_D._Bronson__1, M._S._Raghunathan, \\u00c1rp\\u00e1d_Varecza, William_Beckner_(mathematician), Phyllis_Chinn, Patrick_Doreian, Ralph_McKenzie, Rouben_V._Ambartzumian, Peter_Aczel, Alan_C._Newell, F._Thomas_Farrell, Elmer_Rees, Robert_Moody, L\\u00e1szl\\u00f3_Filep, Katalin_Marton, Daniel_Lazard, Graeme_Segal, Lucien_Szpiro, William_C._Waterhouse\"}, {\"year\": 1942, \"eff\": 39, \"names\": \"Alexandru_Ioan_Lupa\\u0219, Giorgi_Arsenishvili, Joseph_Gallian, Catherine_Dol\\u00e9ans-Dade, Tony_Lewis_(mathematician), Gavin_Brown_(academic), Martin_Aigner, Vesanto_Melina, Tim_Pedley, Jorge_Sotomayor_Tello, Steven_Kleiman, Martin_Feinberg, Jan_Willem_Nienhuys, Zvi_Arad, Stanley_Osher, Thierry_Aubin, Shigeru_Iitaka, Konrad_Osterwalder, Michael_Lin_(mathematician), John_N._Mather, Neil_Trudinger, Michael_Anthony_Crisfield, John_Stillwell, Jerrold_E._Marsden, Moshe_Jarden, Karen_Uhlenbeck, Alfredo_Careaga, Surender_Kumar_Malik, Audrey_Terras, Hellmuth_Stachel, Tadatoshi_Akiba, Michael_Herman_(mathematician), Nancy_Kopell, Olga_Beaver, David_Crighton, Hans_Duistermaat, Derek_Corneil, Francesco_Mainardi, David_Sankoff\"}, {\"year\": 1943, \"eff\": 41, \"names\": \"Joseph_Diestel, James_W._Cannon, Tom_McNally,_Baron_McNally, Steven_Orszag, Bobby_Fischer, C\\u00e9sar_Camacho, E._Roy_Weintraub, James_Earl_Baumgartner, Mihir_Baran_Banerjee, Michael_Guy, Susan_Montgomery, T._Thrivikraman, Gary_Seitz, James_Caldwell_(mathematician), Mangala_Narlikar, Wilfried_Schmid, Michiel_Hazewinkel, Masahiko_Fujiwara, Peter_Giblin, George_Bergman, Robert_Tijdeman, Melvin_Hochster, B\\u00e9la_Bollob\\u00e1s, Claus_P._Schnorr, Imre_Simon, Michael_Shub, Mich\\u00e8le_Vergne, Alexander_Holevo, Mikl\\u00f3s_Simonovits, Beverly_Anderson, Raymond_Ogden, Edward_Neuman, N._S._Rajaram, Bang-Yen_Chen, S._Barry_Cooper, John_Lennox, Klaus_Fischer_(mathematician), Jeff_Cheeger, Nick_Katz, Victor_Kac, Ted_Hill_(mathematician)\"}, {\"year\": 1944, \"eff\": 39, \"names\": \"Phoolan_Prasad, Odd_Magnus_Faltinsen, Eli_Turkel, Gilles_Ch\\u00e2telet, Charles_Dwight_Lahr, Avraham_Trahtman, George_B._Purdy, Yuri_Aleksandrovich_Brychkov, Jean-Marc_Fontaine, Thomas_M._Liggett, Michael_Aschbacher, Mourad_Ismail, Robin_Sibson, James_Arthur_(mathematician), Per_Enflo, Robert_MacPherson_(mathematician), Nicole_El_Karoui, Ha\\u00efm_Brezis, Kalyan_Bidhan_Sinha, Udai_Bhan_Tewari, Krystyna_Kuperberg, Anatole_Katok, George_Kempf, Hugh_Lowell_Montgomery, William_Kolakoski, Jean_Taylor, Pierre_Deligne, Melvyn_B._Nathanson, Yuriy_Drozd, Alain_Lascoux, Estate_Khmaladze, Debasis_Mitra, Jean_Jacod, David_Gottlieb_(mathematician), Jeff_Paris_(mathematician), Lucio_Russo, Antonio_Ambrosetti, Vance_Faber, Joseph_Hilbe\"}, {\"year\": 1945, \"eff\": 38, \"names\": \"John_H._Coates, Persi_Diaconis, Louis_Kauffman, Jerry_L._Bona, Samuel_S._Wagstaff_Jr., Sylvia_Wiegand, Vijay_Kumar_Patodi, Anatoly_Fomenko, Nicholas_Bingham, Bob_Vaughan, Hans_van_Houwelingen, Bernt_\\u00d8ksendal, Sergei_Vostokov, Joseph_Bernstein, Stephen_A._Fulling, Heinz-Otto_Peitgen, Giulio_Giorello, Nicole_Tomczak-Jaegermann, Tim_Poston, Saharon_Shelah, Jacques_Rougerie_(architect), Javier_Gonz\\u00e1lez_Garza, Gopal_Prasad, Michael_Aizenman, Israel_Michael_Sigal, Peter_Eccles_(mathematician), Oleg_Marichev, Edward_R._Dougherty, Percy_Deift, Vladimir_Vragov, Sem\\u00ebn_Samsonovich_Kutateladze, Rajagopalan_Parthasarathy, John_H._Hubbard, Dusa_McDuff, Joos_Ulrich_Heintz, Tarlok_Nath_Shorey, Judith_Roitman, Duncan_Suttles\"}, {\"year\": 1946, \"eff\": 31, \"names\": \"Menachem_Magidor, Erwin_Lutwak, Gerald_Schwarz, Thomas_William_K\\u00f6rner, Grigory_Margulis, Jaroslav_Ne\\u0161et\\u0159il, John_Morgan_(mathematician), Rudy_Rucker, Vashishtha_Narayan_Singh, Richard_P._Brent, Joel_Spencer, Celia_Hoyles, George_Lusztig, Armin_B._Cremers, David_Kazhdan, Nigel_Kalton, G\\u00fcnter_Heimbeck, J\\u00fcrg_Fr\\u00f6hlich, Robert_Mercer, Asghar_Qadir, Nigel_Hitchin, Ed_Corrigan, Jean-Marc_Deshouillers, Tatyana_Shaposhnikova, Ola_Bratteli, Michel_Brou\\u00e9, William_Thurston, Dominique_Perrin, Welington_de_Melo, Philip_Kutzko, Yakov_Eliashberg\"}, {\"year\": 1947, \"eff\": 43, \"names\": \"Dorian_M._Goldfeld, Peter_Cameron_(mathematician), Paul_Linden, Masaki_Kashiwara, Guerino_Mazzola, G\\u00e1bor_J._Sz\\u00e9kely, Richard_L._Thompson, Gideon_Schechtman, Rodrigo_Arocena, Yuri_Matiyasevich, Keith_Devlin, Augustin_Banyaga, Alain_Connes, David_Eisenbud, Jeremy_Gray, Peter_Gacs, Arnaud_Beauville, Askold_Khovanskii, Gerald_Folland, Joseph_A._Ball_(mathematician), Gregory_Chaitin, Paolo_Marcellini, Zvi_Galil, Ravi_Agarwal, S\\u00e1ndor_Cs\\u00f6rg\\u0151, Jean-Pierre_Bourguignon, Sylvia_Nasar, Diana_Shelstad, Anu\\u0161ka_Ferligoj, Arieh_Iserles, Peter_Montgomery_(mathematician), Rhonda_Hughes, Anatol_Odzijewicz, Jan_H._van_Schuppen, Tadeusz_Iwaniec, Henryk_Iwaniec, Jie-zhong_Zou, Andreas_Blass, Alan_D._Taylor, Robert_Zimmer, Jean-Louis_Colliot-Th\\u00e9l\\u00e8ne, Peng_Shige, Georgia_Benkart\"}, {\"year\": 1948, \"eff\": 40, \"names\": \"Gradimir_Milovanovi\\u0107, Mikhail_Menshikov, Charles_Royal_Johnson, Miles_Reid, Irena_Lasiecka, Miodrag_Petkovi\\u0107, Jean-Michel_Bismut, Hamlet_Isakhanli, J._Hyam_Rubinstein, L\\u00e1szl\\u00f3_Lov\\u00e1sz, Maurice_A._de_Gosson, Pertti_Mattila, Robert_L._Devaney, Robert_Tarjan, Arild_Stubhaug, Jan_Saxl, Vladimir_Batagelj, Paul_A._Catlin, Ken_Ribet, Vanya_Mirzoyan, Terence_Gaffney, Alexander_Soifer, Roland_Carl_Backhouse, Peter_Landrock, Cheryl_Praeger, David_A._Cox, Joachim_Cuntz, Michael_Rapoport, Yutaka_Nishiyama, Wolfgang_Hackbusch, Leonid_Levin, Khanindra_Chandra_Chowdhury, Micha\\u0142_Misiurewicz, Alexander_Abrosimov, Raman_Parimala, Luis_Caffarelli, Eliyahu_Rips, Winnie_Li, Andrew_Ranicki, Eckart_Viehweg\"}, {\"year\": 1949, \"eff\": 30, \"names\": \"Andreas_Brandst\\u00e4dt, Andrew_Majda, Alexander_Varchenko, Ahmed_Friaa, Zoia_Ceau\\u0219escu, Thomas_Zink, Hendrik_Lenstra, Charles_Fefferman, Maurice_Clerc_(mathematician), John_Toland_(mathematician), Gy\\u00f6rgy_Elekes, Toma\\u017e_Pisanski, Karmeshu, Andr\\u00e1s_Frank, Abraham_Neyman, Lenore_Chinn, Karen_Vogtmann, Andrew_Odlyzko, Marc_Yor, Ronald_Rousseau, Juhani_Karhum\\u00e4ki, Steven_Zucker, Victor_Ivrii, Alexander_Rinnooy_Kan, Fan_Chung, Lawrence_C._Evans, Marie_A._Vitulli, Michelle_Schatzman, Uffe_Haagerup, Kay_Wingberg\"}, {\"year\": 1950, \"eff\": 33, \"names\": \"Andrei_Bolibrukh, Ely_Merzbach, Henk_Broer, Jos\\u00e9-Miguel_Bernardo, David_Bressoud, Marc_Voorhoeve, Ronald_Gould_(mathematician), Gheorghe_Moro\\u0219anu, Boris_Tsirelson, Sergiu_Klainerman, Vyacheslav_Shokurov, Brigitte_Vall\\u00e9e, Micha_Sharir, Alexander_Boichuk, Doron_Zeilberger, Robert_Guralnick, Piergiorgio_Odifreddi, Paul_Seymour_(mathematician), Eric_Schechter, Ari_Laptev, Sidney_Graham, John_M._Lee, Zygmunt_Vetulani_(computer_scientist), Richard_Schoen, Malcolm_J._Williamson, Mark_H._Holmes, Jes\\u00fas_Ildefonso_D\\u00edaz, Eric_Maskin, Geoffrey_Grimmett, Carolyn_S._Gordon, Andrei_Suslin, Clifford_Cocks, Manuel_Carvalheiro\"}, {\"year\": 1951, \"eff\": 32, \"names\": \"Chris_Brink, G._V._Belyi, Eckehard_Sch\\u00f6ll, Shigefumi_Mori, Caroline_Series, Themistocles_M._Rassias, Eduardo_D._Sontag, Michael_Freedman, Ferran_Hurtado, Neithalath_Mohan_Kumar, Frank_Wilczek, Jonathan_Borwein, Lou_van_den_Dries, Hans_Georg_Feichtinger, Eva_Bayer-Fluckiger, Don_Zagier, Vladimir_Zakalyukin, Rebecca_Walo_Omana, Edward_Belbruno, Hiroaki_Terao, Joe_Harris_(mathematician), Craig_Huneke, Richard_D._Gill, Vera_Pawlowsky-Glahn, David_Trotman, Demetrios_Christodoulou, Philip_Candelas, Norman_C._Beaulieu, Dianne_P._O'Leary, Ivan_Cherednik, Lane_P._Hughston, Riaz_Ahsan\"}, {\"year\": 1952, \"eff\": 30, \"names\": \"Peter_J._Olver, Kazuya_Kato, Tony_F._Chan, Kenneth_Falconer_(mathematician), Michel_Talagrand, Martin_J._Taylor, Simon_P._Norton, Antanas_Mockus, Carlos_Castillo-Chavez, V._S._Sunder, Zbigniew_Marciniak, Gauss_Moutinho_Cordeiro, David_Goss, Igor_Frenkel, Leonid_Khachiyan, Alfio_Quarteroni, Jean-Paul_Delahaye, Athanassios_S._Fokas, David_Aldous, Vladimir_Rokhlin_Jr., Gunnar_Carlsson, Emil_J._Straube, Patrick_Dehornoy, Martin_Schlichenmaier, Roger_Heath-Brown, Yevgen_Zakharov, Andrew_Beal, John_D._Barrow, David_Harbater, Vaughan_Jones\"}, {\"year\": 1953, \"eff\": 38, \"names\": \"Daniel_Hershkowitz, Andrei_Zelevinsky, Rostislav_Grigorchuk, Richard_Weber_(mathematician), Sorin_Popa, P\\u00e9ter_Frankl, Jean_Paul_Van_Bendegem, Heinz_Engl, P\\u00e9ter_Komj\\u00e1th, Andrew_Wiles, Robert_Lazarsfeld, Luc_Vinet, Stephen_R._Doty, Dragan_Maru\\u0161i\\u010d, Terry_Lyons_(mathematician), Sy_Friedman, Athene_Donald, Mauro_Francaviglia, Caryn_Navy, Romanas_Janu\\u0161kevi\\u010dius, Imre_Z._Ruzsa, Robert_Bryant_(mathematician), Ed_Perkins, Endre_Boros, J\\u00f3zef_H._Przytycki, Bernard_Dacorogna, M._Ram_Murty, Helmut_Maier, Loyiso_Nongxa, Yuri_Kondratiev, Charles_Colbourn, Nassif_Ghoussoub, Richard_Jozsa, Glenn_H._Stevens, Boris_Feigin, Marc_Culler, Nikolay_Morozkin, Peter_Sarnak\"}, {\"year\": 1954, \"eff\": 28, \"names\": \"Mich\\u00e8le_Audin, Daniel_Goldston, Vladimir_Drinfeld, Jean_Bourgain, Qaiser_Mushtaq, Lam_Siu-por, Arantza_Urkaregi, Andr\\u00e1s_Seb\\u0151, Chris_Rogers_(mathematician), Russel_E._Caflisch, J\\u00e1nos_Pach, Noah_Dana-Picard, Nelson_Merentes, Dima_Grigoriev, Mythily_Ramaswamy, Karlheinz_Brandenburg, D.B._Singh, Harold_P._Boas, David_Gabai, Gerd_Faltings, Ingrid_Daubechies, Cass_Sunstein, Claude_Sabbah, Alexander_Kostetsky, Robert_F._Coleman, Leonard_Mlodinow, Du\\u0161an_Repov\\u0161, Jos\\u00e9_F._Escobar\"}, {\"year\": 1955, \"eff\": 33, \"names\": \"Abbas_Bahri, Yuval_Flicker, Agnes_Wold, Ronald_Does, Alicia_Dickenstein, Clive_Humby, Jonathan_Partington, Yitang_Zhang, Stevo_Todor\\u010devi\\u0107, Nicholas_Shepherd-Barron, T._R._Ramadas, Philip_J._Hanlon, W._Hugh_Woodin, John_Nunn, Janusz_Grabowski, Ren\\u00e9_Schoof, Svante_Janson, Preda_Mih\\u0103ilescu, K\\u00e1roly_Bezdek, F._Michael_Christ, Jos\\u00e9_Bonet_Solves, Stati_Statev, Greg_Lawler, Jan_Hogendijk, Subhashis_Nag, Efim_Zelmanov, Marston_Conder, Alexander_Merkurjev, Krishnaswami_Alladi, Michael_Struwe, James_Demmel, Dave_Bayer, Gordon_Douglas_Slade\"}, {\"year\": 1956, \"eff\": 33, \"names\": \"Charles_R._Doering, Yurii_Nesterov, Karl_Rubin, Gary_Robinson, J\\u0101nis_Vuc\\u0101ns, Noga_Alon, Helmut_Hofer, Gadadhar_Misra, Arjen_Lenstra, Alexander_Volberg, Andr\\u00e1s_Kert\\u00e9sz, Dominique_de_Caen, Mahouton_Norbert_Hounkonnou, J\\u00e1nos_Koll\\u00e1r, J\\u00fcrgen_Jost, Rajeeva_Laxman_Karandikar, Alberto_Bressan, Sergio_Fajardo, Endre_S\\u00fcli, Kerry_Spackman, Alexander_Lubotzky, Robert_Sinclair_MacKay, Jean-Michel_Coron, Pierre-Louis_Lions, Oswaldo_Lezama, Oleg_Nagornov, Andreas_Floer, Avi_Wigderson, Helge_Holden, Jon_Speelman, Colin_Adams_(mathematician), Tim_Kurkjian, Solomon_Passy\"}, {\"year\": 1957, \"eff\": 19, \"names\": \"Rinad_Yulmukhametov, Eric_Lander, Michael_Wertheimer, Stephen_Altschul, Michael_Stillman, Sergei_Konyagin, Felix_Leinen, Tomek_Bartoszy\\u0144ski, Jean-Christophe_Yoccoz, Rob_Schneiderman_(mathematician), G\\u00e9rard_Ben_Arous, Ruth_Kellerhals, Simon_Donaldson, Rod_Downey, Frank_Leymann, Jean-Pierre_Demailly, Paul_Vojta, \\u00c9va_Tardos, Robert_F._Tichy\"}, {\"year\": 1958, \"eff\": 15, \"names\": \"David_Abrahams_(mathematician), Ieke_Moerdijk, Sergey_Fomin, Sediq_Afghan, Christopher_Deninger, Michael_J._Hopkins, Alexander_Givental, Felipe_Cucker, Gerhard_Huisken, Thomas_Callister_Hales, Vasudevan_Srinivas, Gis\\u00e8le_Ruiz_Goldstein, Fran\\u00e7ois_Loeser, Tian_Gang, Elonka_Dunin\"}, {\"year\": 1959, \"eff\": 22, \"names\": \"Muhammad_Yahuza_Bello, Jan_Kratochv\\u00edl, Mike_Byster, Aleksey_Lidov, Fanghua_Lin, Leticia_Corral, Roohi_Zuberi, Leopoldo_Penna_Franca, Florin_Diacu, Benoit_Perthame, Steve_Awodey, Pierre_Pansu, Steven_Strogatz, Amnon_Yekutieli, Frances_Kirwan, Nguy\\u1ec5n_Ng\\u1ecdc_B\\u00ecnh, Paul_Tseng, Mark_Pollicott, Philip_Maini, Jean-Fran\\u00e7ois_Le_Gall, Raphael_Douady, Richard_Borcherds\"}, {\"year\": 1960, \"eff\": 11, \"names\": \"Robbert_Dijkgraaf, 'Mamphono_Khaketla, Dipendra_Prasad, Osmo_Pekonen, Marc_van_Leeuwen, William_A._Dembski, James_R._Norris, Da_Ruan, Lisa_Fauci, Fran\\u00e7ois_Labourie, Keith_Martin_Ball\"}, {\"year\": 1961, \"eff\": 15, \"names\": \"Arthur_T._Benjamin, Hans_Munthe-Kaas, Alexandru_Zaharescu, Cem_Y\\u0131ld\\u0131r\\u0131m, Michael_Meister, Jinchao_Xu, Nigel_Boston, Nairi_Sedrakyan, Tomasz_Mrowka, Tam\\u00e1s_Erd\\u00e9lyi_(mathematician), Martin_Vingron, Bruno_Falissard, Alexei_Skorobogatov, Michael_R._Douglas, Oded_Schramm\"}, {\"year\": 1962, \"eff\": 18, \"names\": \"Alessandra_Celletti_(mathematician), Marcelo_Viana, Claire_Voisin, Rajeev_Motwani, Daniel_Choquet, Richard_Taylor_(mathematician), Ulrich_Kohlenbach, Jonathan_Pila, Mikhail_Guzev, Robin_Thomas_(mathematician), Marco_Abate, Andrew_Granville, Christian_B\\u00e4r, Ernesto_Mordecki, Shou-Wu_Zhang, Sarah_A._Hoyt, Frank_Merle_(mathematician), Hiraku_Nakajima\"}, {\"year\": 1963, \"eff\": 19, \"names\": \"Brian_Greene, Alexander_Razborov, Ji\\u0159\\u00ed_Matou\\u0161ek_(mathematician), Tan_Lei, Dmitry_Ioffe, Fr\\u00e9d\\u00e9ric_H\\u00e9lein, G\\u00fcnter_M._Ziegler, Viviane_Baladi, Gui-Qiang_Chen, Dirk_Jens_Nonnenmacher, Fabrice_Bethuel, Jeff_Edmonds, Leonid_Polterovich, Jonathan_Keating, Thomas_Ward_(mathematician), Imre_Leader, Timothy_Gowers, Ed_Pegg_Jr., Jeremy_Quastel\"}, {\"year\": 1964, \"eff\": 16, \"names\": \"Richard_Kenyon, Bernd_Siebert, James_McKernan, Paolo_Piccione, Mara_Neusel, Sijue_Wu, Jens_Franke, Rostam_K._Saeed, G\\u00e1bor_Tardos, Michael_Drmota, Maxim_Kontsevich, Trevor_Wooley, Indranil_Biswas, Fred_Diamond, Diego_Golombek, Edward_Burger\"}, {\"year\": 1965, \"eff\": 12, \"names\": \"Pieter_Moree, Eric_Schadt, Giovanni_Alberti_(mathematician), Alex_Eskin, Michael_Shackleford, Christoph_Mohn, Kaisa_Miettinen, Lo\\u00efc_Merel, Henri_Darmon, Eric_Weinstein, Alexander_Schmidt_(mathematician), Kefeng_Liu\"}, {\"year\": 1966, \"eff\": 12, \"names\": \"Jes\\u00fas_A._De_Loera, Aise_Johan_de_Jong, Gigliola_Staffilani, Felix_Otto_(mathematician), Vladimir_Voevodsky, Svetlana_Jitomirskaya, Grigori_Perelman, Noam_Elkies, Fabio_Mercurio, Laurent_Lafforgue, Daniel_Huybrechts, Patrice_Ossona_de_Mendez\"}, {\"year\": 1967, \"eff\": 9, \"names\": \"Saeid_Abbasbandy, David_J._C._MacKay, Annette_Huber-Klawitter, Giuseppe_Melfi, James_Colliander, Alberto_Cattaneo, Greg_Kuperberg, Benson_Farb, Kevin_Ford_(mathematician)\"}, {\"year\": 1968, \"eff\": 7, \"names\": \"Toufik_Mansour, Sara_Billey, Dominic_Joyce, Julius_Borcea, Bjorn_Poonen, Kevin_Buzzard, Wendelin_Werner\"}, {\"year\": 1969, \"eff\": 14, \"names\": \"Alfie_Agnew, Paul_Biran, Shinichi_Mochizuki, Venansius_Baryamureeba, Alice_Guionnet, Misha_Verbitsky, Rapha\\u00ebl_Cerf, Andrei_Okounkov, Bogdan_Suceav\\u0103, Jeremy_Kahn, Jani_Hirvinen, Kristin_Lauter, Rapha\\u00ebl_Rouquier, Hinke_Osinga\"}, {\"year\": 1970, \"eff\": 12, \"names\": \"Christopher_Hacon, Michel_Mandjes, Ravi_Vakil, Ian_Agol, Daniel_Lewin, Elon_Lindenstrauss, Peter_Kr\\u00fcger_(film_director), Stanislav_Smirnov, Akiko_Iwasaki, Emmanuel_Grenier, Brian_Conrad, Peter_Balazs_(mathematician)\"}, {\"year\": 1971, \"eff\": 5, \"names\": \"Kaushal_Kumar_Verma, Ruth_Lawrence, Daniel_J._Bernstein, Aaron_Robertson_(mathematician), Xavier_Buff\"}, {\"year\": 1972, \"eff\": 10, \"names\": \"Konstantin_Sonin, Gan_Wee_Teck, Serguei_Barannikov, Christopher_Skinner, Ng\\u00f4_B\\u1ea3o_Ch\\u00e2u, Edray_Herber_Goins, Trachette_Jackson, Ernest_S._Croot_III, Giuseppe_Mingione, Andrea_Malchiodi\"}, {\"year\": 1973, \"eff\": 13, \"names\": \"Anand_Kumar, Carlos_Gustavo_Moreira, Karel_Jane\\u010dek, Stefan_Nemirovski, Matthias_Kohl, Ilka_Agricola, Olga_Holtz, C\\u00e9dric_Villani, Agata_Smoktunowicz, Scott_Sheffield, Isabelle_Gallagher, Alexander_Kuznetsov_(mathematician), Kannan_Soundararajan\"}, {\"year\": 1974, \"eff\": 5, \"names\": \"Pavel_Grinfeld, William_A._Stein, Peter_Friz, Manjul_Bhargava, Chiu-Chu_Melissa_Liu\"}, {\"year\": 1975, \"eff\": 9, \"names\": \"Mark_D._McDonnell, Assaf_Naor, Arnaud_Ch\\u00e9ritat, Laurent_Fargues, Alexei_Borodin, Roman_Bezrukavnikov, Terence_Tao, Laure_Saint-Raymond, Martin_Hairer\"}, {\"year\": 1976, \"eff\": 5, \"names\": \"Nalini_Anantharaman, Timothy_Browning, Dan_Margalit_(mathematician), Baruch_Barzel, Ioana_Dumitriu\"}, {\"year\": 1977, \"eff\": 9, \"names\": \"Ovidiu_Savin, Ben_Green_(mathematician), Reza_Sadeghi_(mathematician), Maryam_Mirzakhani, Emmanuel_Breuillard, Rosi_Sexton, Daniel_Biss, Harald_Helfgott, Jacob_Lurie\"}, {\"year\": 1978, \"eff\": 10, \"names\": \"Catherine_Meusburger, Nate_Ackerman, Carina_Curto, David_Spivak, Daniel_Kr\\u00e1\\u013e, Death_of_Gareth_Williams, Philip_Gressman, Peter_Keevash, Christoph_Koutschan, Ciprian_Manolescu\"}, {\"year\": 1979, \"eff\": 7, \"names\": \"Aleksandr_Khazanov, Artur_Avila, Gr\\u00e9gory_Miermont, Roman_Holowinsky, Fernando_Cod\\u00e1_Marques, Andrew_Putman, Sourav_Chatterjee\"}, {\"year\": 1980, \"eff\": 6, \"names\": \"Toby_Gee, Richard_Nickl, Mike_Develin, Pawel_Bartoszek, Nikolai_Durov, Klavdija_Kutnar\"}, {\"year\": 1981, \"eff\": 4, \"names\": \"Adrian_Ioana, Melih_Onu\\u015f, Vincent_Calvez, Akshay_Venkatesh\"}, {\"year\": 1982, \"eff\": 2, \"names\": \"Kirsten_Dunst, Florian_Neukart\"}, {\"year\": 1983, \"eff\": 3, \"names\": \"Thomas_Willwacher, Julia_Fischer, Pamela_E._Harris\"}, {\"year\": 1984, \"eff\": 6, \"names\": \"Ben_Delo, Mikhail_Lobanov, Alessio_Figalli, Christian_Reiher, Ivan_Corwin, Olivia_Caramello\"}, {\"year\": 1985, \"eff\": 2, \"names\": \"Selenne_Ba\\u00f1uelos, Kaisa_Matom\\u00e4ki\"}, {\"year\": 1986, \"eff\": 3, \"names\": \"Aaron_Pixton, Doria_Tillier, Lily_Serna\"}, {\"year\": 1987, \"eff\": 1, \"names\": \"Jack_Thorne_(mathematician)\"}, {\"year\": 1988, \"eff\": 1, \"names\": \"Jacob_Tsimerman\"}, {\"year\": 1989, \"eff\": 1, \"names\": \"Michael_Viscardi\"}, {\"year\": 1990, \"eff\": 0, \"names\": \"\"}, {\"year\": 1991, \"eff\": 1, \"names\": \"Anna_Kiesenhofer\"}, {\"year\": 1992, \"eff\": 0, \"names\": \"\"}]}}, {\"mode\": \"vega-lite\"});\n",
       "</script>"
      ],
      "text/plain": [
       "alt.Chart(...)"
      ]
     },
     "execution_count": 22,
     "metadata": {},
     "output_type": "execute_result"
    }
   ],
   "source": [
    "alt.Chart.from_dict({\n",
    "    \"data\": {\n",
    "    \"values\" : data    \n",
    "    # \"url\" : \"http://localhost:8888/files/astronomers/notebooks_jupyter/dbpedia_exploration/data/birth_years_grouped_y.json\"\n",
    "    },\n",
    "    \"mark\": \"bar\",\n",
    "    # {\n",
    "    #     \"type\":\"bar\",\n",
    "    #     \"tooltip\": {\"content\": \"data\"}\n",
    "    # }, \n",
    "    \"encoding\": {\n",
    "        \"x\": {\"field\": \"year\", \"type\": \"ordinal\", \n",
    "              \"axis\": {\"values\": [1450, 1500, 1550, 1600, 1650, 1700 ,1750, 1800]}}, # ordinal, quantitative\n",
    "         \"y\": {\"field\": \"eff\", \"type\": \"quantitative\"},\n",
    "        \"tooltip\": [\n",
    "      {\"field\": \"year\", \"type\": \"quantitative\", \"title\": \"Year\"},\n",
    "     {\"field\": \"names\", \"type\": \"nominal\", \"title\": \"Names\"}\n",
    "    ]\n",
    "    },\n",
    "    \"width\": 1000, \n",
    "    \"height\": 300\n",
    "}\n",
    "\n",
    ")"
   ]
  },
  {
   "cell_type": "code",
   "execution_count": 24,
   "id": "0f07ad64-89d4-4c9a-a9fb-ddee8aa0621c",
   "metadata": {
    "tags": []
   },
   "outputs": [
    {
     "name": "stdout",
     "output_type": "stream",
     "text": [
      "['0940', '1048', '1256'] ['1989', '1991', '1993']\n"
     ]
    },
    {
     "data": {
      "text/plain": [
       "('0940', '1993')"
      ]
     },
     "execution_count": 24,
     "metadata": {},
     "output_type": "execute_result"
    }
   ],
   "source": [
    "ys = [y[0] for y in r]; print (ys[:3], ys[-3:])\n",
    "min(ys), max(ys)"
   ]
  },
  {
   "cell_type": "code",
   "execution_count": 26,
   "id": "d608e86e-3b94-410e-ad24-c26a9546c71d",
   "metadata": {
    "tags": []
   },
   "outputs": [
    {
     "data": {
      "text/plain": [
       "(53,\n",
       " [(940, 959), (960, 979), (980, 999)],\n",
       " [(1940, 1959), (1960, 1979), (1980, 1999)])"
      ]
     },
     "execution_count": 26,
     "metadata": {},
     "output_type": "execute_result"
    }
   ],
   "source": [
    "periode = 20\n",
    "per_l = list(range(940, 1993, periode))\n",
    "per_ll = [(l, l+ periode -1) for l in per_l]\n",
    "len(per_ll),per_ll[:3],per_ll[-3:]"
   ]
  },
  {
   "cell_type": "code",
   "execution_count": 46,
   "id": "06c79130-c922-463b-928e-47bc64bade5b",
   "metadata": {
    "tags": []
   },
   "outputs": [
    {
     "data": {
      "text/plain": [
       "[['940_959', 1, [\"Abu_al-Wafa'_Buzjani\"]],\n",
       " ['960_979', 0, []],\n",
       " ['980_999', 0, []],\n",
       " ['1000_1019', 0, []],\n",
       " ['1020_1039', 0, []],\n",
       " ['1040_1059', 1, ['Omar_Khayyam']],\n",
       " ['1060_1079', 0, []],\n",
       " ['1080_1099', 0, []],\n",
       " ['1100_1119', 0, []],\n",
       " ['1120_1139', 0, []]]"
      ]
     },
     "execution_count": 46,
     "metadata": {},
     "output_type": "execute_result"
    }
   ],
   "source": [
    "per_r = []\n",
    "for a in per_ll:\n",
    "    #print(a)\n",
    "    label = f'{a[0]}_{a[1]}'\n",
    "    eff = 0 \n",
    "    l = []\n",
    "    for v in r_int:\n",
    "        #print(v)\n",
    "        if v[0] >= a[0] and v[0] <= a[1] :\n",
    "            eff = eff + v[1]\n",
    "            l.extend(v[2].split(','))               \n",
    "\n",
    "    per_r.append([label, eff, l])\n",
    "\n",
    "per_r[:10]        "
   ]
  },
  {
   "cell_type": "code",
   "execution_count": 47,
   "id": "56b6427d-1670-4811-974a-d37d8f2d75bd",
   "metadata": {
    "tags": []
   },
   "outputs": [
    {
     "data": {
      "text/plain": [
       "(53, \"Abu_al-Wafa'_Buzjani\")"
      ]
     },
     "execution_count": 47,
     "metadata": {},
     "output_type": "execute_result"
    }
   ],
   "source": [
    "labels = ['<br>'.join([m.strip() for m in i[2]]) for i in per_r] ; len(labels),labels[0]"
   ]
  },
  {
   "cell_type": "code",
   "execution_count": 48,
   "id": "bc0489ef-5f0f-4eb1-84db-c2469ead12e0",
   "metadata": {
    "tags": []
   },
   "outputs": [
    {
     "data": {
      "text/plain": [
       "(53, [\"Abu_al-Wafa'_Buzjani\"])"
      ]
     },
     "execution_count": 48,
     "metadata": {},
     "output_type": "execute_result"
    }
   ],
   "source": [
    "labels = [[m.strip() for m in i[2]] for i in per_r] ; len(labels),labels[0]"
   ]
  },
  {
   "cell_type": "code",
   "execution_count": 76,
   "id": "815c2095-f63a-463b-bf05-88dc566cfa3e",
   "metadata": {
    "tags": []
   },
   "outputs": [
    {
     "ename": "ValueError",
     "evalue": "Mime type rendering requires nbformat>=4.2.0 but it is not installed",
     "output_type": "error",
     "traceback": [
      "\u001b[0;31m---------------------------------------------------------------------------\u001b[0m",
      "\u001b[0;31mValueError\u001b[0m                                Traceback (most recent call last)",
      "Cell \u001b[0;32mIn[76], line 35\u001b[0m\n\u001b[1;32m     26\u001b[0m fig\u001b[38;5;241m.\u001b[39mupdate_layout(hovermode\u001b[38;5;241m=\u001b[39m\u001b[38;5;124m\"\u001b[39m\u001b[38;5;124mx unified\u001b[39m\u001b[38;5;124m\"\u001b[39m,\n\u001b[1;32m     27\u001b[0m         font\u001b[38;5;241m=\u001b[39m\u001b[38;5;28mdict\u001b[39m(\n\u001b[1;32m     28\u001b[0m                 family\u001b[38;5;241m=\u001b[39m\u001b[38;5;124m\"\u001b[39m\u001b[38;5;124mCourier New, monospace\u001b[39m\u001b[38;5;124m\"\u001b[39m,\n\u001b[0;32m   (...)\u001b[0m\n\u001b[1;32m     31\u001b[0m         )\n\u001b[1;32m     32\u001b[0m                  )\n\u001b[1;32m     34\u001b[0m \u001b[38;5;66;03m# Noter les fonctionnalités permettant d'interagir avec le graphique\u001b[39;00m\n\u001b[0;32m---> 35\u001b[0m \u001b[43mfig\u001b[49m\u001b[38;5;241;43m.\u001b[39;49m\u001b[43mshow\u001b[49m\u001b[43m(\u001b[49m\u001b[43m)\u001b[49m\n",
      "File \u001b[0;32m~/miniconda3/envs/py310_data_analysis/lib/python3.10/site-packages/plotly/basedatatypes.py:3390\u001b[0m, in \u001b[0;36mBaseFigure.show\u001b[0;34m(self, *args, **kwargs)\u001b[0m\n\u001b[1;32m   3357\u001b[0m \u001b[38;5;250m\u001b[39m\u001b[38;5;124;03m\"\"\"\u001b[39;00m\n\u001b[1;32m   3358\u001b[0m \u001b[38;5;124;03mShow a figure using either the default renderer(s) or the renderer(s)\u001b[39;00m\n\u001b[1;32m   3359\u001b[0m \u001b[38;5;124;03mspecified by the renderer argument\u001b[39;00m\n\u001b[0;32m   (...)\u001b[0m\n\u001b[1;32m   3386\u001b[0m \u001b[38;5;124;03mNone\u001b[39;00m\n\u001b[1;32m   3387\u001b[0m \u001b[38;5;124;03m\"\"\"\u001b[39;00m\n\u001b[1;32m   3388\u001b[0m \u001b[38;5;28;01mimport\u001b[39;00m \u001b[38;5;21;01mplotly\u001b[39;00m\u001b[38;5;21;01m.\u001b[39;00m\u001b[38;5;21;01mio\u001b[39;00m \u001b[38;5;28;01mas\u001b[39;00m \u001b[38;5;21;01mpio\u001b[39;00m\n\u001b[0;32m-> 3390\u001b[0m \u001b[38;5;28;01mreturn\u001b[39;00m \u001b[43mpio\u001b[49m\u001b[38;5;241;43m.\u001b[39;49m\u001b[43mshow\u001b[49m\u001b[43m(\u001b[49m\u001b[38;5;28;43mself\u001b[39;49m\u001b[43m,\u001b[49m\u001b[43m \u001b[49m\u001b[38;5;241;43m*\u001b[39;49m\u001b[43margs\u001b[49m\u001b[43m,\u001b[49m\u001b[43m \u001b[49m\u001b[38;5;241;43m*\u001b[39;49m\u001b[38;5;241;43m*\u001b[39;49m\u001b[43mkwargs\u001b[49m\u001b[43m)\u001b[49m\n",
      "File \u001b[0;32m~/miniconda3/envs/py310_data_analysis/lib/python3.10/site-packages/plotly/io/_renderers.py:396\u001b[0m, in \u001b[0;36mshow\u001b[0;34m(fig, renderer, validate, **kwargs)\u001b[0m\n\u001b[1;32m    391\u001b[0m         \u001b[38;5;28;01mraise\u001b[39;00m \u001b[38;5;167;01mValueError\u001b[39;00m(\n\u001b[1;32m    392\u001b[0m             \u001b[38;5;124m\"\u001b[39m\u001b[38;5;124mMime type rendering requires ipython but it is not installed\u001b[39m\u001b[38;5;124m\"\u001b[39m\n\u001b[1;32m    393\u001b[0m         )\n\u001b[1;32m    395\u001b[0m     \u001b[38;5;28;01mif\u001b[39;00m \u001b[38;5;129;01mnot\u001b[39;00m nbformat \u001b[38;5;129;01mor\u001b[39;00m Version(nbformat\u001b[38;5;241m.\u001b[39m__version__) \u001b[38;5;241m<\u001b[39m Version(\u001b[38;5;124m\"\u001b[39m\u001b[38;5;124m4.2.0\u001b[39m\u001b[38;5;124m\"\u001b[39m):\n\u001b[0;32m--> 396\u001b[0m         \u001b[38;5;28;01mraise\u001b[39;00m \u001b[38;5;167;01mValueError\u001b[39;00m(\n\u001b[1;32m    397\u001b[0m             \u001b[38;5;124m\"\u001b[39m\u001b[38;5;124mMime type rendering requires nbformat>=4.2.0 but it is not installed\u001b[39m\u001b[38;5;124m\"\u001b[39m\n\u001b[1;32m    398\u001b[0m         )\n\u001b[1;32m    400\u001b[0m     ipython_display\u001b[38;5;241m.\u001b[39mdisplay(bundle, raw\u001b[38;5;241m=\u001b[39m\u001b[38;5;28;01mTrue\u001b[39;00m)\n\u001b[1;32m    402\u001b[0m \u001b[38;5;66;03m# external renderers\u001b[39;00m\n",
      "\u001b[0;31mValueError\u001b[0m: Mime type rendering requires nbformat>=4.2.0 but it is not installed"
     ]
    }
   ],
   "source": [
    "### Représentation graphique: graphique à barres\n",
    "# https://plotly.com/python/bar-charts/\n",
    "\n",
    "a_x = [i[0] for i in per_r]\n",
    "a_y = [i[1] for i in per_r]\n",
    "\n",
    "\n",
    "    \n",
    "fig = px.bar(x=a_x, y=a_y, labels={'x':'Vingt ans','y':'Effectifs'}\n",
    "        # hover_name=hover\n",
    "         )\n",
    "\n",
    "\n",
    "# Changer l'angle des x-labels\n",
    "fig.update_xaxes(tickangle=60, )\n",
    "\n",
    "\n",
    "fig.update_traces(\n",
    "    customdata = labels,\n",
    "    # textposition=\"top center\",\n",
    "    hovertemplate=\"<br>\".join([\n",
    "        \"%{y} personnes:\",\n",
    "        \"%{customdata}\",\n",
    "    ]))\n",
    "\n",
    "fig.update_layout(hovermode=\"x unified\",\n",
    "        font=dict(\n",
    "                family=\"Courier New, monospace\",\n",
    "                size=10,  # Set the font size here\n",
    "                color=\"RebeccaPurple\"\n",
    "        )\n",
    "                 )\n",
    "    \n",
    "# Noter les fonctionnalités permettant d'interagir avec le graphique\n",
    "fig.show()"
   ]
  },
  {
   "cell_type": "code",
   "execution_count": null,
   "id": "8827fd5d-9ea7-4b58-9bd5-6a1a0da12694",
   "metadata": {},
   "outputs": [],
   "source": []
  }
 ],
 "metadata": {
  "kernelspec": {
   "display_name": "py310_data_analysis",
   "language": "python",
   "name": "py310_data_analysis"
  },
  "language_info": {
   "codemirror_mode": {
    "name": "ipython",
    "version": 3
   },
   "file_extension": ".py",
   "mimetype": "text/x-python",
   "name": "python",
   "nbconvert_exporter": "python",
   "pygments_lexer": "ipython3",
   "version": "3.10.9"
  }
 },
 "nbformat": 4,
 "nbformat_minor": 5
}
